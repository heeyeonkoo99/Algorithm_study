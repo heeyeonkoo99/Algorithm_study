{
 "cells": [
  {
   "cell_type": "markdown",
   "metadata": {},
   "source": [
    "# <span style=\"color:purple\">DFS & BFS유형</span>"
   ]
  },
  {
   "cell_type": "markdown",
   "metadata": {},
   "source": [
    "### <문제> '음료수 얼려 먹기'\n",
    "#### N X M 크기의 얼음틀이 있다. 구멍이 뚫려 있는 부분은 0, 칸막이가 존재하는 부분은 1로 되어있다. 구멍이 뚫려있는 부분끼리 상,하,좌,우로 붙어 있는 경우 서로 연결되어있는 것으로 간주한다. 이때 얼음틀의 모양이 주어졌을때 생성되는 총 아이스크림의 개수를 구한다.\n",
    "#### DFS를 활용하는 알고리즘은 다음과 같다.\n",
    "#### 1. 특정한 지점의 주변 상,하,좌,우를 살펴본 뒤에 주변 지점 중에서 값이 '0'이면서 아직 방문하지 않은 지점이 있다면 해당 지점을 방문한다.\n",
    "#### 2. 방문한 지점에서 다시 상,하,좌,우를 살펴보면서 방문을 진행하는 과정을 반복하면, 연결된 모든 지점을 방문할수 있다. \n",
    "#### 3. 모든 노드에 대하여 1-2번의 과정을 반복하며, 방문하지 않은 지점의 수를 카운트한다. "
   ]
  },
  {
   "cell_type": "code",
   "execution_count": null,
   "metadata": {},
   "outputs": [],
   "source": [
    "#DFS로 특정 노드를 방문하고 연결된 모든 노드들도 방문\n",
    "def dfs(x,y):\n",
    "    #주어진 범위를 범어나는 경우에는 즉시 종료\n",
    "    if x<=-1 or x>=n or y<=-1 or y>=m:\n",
    "        return False\n",
    "    #현재 노드를 앚기 방문하지 않았다면\n",
    "    if graph[x][y]==0:\n",
    "        #해당 노드 방문처리\n",
    "        graph[x][y]==1\n",
    "        #상,하,좌,우의 위치들도 모두 재귀적으로 호출\n",
    "        dfs(x-1,y)\n",
    "        dfs(x,t-1)\n",
    "        dfs(x+1,y)\n",
    "        dfs(x,y+1)\n",
    "        return True\n",
    "    return False\n",
    "\n",
    "#----------------------------------------------\n",
    "\n",
    "# N,M을 공백을 기준으로 구분하여 입력 받기\n",
    "n,m=map(int,input().split())\n",
    "\n",
    "#2차원 리스트의 맵 정보 입력 받기\n",
    "graph=[]\n",
    "for i in range(n):\n",
    "    graph.append(list(map(int,input())))\n",
    "\n",
    "#모든 노드(위치)에 대하여 음료수 채우기\n",
    "result=0\n",
    "for i in range(n):\n",
    "    for j in range(m):\n",
    "        #현재 위치에서 DFS 수행\n",
    "        if dfs(i,j)==True:\n",
    "            result+=1\n",
    "print(result)# 정답 출력"
   ]
  },
  {
   "cell_type": "markdown",
   "metadata": {},
   "source": [
    "### <문제> '미로 탈출'\n",
    "#### N X M 크기의 직사각형 크기의 미로에 갇혔다. 미로에는 여러마리의 괴물이 있어 이를 피해 탈출해야 한다. 현재 위치는 (1,1)이며 미로의 출구는 (N,M)의 위치에 존재하며 한번에 한 칸씩 이동할수 있다. 이때 괴물이 있는 부분은 0으로, 괴물이 없는 부분은 1로 표시되어 있다. 미로는 반드시 탈출할수 있는 형태로 제시되어있다.\n",
    "#### 탈출하기 위해 움직여야 하는 최소 칸의 개수를 구한다. 칸을 셀때는 시작/마지막칸을 모두 포함해서 계산한다.\n",
    "#### BFS는 시작 지점에서 가까운 노드부터 차례대로 그래프의 모든 노드를 탐색한다. 상,하,좌,우로 연결된 모든 노드로의 거리가 1로 동일하다. => 따라서 (1,1)지점부터 BFS를 수행하여 모든 노드의 최단 거리값을 기록하면 해결할수 있다."
   ]
  },
  {
   "cell_type": "code",
   "execution_count": null,
   "metadata": {},
   "outputs": [],
   "source": [
    "# BFS 소스코드 구현\n",
    "def bfs(x,y):\n",
    "    #큐(Queue) 구현을 위해 deque 라이브러리 사용\n",
    "    queue=deque()\n",
    "    queue.append((x,y))\n",
    "    #큐가 빌 때까지 반복하기\n",
    "    while queue:\n",
    "        x,y=queue.popleft()\n",
    "        #현재 위치에서 4가지 방향으로의 위치 확인\n",
    "        for i in range(4):\n",
    "            nx=x+dx[i]\n",
    "            ny=y+dy[i]\n",
    "            #미로 찾기 공간을 벗어난 경우 무시\n",
    "            if nx<0 or nx>=n or ny<0 or ny>=m:\n",
    "                continue\n",
    "            #벽인 경우 무시\n",
    "            if graph[nx][ny]==0:\n",
    "                continue\n",
    "            #해당 노드를 처음 방문하는 경우에만 최단 거리 기록\n",
    "            if graph[nx][ny]==1:\n",
    "                graph[nx][ny]=graph[x][y]+1\n",
    "                queue.append((nx,ny))\n",
    "        #가장 오른쪽 아래까지의 최단 거리 반환\n",
    "        return graph[n-1][m-1]\n",
    "    \n",
    "#----------------------------------------------\n",
    "from collections import deque\n",
    "\n",
    "#N,M을 공백을 기준으로 구분하여 입력 받기\n",
    "n,m=map(int,input().split())\n",
    "#2차원 리스트의 맵 정보 입력 받기\n",
    "graph=[]\n",
    "for i in range(n):\n",
    "    graph.append(list(map(int,input())))\n",
    "\n",
    "# 이동할 네 가지 방향 정의 (상,하,좌,우)\n",
    "dx=[-1,1,0,0]\n",
    "dy=[0,0,-1,1]\n",
    "\n",
    "#BFS를 수행한 결과 출력\n",
    "print(bfs(0,0))"
   ]
  },
  {
   "cell_type": "code",
   "execution_count": null,
   "metadata": {},
   "outputs": [],
   "source": []
  }
 ],
 "metadata": {
  "kernelspec": {
   "display_name": "Python 3",
   "language": "python",
   "name": "python3"
  },
  "language_info": {
   "codemirror_mode": {
    "name": "ipython",
    "version": 3
   },
   "file_extension": ".py",
   "mimetype": "text/x-python",
   "name": "python",
   "nbconvert_exporter": "python",
   "pygments_lexer": "ipython3",
   "version": "3.8.5"
  }
 },
 "nbformat": 4,
 "nbformat_minor": 4
}

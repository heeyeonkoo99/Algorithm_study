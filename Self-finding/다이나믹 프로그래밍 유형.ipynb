{
 "cells": [
  {
   "cell_type": "markdown",
   "metadata": {},
   "source": [
    "# <span style=\"color:purple\">다이나믹 프로그래밍 유형</span>"
   ]
  },
  {
   "cell_type": "code",
   "execution_count": 1,
   "metadata": {},
   "outputs": [
    {
     "name": "stdout",
     "output_type": "stream",
     "text": [
      "3\n"
     ]
    }
   ],
   "source": [
    "#피보나치수열\n",
    "def fibo(x):\n",
    "    if x==1 or x==2:\n",
    "        return 1\n",
    "    return fibo(x-1)+fibo(x-2)\n",
    "\n",
    "print(fibo(4))"
   ]
  },
  {
   "cell_type": "code",
   "execution_count": 2,
   "metadata": {},
   "outputs": [
    {
     "name": "stdout",
     "output_type": "stream",
     "text": [
      "218922995834555169026\n"
     ]
    }
   ],
   "source": [
    "#피보나치수열: 탑다운 다이나믹 프로그래밍 소스코드\n",
    "#-----------------\n",
    "#한번 계산된 겨로가를 메모이제이션(Memoization)하기위한 리스트 초기화\n",
    "d=[0]*100\n",
    "\n",
    "#피보나치 함수(Fibonacci Function)를 재귀함수로 구현(탐다운 다이나믹 프로그래밍)\n",
    "def fibo(x):\n",
    "    #종료 조건(1 혹은 2일때 1을 반환)\n",
    "    if x==1 or x==2:\n",
    "        return 1\n",
    "    #이미 계산한 적 있는 문제라면 그대로 반환\n",
    "    if d[x]!=0:\n",
    "        return d[x]\n",
    "    #아직 계산하지 않은 문제라면 점화식에 따라서 피보나치 결과 반환\n",
    "    d[x]=fibo(x-1)+fibo(x-2)\n",
    "    return d[x]\n",
    "print(fibo(99))"
   ]
  },
  {
   "cell_type": "code",
   "execution_count": 3,
   "metadata": {},
   "outputs": [
    {
     "name": "stdout",
     "output_type": "stream",
     "text": [
      "218922995834555169026\n"
     ]
    }
   ],
   "source": [
    "#피보나치수열: 바텀업 다이나믹 프로그래밍 소스코드\n",
    "#-----------------\n",
    "#앞서 계산된 결과를 저장하기 위한 DP 테이블 초기화\n",
    "d=[0]* 100\n",
    "\n",
    "#첫번째 피보나치 수와 두 번째 피보나치 수는 1\n",
    "d[1]=1\n",
    "d[2]=1\n",
    "n=99\n",
    "\n",
    "#피보나치 함수(Fibonacci Function) 반복문으로 구현(바텀업 다이나믹 프로그래밍)\n",
    "for i in range(3,n+1):\n",
    "    d[i]=d[i-1]+d[i-2]\n",
    "    \n",
    "print(d[n])"
   ]
  },
  {
   "cell_type": "markdown",
   "metadata": {},
   "source": [
    "### <문제> ''개미 전사\"\n",
    "#### 개미 전사를 위해 식량창고 N개에 대한 정보가 주어졌을때 얻을 수 있는 식량의 최댓값을 구하는 프로그램을 작성한다."
   ]
  },
  {
   "cell_type": "code",
   "execution_count": 8,
   "metadata": {},
   "outputs": [
    {
     "name": "stdout",
     "output_type": "stream",
     "text": [
      "5\n",
      "1 2 3 4 5\n",
      "9\n"
     ]
    }
   ],
   "source": [
    "#정수 N을 입력 받기\n",
    "n=int(input())\n",
    "#모든 식량 정보 입력 받기\n",
    "array=list(map(int,input().split()))\n",
    "\n",
    "#앞서 계산된 결과를 저장하기 위한 DP 테이블 초기화\n",
    "d=[0]*100\n",
    "\n",
    "#다이나믹 프로그래밍 (Dynamic Programming) 진행(바텀업)\n",
    "d[0]=array[0]\n",
    "d[1]=max(array[0],array[1])\n",
    "for i in range(2,n):\n",
    "    d[i]=max(d[i-1],d[i-2]+array[i])\n",
    "    \n",
    "#계산된 결과 출력\n",
    "print(d[n-1])"
   ]
  },
  {
   "cell_type": "markdown",
   "metadata": {},
   "source": [
    "### <문제> ''1로 만들기\"\n",
    "#### 정수 x가 주어졌을때, 정수 x에 사용할수 있는 연산은 다음과 같이 4가지이다.\n",
    "#### 1. x가 5로 나눠 떨어지면, 5로 나눈다.\n",
    "#### 2. x가 3로 나눠 떨어지면, 3로 나눈다.\n",
    "#### 3. x가 2로 나눠 떨어지면, 2로 나눈다.\n",
    "#### 4. x에서 1을 뺀다.\n",
    "#### 정수 x가 주어졌을때 연산 4개를 적절히 사용해서 값을 1로 만든다.\n",
    "##### *greedy와는 다름!"
   ]
  },
  {
   "cell_type": "code",
   "execution_count": null,
   "metadata": {},
   "outputs": [],
   "source": [
    "#정수 x를 입력 받기\n",
    "x=int(input())\n",
    "\n",
    "#앞서 계산된 결과를 저장하기 위한 DP 테이블 초기화\n",
    "d=[0]*30001\n",
    "\n",
    "#다이나믹 프로그래밍 (Dynammic Programming) 진행(바텀업)\n",
    "for i in range(2,x+1):\n",
    "    #현재의 수에서 1을 빼는 경우\n",
    "    d[i]=d[i-1]+1\n",
    "    #현재의 수가 2로 나누어 떨어지는 경우\n",
    "    if i%2==0:\n",
    "        d[i]=min(d[i],d[i//2]+1)\n",
    "    #현재의 수가 3으로 나누어 떨어지는 경우\n",
    "    if i%3==0:\n",
    "        d[i]=min(d[i],d[i//3]+1)\n",
    "    #현재의 수가 5로 나누어 떨어지는 경우\n",
    "    if i%5==0:\n",
    "        d[i]=min(d[i],d[i//5]+1)        \n",
    "        \n",
    "print(d[x])"
   ]
  },
  {
   "cell_type": "markdown",
   "metadata": {},
   "source": [
    "### <문제> \"효율적인 화폐 구성\"\n",
    "#### N가지 종류의 화폐가 있다. 이 화폐들의 개수를 최소한으로 이용해서 그 가치의 합이 M원이 되도록 하려고 하는데 이때 각 종류의 화폐는 몇개라도 사용할수 있다.\n",
    "#### 예를 들어 2원,3원 단위의 화폐가 있을때는 15원을 만들기 위해 3원을 5개 사용하는 것이 가장 최소한의 화폐 개수이다.=>M원을 만들기 위한 최소한의 화폐 개수를 출력하는 프로그램을 작성하라."
   ]
  },
  {
   "cell_type": "code",
   "execution_count": null,
   "metadata": {},
   "outputs": [],
   "source": [
    "#정수 N,M을 입력 받기\n",
    "n,m=map(int,input().split())\n",
    "#N개의 화폐 단위 정보를 입력 받기\n",
    "array=[]\n",
    "for i in range(n):\n",
    "    array.append(int(input()))\n",
    "    \n",
    "#한번 계산된 결과를 저장하기 위한 DP 테이블 초기화\n",
    "d=[10001]*(m+1)\n",
    "\n",
    "#다이나믹 프로그래밍(Dynamic Programming) 진행(바텀업)\n",
    "d[0]=0\n",
    "for i in range(n):\n",
    "    for j in range(array[i],m+1):\n",
    "        if d[j-array[i]]!=10001:#(i-k)원을 만드는 방법이 존재하는 경우\n",
    "            d[j]=min(d[j],d[j-array[i]]+1)\n",
    "            \n",
    "#계산된 결과 출력\n",
    "if d[m]==10001: #최종적으로 M원을 만드는 방법이 없는 경우\n",
    "    print(-1)\n",
    "else:\n",
    "    print(d[m])"
   ]
  },
  {
   "cell_type": "markdown",
   "metadata": {},
   "source": [
    "### <문제> \"금광\"\n",
    "#### n x m 크기의 금광이 있다. 금광은 1x1 크기의 칸으로 나누어져 있으며, 각 칸은 특정한 크기의 금이 들어있다. 채굴자는 첫번째 열부터 출발하여 금을 캐기 시작한다. 맨 처음에는 첫번째 열의 어느 행에서든 출발할수 있다. 이후 m-1번에 거렻서 매번 오른쪽 위, 오른쪽, 오른쪽 아래 3가지 중 하나의 위치로 이동해야 한다. 결과적으로 채굴자가 얻을 수 있는 금의 최대 크기를 출력하는 프로그램을 작성해라."
   ]
  },
  {
   "cell_type": "code",
   "execution_count": null,
   "metadata": {},
   "outputs": [],
   "source": [
    "#테스트 케이스(Test Case)입력\n",
    "for tc in range(int(input())):\n",
    "    #금광 정보 입력\n",
    "    n,m=map(int,input().split())\n",
    "    array=list(map(int,input().split()))\n",
    "    #다이나믹 프로그래밍을 위한 2차원 DP 테이블 초기화\n",
    "    dp=[]\n",
    "    index=0\n",
    "    for i in range(n):\n",
    "        dp.append(array[index:index+m])\n",
    "        index+=m\n",
    "    #다이나믹 프로그래밍 진행\n",
    "    for j in range(1,m):\n",
    "        for i in range(n):\n",
    "            #왼쪽 위에서 오는 경우\n",
    "            if i==0:left_up=0\n",
    "            else: left_up=dp[i-1][j-1]\n",
    "            #왼쪽 아래에서 오는 경우\n",
    "            if i==n-1:left_down=0\n",
    "            else: left_down=dp[i+1][j-1]\n",
    "            #왼쪽에서 오는 경우\n",
    "            left=dp[i][j-1]\n",
    "            dp[i][j]=dp[i][j]+max(left_up,left_down,left)\n",
    "    result=0\n",
    "    for i in range(n):\n",
    "        result=max(result,dp[i][m-1])#가장 오른쪽열에서 가장 큰값을 정한다!\n",
    "    print(result)"
   ]
  },
  {
   "cell_type": "markdown",
   "metadata": {},
   "source": [
    "### <문제> \"병사 배치하기\"\n",
    "#### N명의 병사가 무작위로 나열되어 있고 각 병사는 특정한 값의 전투력을 보유하고 있다. 병사를 배치할때는 전투력이 높은 병사가 앞쪽에 오도록 내림차순으로 배치를 하고자 한다. 또한 배치과정에서는 특정한 위치에 있는 병사를 열외시키는 방법을 이용한다. 그러면서도 남아 있는 병사의 수가 최대가 되도록 하고싶다.\n",
    "#### 이 문제의 기본 아이디어는 가장 긴 증가하는 부분 수열로 알려진 전형적인 DP의 아이디어와 같다."
   ]
  },
  {
   "cell_type": "code",
   "execution_count": null,
   "metadata": {},
   "outputs": [],
   "source": [
    "n=int(input())\n",
    "array=list(map(int,input().split()))\n",
    "#순서를 뒤집어 '최장 증가 부분 수열'문제로 변환\n",
    "array.reverse()\n",
    "\n",
    "#다이나믹 프로그래밍을 위한 1차원 DP 테이블 초기화\n",
    "dp=[1]*n\n",
    "\n",
    "#가장 긴 증가하는 부분 수열(LIS) 알고리즘 수행\n",
    "for i in range(1,n):\n",
    "    for j in range(0,i):\n",
    "        if array[j]<array[i]:\n",
    "            dp[i]=max(dp[i],dp[j]+1)\n",
    "#열외해야 하는 병사의 최소 수를 출력\n",
    "\n",
    "print(n-max(dp))"
   ]
  }
 ],
 "metadata": {
  "kernelspec": {
   "display_name": "Python 3",
   "language": "python",
   "name": "python3"
  },
  "language_info": {
   "codemirror_mode": {
    "name": "ipython",
    "version": 3
   },
   "file_extension": ".py",
   "mimetype": "text/x-python",
   "name": "python",
   "nbconvert_exporter": "python",
   "pygments_lexer": "ipython3",
   "version": "3.8.5"
  }
 },
 "nbformat": 4,
 "nbformat_minor": 4
}

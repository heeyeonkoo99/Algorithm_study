{
 "cells": [
  {
   "cell_type": "markdown",
   "metadata": {},
   "source": [
    "# <span style=\"color:purple\">최단경로 알고리즘 유형</span>"
   ]
  },
  {
   "cell_type": "markdown",
   "metadata": {},
   "source": [
    "### 다익스트라 알고리즘: 간단한 구현 방법(Python)"
   ]
  },
  {
   "cell_type": "code",
   "execution_count": null,
   "metadata": {},
   "outputs": [],
   "source": [
    "import sys\n",
    "input=sys.stdin.readline\n",
    "INF=int(1e9)# 무한을 의미하는 값으로 10억을 설정\n",
    "\n",
    "# 노드의 개수, 간선의 개수를 입력받기\n",
    "n, m=map(int,input().split())\n",
    "# 시작 노드 번호를 입력받기\n",
    "start=int(input())\n",
    "# 각 노드에 연결되어 있는 노드에 대한 정보를 담는 리스트를 만들기\n",
    "graph=[[] for i in range (n+1)]\n",
    "# 방문한 적이 있는지 체크하는 목적의 리스트를 만들기\n",
    "visited=[False]*(n+1)\n",
    "# 최단 거리 테이블을 모두 무한으로 초기화\n",
    "distance=[INF]*(n+1)\n",
    "\n",
    "#-----------------------------\n",
    "# 모든 간선 정보를 입력받기\n",
    "for _ in range(m):\n",
    "    a,b,c=map(int,input().split())\n",
    "    # a번 노드에서 b번 노드로 가는 비용이 c라는 의미\n",
    "    graph[a].append((b,c))\n",
    "    \n",
    "# 방문하지 않은 노드 중에서, 가장 최단 거리가 짧은 노드의 번호를 반환\n",
    "def get_smallest_node():\n",
    "    min_value=INF\n",
    "    index=0 #가장 최단 거리가 짧은 노드(인덱스)\n",
    "    for i in range(1,n+1):\n",
    "        if distance[i]<min_value and not visited[i]:\n",
    "            min_value=distance[i]\n",
    "            index=i\n",
    "    return index\n",
    "#-----------------------------\n",
    "def dijkstra(start):\n",
    "    # 시작 노드에 대해서 초기화\n",
    "    distance[start]=0\n",
    "    visited[start]=True\n",
    "    for j in graph[start]:\n",
    "        distance[j[0]]=j[1]\n",
    "    # 시작 노드를 제외한 전체 n-1개의 노드에 대해 반복\n",
    "    for i in range(n-1):\n",
    "        # 현재 최단 거리가 가장 짧은 노드를 꺼내서, 방문 처리\n",
    "        now=get_smallest_node()\n",
    "        visited[now]=True\n",
    "        # 현재 노드와 연결된 다른 노드를 확인\n",
    "        for j in graph[now]:\n",
    "            cost=distance[now]+j[1]\n",
    "            # 현재 노드를 거쳐서 다른 노드로 이동하는 거리가 더 짧은 경우\n",
    "            if cost<distance[j[0]]:\n",
    "                distance[j[0]]=cost\n",
    "                \n",
    "# 다익스트라 알고리즘을 수행\n",
    "dijkstra(start)\n",
    "\n",
    "# 모든 노드로 가기 위한 최단 거리를 출력\n",
    "for i in range(1,n+1):\n",
    "    # 도달할 수 없는 경우, 무한(INFINITY)라고 출력\n",
    "    if distance[i]==INF:\n",
    "        print(\"INFINITY\")\n",
    "        # 도달할 수 있는 경우 거리를 출력\n",
    "    else:\n",
    "        print(distance[i])\n",
    "    "
   ]
  },
  {
   "cell_type": "markdown",
   "metadata": {},
   "source": [
    "### 힙 라이브러리 사용 예제: 최소 힙"
   ]
  },
  {
   "cell_type": "code",
   "execution_count": 30,
   "metadata": {},
   "outputs": [
    {
     "name": "stdout",
     "output_type": "stream",
     "text": [
      "[0, 1, 2, 3, 4, 5, 6, 7, 8, 9]\n"
     ]
    }
   ],
   "source": [
    "import heapq\n",
    "\n",
    "#오름차순 힙 정렬 (Heap Sort)\n",
    "def heapsort(iterable):\n",
    "    h=[]\n",
    "    result=[]\n",
    "    #모든 원소를 차례대로 힙에 삽입\n",
    "    for value in iterable:\n",
    "        heapq.heappush(h,value)\n",
    "    #힙에 삽입된 모든 원소를 차례대로 꺼내어 담기\n",
    "    for i in range(len(h)):\n",
    "        result.append(heapq.heappop(h))\n",
    "    return result\n",
    "\n",
    "result=heapsort([1,3,5,7,9,2,4,6,8,0])\n",
    "print(result)"
   ]
  },
  {
   "cell_type": "markdown",
   "metadata": {},
   "source": [
    "### 힙 라이브러리 사용 예제: 최대 힙"
   ]
  },
  {
   "cell_type": "code",
   "execution_count": 31,
   "metadata": {},
   "outputs": [
    {
     "name": "stdout",
     "output_type": "stream",
     "text": [
      "[9, 8, 7, 6, 5, 4, 3, 2, 1, 0]\n"
     ]
    }
   ],
   "source": [
    "import heapq\n",
    "\n",
    "#내림차순 힙 정렬 (Heap Sort)\n",
    "def heapsort(iterable):\n",
    "    h=[]\n",
    "    result=[]\n",
    "    #모든 원소를 차례대로 힙에 삽입\n",
    "    for value in iterable:\n",
    "        heapq.heappush(h,-value)\n",
    "    #힙에 삽입된 모든 원소를 차례대로 꺼내어 담기\n",
    "    for i in range(len(h)):\n",
    "        result.append(-heapq.heappop(h))\n",
    "    return result\n",
    "\n",
    "result=heapsort([1,3,5,7,9,2,4,6,8,0])\n",
    "print(result)"
   ]
  },
  {
   "cell_type": "markdown",
   "metadata": {},
   "source": [
    "### 다익스트라 알고리즘: 개선된 구현방법(Python)"
   ]
  },
  {
   "cell_type": "code",
   "execution_count": null,
   "metadata": {},
   "outputs": [],
   "source": [
    "import heapq\n",
    "import sys\n",
    "input=sys.stdin.readline\n",
    "INF=int(1e9) #무한을 의미하는 값으로 10억을 설정\n",
    "\n",
    "#노드의 개수, 간선의 개수를 입력받기\n",
    "n,m=map(int,input().split())\n",
    "#시작 노드 번호를 입력받기\n",
    "start=int(input())\n",
    "#각 노드에 연결되어 있는 노드에 대한 정보를 담는 리스트를 만들기\n",
    "graph=[[]for i in range(n+1)]\n",
    "#최단 거리 테이블을 모두 무한으로 초기화\n",
    "distance=[INF]*(n+1)\n",
    "\n",
    "#모든 간선 정보를 입력받기\n",
    "for _ in range(m):\n",
    "    a,b,c=map(int,input().split())\n",
    "    #a번 노드에서 b번 노드로 가는 비용이 c라는 의미\n",
    "    graph[a].append((b,c))\n",
    "#-----------------------------\n",
    "\n",
    "def dijkstra(start):\n",
    "    q=[]\n",
    "    #시작 노드로 가기 위한 최단 거리는 0으로 설정하여,큐에 삽입\n",
    "    heapq.heappush(q,(0,start))\n",
    "    distance[start]=0\n",
    "    while q: #큐가 비어있지 않다면\n",
    "        #가장 최단 거리가 짧은 노드에 대한 정보 꺼내기\n",
    "        dist,now=heapq.heappop(q)\n",
    "        #현재 노드가 이미 처리된 적이 있는 노드라면 무시\n",
    "        if distance[now]<dist:\n",
    "            continue\n",
    "        #현재 노드와 연결된 다른 인접한 노드들을 확인\n",
    "        for i in graph[now]:\n",
    "            cost=dist+i[1]\n",
    "            #현재 노드를 거쳐서, 다른 노드로 이동하는 거리가 더 짧은 경우\n",
    "            if cost<distance[i[0]]:\n",
    "                distance[i[0]]=cost\n",
    "                heapq.heappush(q,(cost,i[0]))\n",
    "                \n",
    "#다익스트라 알고리즘을 수행\n",
    "dijkstra(start)\n",
    "\n",
    "#모든 노드로 가기위한 최단 거리를 출력\n",
    "for i in range(1,n+1):\n",
    "    #도달할수 없는 경우, 무한(INFINITY)이라고 출력\n",
    "    if distance[i]==INF:\n",
    "        print(\"INFINITY\")\n",
    "    #도달할수 있는 경우 거리를 출력\n",
    "    else:\n",
    "        print(distance[i])"
   ]
  },
  {
   "cell_type": "markdown",
   "metadata": {},
   "source": [
    "### 플로이드 워셜 알고리즘"
   ]
  },
  {
   "cell_type": "code",
   "execution_count": null,
   "metadata": {},
   "outputs": [],
   "source": [
    "INF=int(1e9) #무한을 의미하는 값으로 10억을 설정\n",
    "\n",
    "#노드의 개수 및 간선의 개수를 입력받기\n",
    "n=int(input())\n",
    "m=int(input())\n",
    "#2차원 리스트(그래프 표현)를 만들고, 무한으로 초기화\n",
    "graph=[[INF]*(n+1) for _ in range(n+1)]\n",
    "\n",
    "#자기 자신에서 자기 자신으로 가는 비용은 0으로 초기화\n",
    "for a in range(1,n+1):\n",
    "    for b in range(1,n+1):\n",
    "        if a==b:\n",
    "            graph[a][b]=0\n",
    "#각 간선에 대한 정보를 입력 받아, 그 값으로 초기화\n",
    "for _ in range(m):\n",
    "    #A에서 B로 가는 비용은 C라고 설정\n",
    "    a,b,c=map(int,input().split())\n",
    "    graph[a][b]=c\n",
    "    \n",
    "#점화식에 따라 플로이드 워셜 알고리즘을 수행\n",
    "for k in range(1,n+1):\n",
    "    for a in range(1,n+1):\n",
    "        for b in range(1,n+1):\n",
    "            graph[a][b]=min(graph[a][b],graph[a][k]+graph[k][b])\n",
    "            \n",
    "#수행된 결과를 출력\n",
    "for a in range(1,n+1):\n",
    "    for b in range(1,n+1):\n",
    "        #도달할수 없는 경우, 무한(INFINITY)이라고 출력\n",
    "        if graph[a][b]==INF:\n",
    "            print(\"INFINITY\",end=\" \")\n",
    "        else:\n",
    "            print(graph[a][b],end=\" \")\n",
    "    print()"
   ]
  },
  {
   "cell_type": "markdown",
   "metadata": {},
   "source": [
    "### <문제> '전보'\n",
    "#### 어떤 나라에는 N개의 도시가 있다. 그리고 각 도시는 보내고자 하는 메시지가 있는 경우, 전보를 보내서 다른 도시로 해당 메시지를 전송할수 있다. 각 도시의 번호와 통로가 설치되어 있는 정보가 주어졌을때, 도시 C에서 보낸 메시지를 받게 되는 도시의 개수는 총 몇 개이며 도시들이 모두 메시지를 받는 데까지 걸리는 시간은 얼마인지 계산한다.\n",
    "#### 핵심 아이디어: 한 도시에서 다른 도시까지의 최단 거리 문제로 치환할수 있다. N과 M의 범위가 충분히 크기 때문에 우선순위 큐를 활용한 다익스트라 알고리즘을 구한다. "
   ]
  },
  {
   "cell_type": "code",
   "execution_count": null,
   "metadata": {},
   "outputs": [],
   "source": [
    "import heapq\n",
    "import sys\n",
    "input=sys.stdin.readline\n",
    "INF=int(1e9) #무한을 의미하는 값으로 10억을 설정\n",
    "\n",
    "def dijkstra(start):\n",
    "    q=[]\n",
    "    #시작 노드로 가기위한 최단 거리는 0으로 설정하여, 큐에 삽입\n",
    "    heapq.heappush(q,(0,start))\n",
    "    distance[start]=0\n",
    "    while q: #큐가 비어있지 않다면\n",
    "        #가장 최단 거리가 짧은 노드에 대한 정보를 꺼내기\n",
    "        dist,now=heapq.heappop(q)\n",
    "        if distance[now]<dist:\n",
    "            continue\n",
    "        #현재 노드와 연결된 다른 인접한 노드들을 확인\n",
    "        for i in graph[now]:\n",
    "            cost=dist+i[1]\n",
    "            #현재 노드를 거쳐서, 다른 노드로 이동하는 거리가 더 짧은 경우\n",
    "            if cost<distance[i[0]]:\n",
    "                distance[i[0]]=cost\n",
    "                heapq.heappush(q,(cost,i[0]))\n",
    "#-----------------------------\n",
    "#노드의 개수, 간선의 개수, 시작 노드를 입력받기\n",
    "n,m,start=map(int,input().split())\n",
    "#각 노드에 연결되어 있는 노드에 대한 정보를 담는 리스트를 만들기\n",
    "graph=[[]for i in range(n+1)]\n",
    "#최단 거리 테이블을 모두 무한으로 초기화\n",
    "distance=[INF]*(n+1)\n",
    "\n",
    "#모든 간선 정보를 입력받기\n",
    "for _ in range(m):\n",
    "    x,y,z=map(int,input().split())\n",
    "    #X번 노드에서 Y번 노드로 가는 비용이 Z라는 의미\n",
    "    graph[x].append((y,z))\n",
    "    \n",
    "#다익스트라 알고리즘을 수행\n",
    "dijkstra(start)\n",
    "\n",
    "#도달할 수 있는 노드의 개수\n",
    "count=0\n",
    "#도달할 수 있는 노드 중에서, 가장 멀리 있는 노드와의 최단 거리\n",
    "max_distance=0\n",
    "for d in distance:\n",
    "    #도달할 수 있는 노드인 경우\n",
    "    if d!=1e9:\n",
    "        count+=1\n",
    "        max_distance=max(max_distance,d)\n",
    "        \n",
    "#시작 노드는 제외해야 하므로 count-1을 출력\n",
    "print(count-1,max_distance)"
   ]
  },
  {
   "cell_type": "markdown",
   "metadata": {},
   "source": [
    "### <문제> '미래 도시'\n",
    "#### 방문 판매원 A는 1번 회사에서 출발하여 K번 회사를 방문한 뒤에 X번 회사로 가는 것이 목표다. 이때 방문 판매원 A는 가능한 한 빠르게 이동하고자 한다. 방문 판매원이 회사 사이를 이동하게 되는 최소 시간을 계산하는 프로그램을 작성한다.\n",
    "#### 핵심 아이디어: 전형적인 최단 거리 알고리즘 문제이다. N의 크기가 최대 100이므로 플로이드 워셜 알고리즘을 이용해도 효율적으로 해결가능하다.\n",
    "#### * 플로이드 워셜 알고리즘을 수행한 뒤에 (1번 노드에서 X까지의 최단 거리+X에서 K까지의 최단 거리)를 계산하여 출력하면 정답 판정을 받을 수 있다."
   ]
  },
  {
   "cell_type": "code",
   "execution_count": null,
   "metadata": {},
   "outputs": [],
   "source": [
    "INF=int(1e9) #무한을 의미하는 값으로 10억을 설정\n",
    "\n",
    "#노드의 개수 및 간선의 개수를 입력받기\n",
    "n,m=map(int,input().split())\n",
    "#2차원 리스트(그래프 표현)를 만들고, 모든 값을 무한으로 초기화\n",
    "graph=[[INF]* (n+1) for _ in range(n+1)]\n",
    "\n",
    "#자기 자신에서 자기 자신으로 가는 비용은 0으로 초기화\n",
    "for a in range(1,n+1):\n",
    "    for b in range(1,n+1):\n",
    "        if a==b:\n",
    "            graph[a][b]=0\n",
    "#각 간선에 대한 정보를 입력 받아, 그 값으로 초기화\n",
    "for _ in range(m):\n",
    "    #A와 B가 서로에게 가는 비용은 1이라고 설정\n",
    "    a,b=map(int,input().split())\n",
    "    graph[a][b]=1\n",
    "    graph[b][a]=1\n",
    "    \n",
    "#-----------------------------\n",
    "#거쳐 갈 노드 X와 최종 목적지 노드 K를 입력받기\n",
    "x,k=map(int,input().split())\n",
    "\n",
    "#점화식에 따라 플로이드 워셜 알고리즘을 수행\n",
    "for k in range(1,n+1):\n",
    "    for a in range(1,n+1):\n",
    "        for b in range(1,n+1):\n",
    "            graph[a][b]=min(graph[a][b],grapb[a][k]+graph[k][b])\n",
    "#수행된 결과를 출력\n",
    "distance=graph[1][k]+graph[k][x]\n",
    "\n",
    "#도달할 수 없는 경우,-1을 출력\n",
    "if distance>=INF:\n",
    "    print(\"-1\")\n",
    "#도달할 수 있다면, 최단 거리를 출력\n",
    "else:\n",
    "    print(distance)"
   ]
  }
 ],
 "metadata": {
  "kernelspec": {
   "display_name": "Python 3",
   "language": "python",
   "name": "python3"
  },
  "language_info": {
   "codemirror_mode": {
    "name": "ipython",
    "version": 3
   },
   "file_extension": ".py",
   "mimetype": "text/x-python",
   "name": "python",
   "nbconvert_exporter": "python",
   "pygments_lexer": "ipython3",
   "version": "3.8.5"
  }
 },
 "nbformat": 4,
 "nbformat_minor": 4
}

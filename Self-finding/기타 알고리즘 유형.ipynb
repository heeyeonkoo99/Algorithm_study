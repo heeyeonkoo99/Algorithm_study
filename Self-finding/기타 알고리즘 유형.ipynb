{
 "cells": [
  {
   "cell_type": "markdown",
   "metadata": {},
   "source": [
    "# <span style=\"color:purple\">기타 알고리즘 유형</span>"
   ]
  },
  {
   "cell_type": "markdown",
   "metadata": {},
   "source": [
    "#### 소수의 판별: 기본적인 알고리즘(Python)"
   ]
  },
  {
   "cell_type": "code",
   "execution_count": 2,
   "metadata": {},
   "outputs": [
    {
     "name": "stdout",
     "output_type": "stream",
     "text": [
      "False\n",
      "True\n"
     ]
    }
   ],
   "source": [
    "#소수 판별 함수(2이상의 자연수에 대하여)\n",
    "def is_prime_number(x):\n",
    "    #2부터 (x-1)까지의 모든 수를 확인하며\n",
    "    for i in range(2,x):\n",
    "        #x가 해당 수로 나눠떨어진다면\n",
    "        if x%i==0:\n",
    "            return False #소수가 아님\n",
    "    return True #소수임\n",
    "\n",
    "print(is_prime_number(4))\n",
    "print(is_prime_number(7))"
   ]
  },
  {
   "cell_type": "markdown",
   "metadata": {},
   "source": [
    "#### 소수의 판별: 개선된 알고리즘(Python)"
   ]
  },
  {
   "cell_type": "code",
   "execution_count": 3,
   "metadata": {},
   "outputs": [
    {
     "name": "stdout",
     "output_type": "stream",
     "text": [
      "False\n",
      "True\n"
     ]
    }
   ],
   "source": [
    "import math\n",
    "\n",
    "#소수 판별 함수(2이상의 자연수에 대하여)\n",
    "def is_prime_number(x):\n",
    "    #2부터 x의 제곱끈가지의 모든 수를 확인하며\n",
    "    for i in range(2,int(math.sqrt(x))+1):\n",
    "        #x가 해당 수로 나눠떨어진다면\n",
    "        if x%i==0:\n",
    "            return False #소수가 아님\n",
    "    return True #소수임\n",
    "\n",
    "print(is_prime_number(4))\n",
    "print(is_prime_number(7))"
   ]
  },
  {
   "cell_type": "markdown",
   "metadata": {},
   "source": [
    "#### 에라토스테네스의 체 알고리즘(Python)"
   ]
  },
  {
   "cell_type": "code",
   "execution_count": 5,
   "metadata": {},
   "outputs": [
    {
     "name": "stdout",
     "output_type": "stream",
     "text": [
      "2 3 5 7 11 13 17 19 23 29 31 37 41 43 47 53 59 61 67 71 73 79 83 89 97 "
     ]
    }
   ],
   "source": [
    "import math\n",
    "\n",
    "n=100 #2부터 1000까지의 모든 수에 대하여 소수 판별\n",
    "#처음엔 모든 수가 소수(True)인 것으로 초기화(0과 1은 제외)\n",
    "array=[True for i in range(n+1)]\n",
    "\n",
    "#에라토스테네스의 체 알고리즘 수행\n",
    "#2부터 n의 제곱근까지의 모든 수를 확인하며\n",
    "for i in range(2,int(math.sqrt(n))+1):\n",
    "    if array[i]==True: #i가 소수인 경우(남은 수인 경우)\n",
    "        #i를 제외한 i의 모든 배수를 지우기\n",
    "        j=2\n",
    "        while i*j<=n:\n",
    "            array[i*j]=False\n",
    "            j+=1\n",
    "            \n",
    "#모든 소수 출력\n",
    "for i in range(2,n+1):\n",
    "    if array[i]:\n",
    "        print(i,end=\" \")\n"
   ]
  },
  {
   "cell_type": "markdown",
   "metadata": {},
   "source": [
    "#### 특정한 합을 가지는 부분 연속 수열 찾기: 코드 예시(Python)"
   ]
  },
  {
   "cell_type": "code",
   "execution_count": 7,
   "metadata": {},
   "outputs": [
    {
     "name": "stdout",
     "output_type": "stream",
     "text": [
      "3\n"
     ]
    }
   ],
   "source": [
    "n=5 #데이터의 개수 N\n",
    "m=5 #찾고자 하는 부분합 M\n",
    "data=[1,2,3,2,5] #전체 수열\n",
    "\n",
    "count=0\n",
    "interval_sum=0\n",
    "end=0\n",
    "\n",
    "#start를 차례대로 증가시키며 반복\n",
    "for start in range(n):\n",
    "    #end를 가능한 만큼 이동시키기\n",
    "    while interval_sum<m and end<n:\n",
    "        interval_sum+=data[end]\n",
    "        end+=1\n",
    "    #부분합이 m일때 카운트 증가\n",
    "    if interval_sum==m:\n",
    "        count+=1\n",
    "    interval_sum-=data[start]\n",
    "    \n",
    "print(count)"
   ]
  },
  {
   "cell_type": "markdown",
   "metadata": {},
   "source": [
    "#### 구간 합 빠르게 계산하기: 코드 예시(Python)"
   ]
  },
  {
   "cell_type": "code",
   "execution_count": 8,
   "metadata": {},
   "outputs": [
    {
     "name": "stdout",
     "output_type": "stream",
     "text": [
      "70\n"
     ]
    }
   ],
   "source": [
    "# 데이터의 개수 N과 데이터 입력받기\n",
    "n=5\n",
    "data=[10,20,30,40,50]\n",
    "\n",
    "#접두사 합(Prefix Sum) 배열 계산\n",
    "sum_value=0\n",
    "prefix_sum=[0]\n",
    "for i in data:\n",
    "    sum_value+=i\n",
    "    prefix_sum.append(sum_value)\n",
    "    \n",
    "#구간 합 계산(세번째 수부터 네 번째 수까지)\n",
    "left=3\n",
    "right=4\n",
    "print(prefix_sum[right]-prefix_sum[left-1])"
   ]
  }
 ],
 "metadata": {
  "kernelspec": {
   "display_name": "Python 3",
   "language": "python",
   "name": "python3"
  },
  "language_info": {
   "codemirror_mode": {
    "name": "ipython",
    "version": 3
   },
   "file_extension": ".py",
   "mimetype": "text/x-python",
   "name": "python",
   "nbconvert_exporter": "python",
   "pygments_lexer": "ipython3",
   "version": "3.8.5"
  }
 },
 "nbformat": 4,
 "nbformat_minor": 4
}

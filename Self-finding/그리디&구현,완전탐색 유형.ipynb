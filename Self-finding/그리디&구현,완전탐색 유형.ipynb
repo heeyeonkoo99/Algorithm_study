{
 "cells": [
  {
   "cell_type": "markdown",
   "metadata": {},
   "source": [
    "# <span style=\"color:purple\">그리디유형</span>"
   ]
  },
  {
   "cell_type": "markdown",
   "metadata": {},
   "source": [
    "### <문제> '1이 될때까지'\n",
    "#### 어떠한 수 N이 1이 될떄까지 다음의 두 과정 중 하나를 반복적으로 선택하여 수행하려고 한다. 단 두번째 연산은 N이 K로 나누어 떨어질 때만 선택할수 있다.\n",
    "#### 1. N에서 1을 뺸다. 2. N을 K로 나눈다."
   ]
  },
  {
   "cell_type": "code",
   "execution_count": null,
   "metadata": {},
   "outputs": [],
   "source": [
    "#N,K을 공백을 기준으로 구분하여 입력 받기\n",
    "n,k=map(int,input().split())\n",
    "\n",
    "result=0\n",
    "\n",
    "while True:\n",
    "    # N이 K로 나누어 떨어지는 수가 될 때까지 빼기\n",
    "    target=(n//k)*k\n",
    "    result+=(n-target)#(=>1로 뺴는경우)\n",
    "    n=target \n",
    "    #N이 K보다 작을 때 (더 이상 나눌 수 없을 때) 반복문 탈출\n",
    "    if n<k:\n",
    "        break\n",
    "    #K로 나누기   \n",
    "    result+=1#(=>K로 나누는 경우) \n",
    "    n//=k\n",
    "    \n",
    "#마지막으로 남은 수에 대해 1씩 빼기\n",
    "result+=(n-1)#(=>1로 뺴는경우)\n",
    "print(result)"
   ]
  },
  {
   "cell_type": "markdown",
   "metadata": {},
   "source": [
    "### <문제> '곱하기 혹은 더하기'\n",
    "#### 각 자리가 숫자(0부터9)로만 이뤄진 문자열 S가 주어졌을때, 왼쪽부터 오른쪽으로 하나씩 모든 숫자를 확인하며\n",
    "#### 'x'혹은 '+'를 넣어 결과적으로 만들어질 수 있는 가장 큰 수를 구하는 프로그램을 작성한다."
   ]
  },
  {
   "cell_type": "code",
   "execution_count": null,
   "metadata": {},
   "outputs": [],
   "source": [
    "data=input()\n",
    "\n",
    "#첫번째 문자를 숫자로 변경하여 대입\n",
    "result=int(data[0])\n",
    "\n",
    "for i in ragne(1,len(data)):\n",
    "    # 두 수중에 하나라도 '0'혹은 '1'인 경우, 곱하기보다는 더하기 수행\n",
    "    num=int(data[i])\n",
    "    if nm<=1 or result<=1:\n",
    "        result+=num\n",
    "    else:\n",
    "        result*=num\n",
    "        \n",
    "print(result)\n"
   ]
  },
  {
   "cell_type": "markdown",
   "metadata": {},
   "source": [
    "### <문제> '모험가 길드'\n",
    "#### 모험가 그룹을 안전하게 구성하고자 공포도가 X인 모험가는 X명으로 구성한 모험가 그룹에 참가해야 여행을 떠날수 있도록 했다.\n",
    "#### 즉 N명의 모험가에 대한 정보가 주어졌을때 여행을 떠날수 있는 그룹수의 최댓값을 구하는 프로그램을 작성한다."
   ]
  },
  {
   "cell_type": "code",
   "execution_count": null,
   "metadata": {},
   "outputs": [],
   "source": [
    "n=int(input())\n",
    "data=list(map(int,input().split()))\n",
    "data.sort()\n",
    "\n",
    "result=0 #총 그룹의 수 \n",
    "count=0 # 현재 그룹에 포함된 모험가의 수\n",
    "for i in data:# 공포도를 낮은 것부터 하나씩 확인하며\n",
    "    count+=1 # 현재 그룹에 해당 모험가를 포함시키기\n",
    "    if count>=i: # 현재 그룹에 포함된 모험가의 수가 현재의 공포도 이상이라면, 그룹 결성\n",
    "        result+=1 # 총 그룹의 수 증가시키기\n",
    "        count=0 # 현재 그룹에 포함된 모험가의 수 초기화\n",
    "        \n",
    "print(result) # 총 그룹의 수 출력"
   ]
  },
  {
   "cell_type": "markdown",
   "metadata": {},
   "source": [
    "# <span style=\"color:purple\">구현&완전탐색 유형</span>"
   ]
  },
  {
   "cell_type": "markdown",
   "metadata": {},
   "source": [
    "### <문제> '상하좌우'\n",
    "#### 여행가 A는 N * N 크기의 정사각형 공간위에 서있다. 여행가 A는 상하좌우 방향으로 이동할수 있으며, 시작좌표는 항상 (1,1)이다."
   ]
  },
  {
   "cell_type": "code",
   "execution_count": null,
   "metadata": {},
   "outputs": [],
   "source": [
    "# n 입력 받기\n",
    "n=int(input())\n",
    "x,y=1,1\n",
    "plans=input().split()\n",
    "\n",
    "#L,R,D,U에 따른 이동 방향\n",
    "dx=[0,0,-1,1]\n",
    "dy=[-1,1,0,0]\n",
    "move_types=['L','R','D','U']\n",
    "\n",
    "#이동 계획을 하나씩 확인하기\n",
    "for plan in plans:\n",
    "    # 이동후 좌표 구하기\n",
    "    for i in range(len(move_types)):\n",
    "        if plan==move_types[i]:\n",
    "            nx=x+dx[i]\n",
    "            ny=y+dy[i]\n",
    "        # 공간을 벗어나는 경우 무시 \n",
    "        if nx<1 or ny<1 or nx>n or ny>n:\n",
    "            continue\n",
    "        #이동 수행\n",
    "        x,y=nx,ny\n",
    "    print(x,y)"
   ]
  },
  {
   "cell_type": "markdown",
   "metadata": {},
   "source": [
    "### <문제> '시각'\n",
    "#### 정수 N이 입력되면 00시 00분 00초부터 N시 59분 59초까지의 모든 시각중에서 3이 하나라도 포함되는 모든 경우의 수를 구하는 프로그램을 작성한다.\n",
    "#### 이 문제는 가능한 모든 시각의 경우를 하나씩 모두 세서 풀수 있는 문제이다. 하루는 86,400초이며 모든 경우는 86,400가지이다. 따라서 단순히 시각을 1씩 증가시키면서 3이 하나라도 포함되어 있는지를 확인하면 된다.\n",
    "#### 이러한 유형은 완전탐색(Brute Forcing) 문제 유형이라고 불림."
   ]
  },
  {
   "cell_type": "code",
   "execution_count": null,
   "metadata": {},
   "outputs": [],
   "source": [
    "# H 입력 받기\n",
    "h=int(input())\n",
    "\n",
    "count=0\n",
    "for i in range(h+1):\n",
    "    for j in range(60):\n",
    "        for k in range(60):\n",
    "            # 매 시각 안에 '3'이 포함되어 있다면 카운트 증가\n",
    "            if '3' in str(i)+str(j)+str(k):\n",
    "                count+=1\n",
    "print(count)"
   ]
  },
  {
   "cell_type": "markdown",
   "metadata": {},
   "source": [
    "### <문제> '왕실의 나이트'\n",
    "#### 왕실정원은 체스판과 같은 8*8 좌표평면이다. 왕실정원의 특정한 한칸에 나이트가 있는데 나이트는 매우\n",
    "#### 충성스러운 신하다.나이트는 말을 타고 있기에 이동할떄 L자 형태로만 이동가능하다.\n",
    "#### 1.수평으로 두칸 이동한 뒤에 수직으로 한칸 이동하기  \n",
    "#### 2. 수직으로 두칸 이동한 뒤에 수평으로 한칸 이동하기\n",
    "#### 이때 왕실의 정원에서 행 위치를 표현할때는 1-8로, 열 위치를 표현할때는 a-h로 표현한다."
   ]
  },
  {
   "cell_type": "code",
   "execution_count": null,
   "metadata": {},
   "outputs": [],
   "source": [
    "# 현재 나이트의 위치 입력받기\n",
    "input_data=input()\n",
    "row=int(input_data[1])\n",
    "column=int(ord(input_data[0]))-int(ord('a'))+1 # 아스키코드로 변환해서..\n",
    "\n",
    "# 나이트가 이동할 수 있는 8가지 방향 정의\n",
    "steps=[(-2,-1),(-1,-2),(1,-2),(2,-1),(2,1),(1,2),(-1,2),(-2,1)]\n",
    "\n",
    "# 8가지 방향에 대하여 각 위치로 이동이 가능한지 확인\n",
    "result=0\n",
    "for step in steps:\n",
    "    # 이동하고자 하는 위치 확인\n",
    "    next_row=row+step[0]\n",
    "    next_column=column+step[1]\n",
    "    # 해당 위치로 이동이 가능하다면 카운트 증가\n",
    "    if next_row>=1 and next_row<=8 and next_column>=1 and next_column<=8:\n",
    "        result+=1\n",
    "print(result)"
   ]
  },
  {
   "cell_type": "markdown",
   "metadata": {},
   "source": [
    "### <문제> '문자열 재정렬'\n",
    "#### 알파벳 대문자와 숫자(0~9)로 구성된 문자열이 입력으로 주어진다. 이때 모든 알파벳을 오름차순으로\n",
    "#### 정렬하여 이어서 출력한 뒤에, 그 뒤에 모든 숫자를 더한 값을 이어서 출력한다.\n",
    "#### 즉 요구사항대로 충실히 구현하면 해결되고, 숫자인경우는 따로 합계 계산+ 알파벳인 경우엔 별도의 리스트에 저장해서 해결한다."
   ]
  },
  {
   "cell_type": "code",
   "execution_count": null,
   "metadata": {},
   "outputs": [],
   "source": [
    "data=input()\n",
    "result=[]\n",
    "value=0\n",
    "\n",
    "#문자를 하나씩 확인하며\n",
    "for x in data:\n",
    "    #알파벳인 경우 결과 리스트에 삽입\n",
    "    if x.isalpha():\n",
    "        result.append(x)\n",
    "    #숫자는 따로 더하기\n",
    "    else:\n",
    "        value+=int(x)\n",
    "        \n",
    "# 알파벳을 오름차순으로 정렬\n",
    "result.sort()\n",
    "if value!=0:\n",
    "    result.append(str(value))\n",
    "# 최종 결과 출력 (리스트를 문자열로 변환하여 출력)\n",
    "print(''.join(result))\n"
   ]
  }
 ],
 "metadata": {
  "kernelspec": {
   "display_name": "Python 3",
   "language": "python",
   "name": "python3"
  },
  "language_info": {
   "codemirror_mode": {
    "name": "ipython",
    "version": 3
   },
   "file_extension": ".py",
   "mimetype": "text/x-python",
   "name": "python",
   "nbconvert_exporter": "python",
   "pygments_lexer": "ipython3",
   "version": "3.8.5"
  }
 },
 "nbformat": 4,
 "nbformat_minor": 4
}

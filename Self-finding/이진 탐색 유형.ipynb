{
 "cells": [
  {
   "cell_type": "markdown",
   "metadata": {},
   "source": [
    "# <span style=\"color:purple\">이진탐색 유형</span>"
   ]
  },
  {
   "cell_type": "code",
   "execution_count": null,
   "metadata": {},
   "outputs": [],
   "source": [
    "#이진 탐색 소스코드 구현(재귀 함수)\n",
    "def binary_search(array,target,start,end):\n",
    "    if start>end:\n",
    "        return None\n",
    "    mid=(start+end)//2\n",
    "    #찾은 경우 중간점 인덱스 반환\n",
    "    if array[mid]==target:\n",
    "        return mid\n",
    "    #중간점의 값보다 찾고자 하는 값이 작은 경우 왼쪽 확인\n",
    "    elif array[mid]>target:\n",
    "        return binary_search(array,target,start,mid-1)\n",
    "    #중간점의 값보다 찾고자 하는 값이 큰 경우 오른쪽 확인\n",
    "    else:\n",
    "        return binary_search(array,target,mid+1,end)\n",
    "\n",
    "#n(원소의 개수)과 target(찾고자 하는 값)을 입력 받기\n",
    "n,target=list(map(int,input().split()))\n",
    "#전체 원소 입력 받기\n",
    "array=list(map(int,input().split()))\n",
    "\n",
    "#이진 탐색 수행 결과 출력\n",
    "result=binary_search(array,target,0,n-1)\n",
    "if result==None:\n",
    "    print('원소가 존재하지 않습니다.')\n",
    "else:\n",
    "    print(result+1)\n",
    "    "
   ]
  },
  {
   "cell_type": "markdown",
   "metadata": {},
   "source": [
    "#### 값이 특정범위에 속하는 데이터 개수 구하기"
   ]
  },
  {
   "cell_type": "code",
   "execution_count": null,
   "metadata": {},
   "outputs": [],
   "source": [
    "from bisect import bisect_left,bisect_right\n",
    "a=[1,2,4,4,8]\n",
    "x=4\n",
    "print(bisect_left(a,x)) #실행결과: 2\n",
    "print(bisect_right(a,x)) #실행결과: 4"
   ]
  },
  {
   "cell_type": "code",
   "execution_count": null,
   "metadata": {},
   "outputs": [],
   "source": [
    "from bisect import bisect_left,bisect_right\n",
    "\n",
    "#값이 [left_value,right_value]인 데이터의 개수를 반환하는 함수\n",
    "def count_by_range(a,left_value,right_value):\n",
    "    right_index=bisect_right(a,right_value)\n",
    "    left_index=bisect_left(a,left_value)\n",
    "    return right_index-left_index\n",
    "\n",
    "#배열 선언\n",
    "a=[1,2,3,3,3,3,4,4,8,9]\n",
    "\n",
    "#값이 4인 데이터 개수 출력\n",
    "print(count_by_range(a,4,4)) #실행결과: 2\n",
    "\n",
    "#값이 [-1,3]범위에 있는 데이터 개수 출력\n",
    "print(count_by_range(a,-1,3)) #실행결과: 6"
   ]
  },
  {
   "cell_type": "markdown",
   "metadata": {},
   "source": [
    "### <문제> '떡볶이 떡 만들기'\n",
    "#### 손님이 왔을때 요청한 총 길이가 M 일때 적어도 M 만큼의 떡을 얻기 위해 절단기에 설정할수 있는 높이의 최댓값을 구하는 프로그램을 작성한다.\n",
    "#### 중간점의 값은 시간이 지날수록 '최적화된 값'이 되기 때문에 과정을 반복하면서 얻을 수 있는 떡의 길이합이 필요한 떡의 길이보다 크거나 같을때마다 중간점의 값을 기록하면 된다."
   ]
  },
  {
   "cell_type": "code",
   "execution_count": null,
   "metadata": {},
   "outputs": [],
   "source": [
    "#떡의 개수(N)와 요청한 떡의 길이(M)을 입력\n",
    "n,m=list(map(int,input().split(' ')))\n",
    "#각 떡의 개별 높이 정보를 입력\n",
    "array=list(map(int,input().split()))\n",
    "\n",
    "#이진 탐색을 위한 시작점과 끝점 설정\n",
    "start=0\n",
    "end=max(array)\n",
    "\n",
    "#이진 탐색 수행(반복적)\n",
    "result=0\n",
    "while(start<=end):\n",
    "    total=0\n",
    "    mid=(start+end)//2\n",
    "    for x in array:\n",
    "        # 잘랐을때의 떡의 양 계산\n",
    "        if x>mid:\n",
    "            total+=x-mid\n",
    "    # 떡의 양이 부족한 경우 더 많이 자르기(왼쪽 부분 탐색)\n",
    "    if total<m:\n",
    "        end=mid-1\n",
    "    # 떡의 양이 충분한 경우 덜 자르기(오른쪽 부분 탐색)\n",
    "    else:\n",
    "        result=mid #최대한 덜 잘랐을때가 정답이므로, 여기에서 result에 기록\n",
    "        start=mid+1\n",
    "#정답 출력\n",
    "print(result)"
   ]
  },
  {
   "cell_type": "markdown",
   "metadata": {},
   "source": [
    "### <문제> '정렬된 배열에서 특정 수의 개수 구하기'\n",
    "#### N개의 원소를 포함하고 있는 수열이 오름차순으로 정렬되어 있다. 이때 이 수열에서 x가 등장하는 횟수를 계산한다. 예를 들어 수열 {1,1,2,2,2,2,3}이 있을때 x=2라면, 현재 수열에서 값이 2인 원소가 4개이므로 4를 출력한다.\n",
    "#### 단 이문제는 시간복잡도 O(log N)으로 알고리즘을 설계하지 않으면 시간초과 판정을 받는다.(=> 일반적인 선형탐색이 아니라 이진탐색을 해야함 )"
   ]
  },
  {
   "cell_type": "code",
   "execution_count": null,
   "metadata": {},
   "outputs": [],
   "source": [
    "from bisect import bisect_left, bisect_right\n",
    "\n",
    "#값이 [left_value,right_value]인 데이터의 개수를 반환하는 함수\n",
    "def count_by_range(array, left_value,right_value):\n",
    "    right_index=bisect_right(array, right_value)\n",
    "    left_index=bisect_left(array, left_value)\n",
    "    return right_index-left_index\n",
    "\n",
    "n,x=map(int,input().split())#데이터의 개수 N, 찾고자 하는 값 x 입력받기\n",
    "array=list(map(int,input().split())) #전체 데이터 입력받기\n",
    "\n",
    "# 값이 [x,x]범위에 있는 데이터의 개수 계산\n",
    "count=count_by_range(array, x,x)\n",
    "\n",
    "# 값이  x인 원소가 존재하지 않는다면\n",
    "if count==0:\n",
    "    print(-1)\n",
    "# 값이 x인 원소가 존재한다면\n",
    "else:\n",
    "    print(count)"
   ]
  }
 ],
 "metadata": {
  "kernelspec": {
   "display_name": "Python 3",
   "language": "python",
   "name": "python3"
  },
  "language_info": {
   "codemirror_mode": {
    "name": "ipython",
    "version": 3
   },
   "file_extension": ".py",
   "mimetype": "text/x-python",
   "name": "python",
   "nbconvert_exporter": "python",
   "pygments_lexer": "ipython3",
   "version": "3.8.5"
  }
 },
 "nbformat": 4,
 "nbformat_minor": 4
}

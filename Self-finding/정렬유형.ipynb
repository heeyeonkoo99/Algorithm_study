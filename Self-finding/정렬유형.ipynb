{
 "cells": [
  {
   "cell_type": "markdown",
   "metadata": {},
   "source": [
    "# <span style=\"color:purple\">정렬유형</span>"
   ]
  },
  {
   "cell_type": "code",
   "execution_count": 7,
   "metadata": {},
   "outputs": [
    {
     "name": "stdout",
     "output_type": "stream",
     "text": [
      "[0, 1, 2, 3, 4, 5, 6, 7, 8, 9]\n"
     ]
    }
   ],
   "source": [
    "#선택정렬\n",
    "\n",
    "array=[7,5,9,0,3,1,6,2,4,8]\n",
    "\n",
    "for i in range(len(array)):\n",
    "    min_index=i #가장 작은 원소의 인덱스\n",
    "    for j in range(i+1,len(array)):\n",
    "        if array[min_index]>array[j]:\n",
    "            min_index=j\n",
    "    array[i],array[min_index]=array[min_index],array[i] #스와프\n",
    "    \n",
    "print(array)"
   ]
  },
  {
   "cell_type": "code",
   "execution_count": 8,
   "metadata": {},
   "outputs": [
    {
     "name": "stdout",
     "output_type": "stream",
     "text": [
      "[0, 1, 2, 3, 4, 5, 6, 7, 8, 9]\n"
     ]
    }
   ],
   "source": [
    "#삽입정렬\n",
    "\n",
    "array=[7,5,9,0,3,1,6,2,4,8]\n",
    "\n",
    "for i in range(1,len(array)):#두번째 데이터부터 끝까지(첫번째는 이미 그자체로 정렬되어있다고 봄)\n",
    "    for j in range(i,0,-1): #인덱스 i 부터 1까지 -1씩 감소하며 반복하는 문법\n",
    "        if array[j]<array[j-1]:# 한칸씩 왼쪽으로 이동\n",
    "            array[j],array[j-1]=array[j-1],array[j]\n",
    "        else: # 자기보다 작은 데이터를 만나면 그 위치에서 멈춤\n",
    "            break\n",
    "            \n",
    "print(array)"
   ]
  },
  {
   "cell_type": "code",
   "execution_count": 11,
   "metadata": {},
   "outputs": [
    {
     "name": "stdout",
     "output_type": "stream",
     "text": [
      "[0, 1, 2, 3, 4, 5, 6, 7, 8, 9]\n"
     ]
    }
   ],
   "source": [
    "#퀵정렬\n",
    "\n",
    "array=[7,5,9,0,3,1,6,2,4,8]\n",
    "\n",
    "def quick_sort(array, start, end):\n",
    "    if start>=end: #원소가 1개인 경우 종료\n",
    "        return\n",
    "    pivot=start #피벗은 첫 번째 원소\n",
    "    left=start+1\n",
    "    right=end\n",
    "    while(left<=right):\n",
    "        #피벗보다 큰 데이터를 찾을 때까지 반복\n",
    "        while(left<=end and array[left]<=array[pivot]):\n",
    "            left+=1\n",
    "        #피벗보다 작은 데이터를 찾을 때까지 반복\n",
    "        while(right>start and array[right]>=array[pivot]):\n",
    "            right-=1\n",
    "        if(left>right): #엇갈렸다면 작은 데이터와 피벗을 교체\n",
    "            array[right],array[pivot]=array[pivot],array[right]\n",
    "        else: #엇갈리지 않았다면 작은 데이터와 큰 데이터를 교체\n",
    "            array[left],array[right]=array[right],array[left]\n",
    "    # 분할 이후 왼쪽 부분과 오른쪽 부분에서 각자 정렬 수행\n",
    "    quick_sort(array,start,right-1)\n",
    "    quick_sort(array,right+1,end)\n",
    "    \n",
    "quick_sort(array,0,len(array)-1)\n",
    "print(array)"
   ]
  },
  {
   "cell_type": "code",
   "execution_count": 12,
   "metadata": {},
   "outputs": [
    {
     "name": "stdout",
     "output_type": "stream",
     "text": [
      "[0, 1, 2, 3, 4, 5, 6, 7, 8, 9]\n"
     ]
    }
   ],
   "source": [
    "#퀵정렬: 파이썬의 장점을 살린 방식 \n",
    "\n",
    "array=[7,5,9,0,3,1,6,2,4,8]\n",
    "\n",
    "def quick_sort(array):\n",
    "    #리스트가 하나 이하의 원소만을 담고 있다면 종료\n",
    "    if len(array)<=1:\n",
    "        return array\n",
    "    pivot=array[0]# 피벗은 첫 번째 원소\n",
    "    tail=array[1:]# 피벗을 제외한 리스트\n",
    "    \n",
    "    left_side=[x for x in tail if x<=pivot] #분할된 왼쪽 부분\n",
    "    right_side=[x for x in tail if x>pivot] #분할된 오른쪽 부분\n",
    "    \n",
    "    #분할 이후 왼쪽 부분과 오른쪽 부분에서 각각 정렬 수행하고, 전체 리스트 반환 \n",
    "    return quick_sort(left_side)+[pivot]+quick_sort(right_side)\n",
    "\n",
    "print(quick_sort(array))"
   ]
  },
  {
   "cell_type": "code",
   "execution_count": 14,
   "metadata": {},
   "outputs": [
    {
     "name": "stdout",
     "output_type": "stream",
     "text": [
      "0 0 1 1 2 2 3 4 5 5 6 7 8 9 9 "
     ]
    }
   ],
   "source": [
    "#계수 정렬\n",
    "\n",
    "#모든 원소의 값이 0보다 크거나 같다고 가정\n",
    "array=[7,5,9,0,3,1,6,2,9,1,4,8,0,5,2]\n",
    "#모든 범위를 포함하는 리스트 선언(모든 값은 0으로 초기화)\n",
    "count=[0]*(max(array)+1)\n",
    "\n",
    "for i in range(len(array)):\n",
    "    count[array[i]]+=1 # 각데이터에 해당하는 인덱스의 값 증가\n",
    "    \n",
    "for i in range(len(count)): #리스트에 기록된 정렬 정보 확인\n",
    "    for j in range(count[i]):\n",
    "        print(i,end=\" \")# 띄어쓰기를 구분으로 등장한 횟수만큼 인덱스 출력"
   ]
  },
  {
   "cell_type": "markdown",
   "metadata": {},
   "source": [
    "### <문제> ''두 배열의 원소 교체\"\n",
    "#### 핵심 아이디어: 매번 배열 A에서 가장 작은 원소를 골라서, 배열 B에서 가장 큰 원소와 교체시킨다."
   ]
  },
  {
   "cell_type": "code",
   "execution_count": null,
   "metadata": {},
   "outputs": [],
   "source": [
    "n,k=map(int,input().split()) #N 과 K를 입력받기\n",
    "a=list(map(int,input().split())) #배열 A의 모든 원소를 입력받기\n",
    "a=list(map(int,input().split())) #배열 B의 모든 원소를 입력받기\n",
    "\n",
    "a.sort() #배열 A는 오름차순 정렬 수행\n",
    "b.sort(reverse=True) #배열 B는 내림차순 정렬 수행\n",
    "\n",
    "#첫번째 인덱스부터 확인하며, 두 배열의 원소를 최대 K번 비교\n",
    "for i in range(k):\n",
    "    #A의 원소가 B의 원소보다 작은 경우\n",
    "    if a[i]<b[i]:\n",
    "        #두 원소를 교체\n",
    "        a[i],b[i]=b[i],a[i]\n",
    "    else: #A의 원소가 B의 원소보다 크거나 같을때, 반복문을 탈출\n",
    "        break\n",
    "        \n",
    "print(sum(a)) #배열 A의 모든 원소의 합을 출력"
   ]
  }
 ],
 "metadata": {
  "kernelspec": {
   "display_name": "Python 3",
   "language": "python",
   "name": "python3"
  },
  "language_info": {
   "codemirror_mode": {
    "name": "ipython",
    "version": 3
   },
   "file_extension": ".py",
   "mimetype": "text/x-python",
   "name": "python",
   "nbconvert_exporter": "python",
   "pygments_lexer": "ipython3",
   "version": "3.8.5"
  }
 },
 "nbformat": 4,
 "nbformat_minor": 4
}

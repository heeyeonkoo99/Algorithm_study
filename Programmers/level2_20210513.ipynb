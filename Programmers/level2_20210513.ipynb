{
 "cells": [
  {
   "cell_type": "code",
   "execution_count": 15,
   "metadata": {
    "scrolled": true
   },
   "outputs": [
    {
     "name": "stdout",
     "output_type": "stream",
     "text": [
      "5\n"
     ]
    }
   ],
   "source": [
    "#level2/프린터\n",
    "def solution(priorities, location):\n",
    "    answer = 0\n",
    "    from collections import deque\n",
    "\n",
    "    d = deque([(v,i) for i,v in enumerate(priorities)])\n",
    "    while len(d):\n",
    "        item = d.popleft()\n",
    "        print(\"일단 꺼내봐\"+str(item))\n",
    "        if d and max(d)[0] > item[0]:\n",
    "            d.append(item)\n",
    "            print(\"max(d)[0]>item[0]일때\"+str(item))\n",
    "        else:\n",
    "            print(item)\n",
    "            answer += 1\n",
    "            if item[1] == location:\n",
    "                break\n",
    "    return answer\n",
    "print(solution([1, 1, 9, 1, 1, 1],0))\n",
    "#Review) enumerate 기능과 import deque를 잘 써봐야겠다! 그리고 문제 잘읽기!"
   ]
  },
  {
   "cell_type": "code",
   "execution_count": null,
   "metadata": {},
   "outputs": [],
   "source": [
    "#level2/기능개발- 내 sol\n",
    "def solution(progresses, speeds):\n",
    "    answer = []\n",
    "    temp=[]\n",
    "    stack=[]\n",
    "    day=0\n",
    "    some=0\n",
    "    hey=0\n",
    "    count=[0]*101\n",
    "    for i in range(len(progresses)):\n",
    "        while progresses[i]<100:\n",
    "            progresses[i]+=speeds[i]\n",
    "            day+=1\n",
    "        temp.append(day)\n",
    "        day=0\n",
    "    print(temp)\n",
    "    some=temp[0]\n",
    "    for i in range(len(temp)-1):\n",
    "        stack.append(some)\n",
    "        hey=max(stack)\n",
    "        print(hey)\n",
    "        if hey<temp[i+1]:\n",
    "            some=temp[i+1]\n",
    "            hey=some\n",
    "    if temp[len(temp)-1]<hey:\n",
    "        stack.append(hey)\n",
    "    else:\n",
    "        stack.append(temp[len(temp)-1])\n",
    "        \n",
    "    \n",
    "    for i in stack:\n",
    "        count[i]+=1\n",
    "    print(count)\n",
    "    for i in count:\n",
    "        if i!=0:\n",
    "            answer.append(i)\n",
    "    return answer\n",
    "print(solution([85,88,87],[1,1,1]))\n",
    "#Review) 와..문제 진짜 꼼꼼하게 읽어야 된다. stack에 쌓인 값중에서 가장 max인값을 따라가는것이다.=>이걸 너무 늦게알아버림 ㅠㅠ"
   ]
  },
  {
   "cell_type": "code",
   "execution_count": null,
   "metadata": {},
   "outputs": [],
   "source": [
    "#level2/기능개발- 타인 sol\n",
    "def solution(progresses, speeds):\n",
    "\n",
    "    answer = []\n",
    "    time = 0\n",
    "    count = 0\n",
    "    while len(progresses)> 0:\n",
    "        if (progresses[0] + time*speeds[0]) >= 100:\n",
    "            progresses.pop(0)\n",
    "            speeds.pop(0)\n",
    "            count += 1\n",
    "        else:\n",
    "            if count > 0:\n",
    "                answer.append(count)\n",
    "                count = 0\n",
    "            time += 1\n",
    "    answer.append(count)\n",
    "    return answer"
   ]
  }
 ],
 "metadata": {
  "kernelspec": {
   "display_name": "Python 3",
   "language": "python",
   "name": "python3"
  },
  "language_info": {
   "codemirror_mode": {
    "name": "ipython",
    "version": 3
   },
   "file_extension": ".py",
   "mimetype": "text/x-python",
   "name": "python",
   "nbconvert_exporter": "python",
   "pygments_lexer": "ipython3",
   "version": "3.8.5"
  }
 },
 "nbformat": 4,
 "nbformat_minor": 4
}

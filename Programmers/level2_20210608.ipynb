{
 "cells": [
  {
   "cell_type": "code",
   "execution_count": 20,
   "metadata": {},
   "outputs": [],
   "source": [
    "#level2/올바른 괄호-1\n",
    "def solution(s):\n",
    "    stack=[]\n",
    "    for c in s:\n",
    "        if c==\"(\":\n",
    "            stack.append(c)\n",
    "        else:\n",
    "            if len(stack)==0:\n",
    "                return False\n",
    "            else:\n",
    "                stack.pop()\n",
    "    return len(stack)==0"
   ]
  },
  {
   "cell_type": "code",
   "execution_count": null,
   "metadata": {},
   "outputs": [],
   "source": [
    "#level2/올바른 괄호-2\n",
    "def solution(s):\n",
    "    stack=[s[0]]\n",
    "    idx=1\n",
    "    while idx!=len(s):\n",
    "\n",
    "        if s[idx]==\"(\":\n",
    "            stack.append(\"(\")\n",
    "        else:\n",
    "            if len(stack)==0:\n",
    "                return False\n",
    "            else:\n",
    "                stack.pop()\n",
    "        idx+=1\n",
    "    if len(stack)==0:\n",
    "        return True\n",
    "    return False"
   ]
  },
  {
   "cell_type": "code",
   "execution_count": 37,
   "metadata": {},
   "outputs": [],
   "source": [
    "#level2/괄호 회전하기\n",
    "from collections import deque\n",
    "def solution(ip):\n",
    "    def check(s):\n",
    "        stack=[]\n",
    "        for c in s:\n",
    "            if c==\"(\" or c==\"{\" or c==\"[\":\n",
    "                stack.append(c)\n",
    "            else:\n",
    "                if not stack:\n",
    "                    return False\n",
    "                x=stack.pop()\n",
    "                if c==\")\" and x!=\"(\":\n",
    "                    return False\n",
    "                elif c==\"]\" and x!=\"[\":\n",
    "                    return False\n",
    "                elif c==\"}\" and x!=\"{\":\n",
    "                    return False\n",
    "        return len(stack)==0\n",
    "    ip=deque(ip)\n",
    "    answer=0\n",
    "    for x in range(len(ip)):\n",
    "        ip.rotate(-1)\n",
    "        if check(ip):\n",
    "            answer+=1\n",
    "    return answer\n",
    "\n",
    "#Review)A-HA! 얘네는 종류가 3가지이고 그전꺼랑 딱 매치가 되어야 하기때문에 "
   ]
  },
  {
   "cell_type": "code",
   "execution_count": 36,
   "metadata": {},
   "outputs": [
    {
     "name": "stdout",
     "output_type": "stream",
     "text": [
      "0\n"
     ]
    }
   ],
   "source": [
    "#level2/더 맵게-1(내가 한 sol=>결국 틀린거..ㅎ)\n",
    "def solution(scoville, K):\n",
    "    answer = 0\n",
    "    flag=True\n",
    "    idx=0\n",
    "    while idx!=len(scoville):\n",
    "        mix=0\n",
    "        scoville.sort()\n",
    "        mix=scoville[0]+scoville[1]*2\n",
    "        scoville.remove(scoville[0])\n",
    "        scoville.remove(scoville[0])\n",
    "        scoville.append(mix)\n",
    "\n",
    "        for i in range(len(scoville)):\n",
    "            if scoville[i]<K:\n",
    "                print(\"flag가 false다\")\n",
    "                answer+=1\n",
    "                flag=False\n",
    "            if flag==True and i==len(scoville)-1:\n",
    "                answer=idx\n",
    "                break\n",
    "        idx+=1\n",
    "    return answer\n",
    "print(solution([1, 2],1))"
   ]
  },
  {
   "cell_type": "code",
   "execution_count": null,
   "metadata": {},
   "outputs": [],
   "source": [
    "#level2/더 맵게-2\n",
    "\n",
    "import heapq\n",
    "\n",
    "def solution(scv,K):\n",
    "    answer=0\n",
    "    h=[]\n",
    "    for i in scv:\n",
    "        heapq.heappush(h,i)\n",
    "    while h[0]<K:\n",
    "        try:\n",
    "            heapq.heappush(h,heapq.heappop(h)+(heapq.heappop(h)*2))\n",
    "        except IndexError:\n",
    "            return -1\n",
    "        answer+=1\n",
    "    return answer\n",
    "\n",
    "\n",
    "#Review)문제를 효율적으로 풀수있는 방법을 항상 생각하자=> 사실 최소원소가 k를 넘는지 확인만 하면되는것이다 "
   ]
  }
 ],
 "metadata": {
  "kernelspec": {
   "display_name": "Python 3",
   "language": "python",
   "name": "python3"
  },
  "language_info": {
   "codemirror_mode": {
    "name": "ipython",
    "version": 3
   },
   "file_extension": ".py",
   "mimetype": "text/x-python",
   "name": "python",
   "nbconvert_exporter": "python",
   "pygments_lexer": "ipython3",
   "version": "3.8.5"
  }
 },
 "nbformat": 4,
 "nbformat_minor": 4
}

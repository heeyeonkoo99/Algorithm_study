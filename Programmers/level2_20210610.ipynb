{
 "cells": [
  {
   "cell_type": "code",
   "execution_count": null,
   "metadata": {},
   "outputs": [],
   "source": [
    "#level2/캐시\n",
    "def solution(cacheSize, cities):\n",
    "    time=0\n",
    "    cache=[]\n",
    "    cities=[city.lower() for city in cities]\n",
    "    if cacheSize!=0:\n",
    "        for city in cities:\n",
    "            if city in cache:\n",
    "                cache.pop(cache.index(city))\n",
    "                cache.append(city)\n",
    "                time+=1\n",
    "            else:\n",
    "                if len(cache)<cacheSize:\n",
    "                    cache.append(city)\n",
    "                    time+=5\n",
    "                else:\n",
    "                    cache.pop(0)\n",
    "                    cache.append(city)\n",
    "                    time+=5\n",
    "    else:\n",
    "        time+=len(cities)*5\n",
    "    return time\n",
    "#Review)캐시 교체 알고리즘은 LRU를 사용한다. 이 알고리즘을 잘 이해하면 금방풀릴느낌!"
   ]
  },
  {
   "cell_type": "code",
   "execution_count": null,
   "metadata": {},
   "outputs": [],
   "source": [
    "#level2/메뉴리뉴얼\n",
    "from collections import Counter\n",
    "from itertools import combinations\n",
    "\n",
    "def solution(orders, course):\n",
    "    answer = []\n",
    "    \n",
    "    for length in course:\n",
    "        order_list = []\n",
    "        for order in orders:\n",
    "            for combi in combinations(order, length): # length의 길이만큼 모든조합 찾기\n",
    "                order_list.append(''.join(sorted(combi)))\n",
    "                \n",
    "        if order_list: #order_list가 없는 경우를 주의\n",
    "            order_list = Counter(order_list).most_common()\n",
    "\n",
    "            for word, cnt in order_list:\n",
    "                if cnt > 1 and cnt == order_list[0][1]: # max_count 반환\n",
    "                    answer.append(word)\n",
    "                else:\n",
    "                    break\n",
    "        \n",
    "    return sorted(answer)\n",
    "#Review) combinations라는 모듈을 사용하자.//combinations와 counter , dictionary로 푸는 방법이 크게 2개가 있다."
   ]
  }
 ],
 "metadata": {
  "kernelspec": {
   "display_name": "Python 3",
   "language": "python",
   "name": "python3"
  },
  "language_info": {
   "codemirror_mode": {
    "name": "ipython",
    "version": 3
   },
   "file_extension": ".py",
   "mimetype": "text/x-python",
   "name": "python",
   "nbconvert_exporter": "python",
   "pygments_lexer": "ipython3",
   "version": "3.8.5"
  }
 },
 "nbformat": 4,
 "nbformat_minor": 4
}

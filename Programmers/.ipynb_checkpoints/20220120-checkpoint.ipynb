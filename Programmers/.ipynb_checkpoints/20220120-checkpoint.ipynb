{
 "cells": [
  {
   "cell_type": "code",
   "execution_count": null,
   "metadata": {},
   "outputs": [],
   "source": [
    "#dfs와 bfs"
   ]
  },
  {
   "cell_type": "code",
   "execution_count": null,
   "metadata": {},
   "outputs": [],
   "source": [
    "#타겟넘버\n",
    "\n",
    "#BFS 풀이\n",
    "def solution(nubmers,target):\n",
    "    answer=0\n",
    "    leaves=[0]\n",
    "    for num in numbers:\n",
    "        tmp=[]\n",
    "        for parent in leaves:\n",
    "            tmp.append(parent+num)\n",
    "            tmp.append(parent-num)\n",
    "        leaves=tmp\n",
    "    for leaf in leaves:\n",
    "        if leaf==target:\n",
    "            answer+=1\n",
    "    return answer\n",
    "\n",
    "#DFS 풀이\n",
    "def solution(numbers,target):\n",
    "    answer=DFS(numbers,target,0)\n",
    "    return answer\n",
    "\n",
    "def DFS(numbers,target,depth):\n",
    "    answer=0\n",
    "    if depth==len(numbers):\n",
    "        print(numbers)\n",
    "        if sum(numbers)==target:\n",
    "            return 1\n",
    "        else:\n",
    "            return 0\n",
    "    else:\n",
    "        answer+=DFS(numbers,target,depth+1)\n",
    "        numbers[depth]*=-1\n",
    "        answer+=DFS(numbers,target,depth+1)"
   ]
  },
  {
   "cell_type": "code",
   "execution_count": null,
   "metadata": {},
   "outputs": [],
   "source": [
    "#네트워크\n",
    "\n",
    "def DFS(n,computers,com,visited):\n",
    "    visited[com]=True\n",
    "    for connect in range(n):\n",
    "        if com!=connect and computers[com][connect]==1:\n",
    "            if visited[connect]=False:\n",
    "                DFS(n,computers,connect,visited)\n",
    "\n",
    "def solution(n,computers):\n",
    "    answer=0\n",
    "    visited=[False for i in range(n)]\n",
    "    for i in range(n):\n",
    "        if visited[i]==False:\n",
    "            DFS(n,computers,i,visited)\n",
    "            answer+=1\n",
    "    return answer"
   ]
  },
  {
   "cell_type": "code",
   "execution_count": null,
   "metadata": {},
   "outputs": [],
   "source": [
    "#단어변환\n",
    "\n",
    "def bfs(begin,target,words,visited):\n",
    "    count=0\n",
    "    stack=[(begin,0)]\n",
    "    while stack:\n",
    "        cur,depth=stack.pop()\n",
    "        if cur==target:\n",
    "            return depth\n",
    "        \n",
    "        for i in range(len(words)):\n",
    "            if visited[i]==True:\n",
    "                continue\n",
    "            cnt=0\n",
    "            for a,b in zip(cur,words[i]):\n",
    "                if a!=b:\n",
    "                    cnt+=1\n",
    "            if cnt==1:\n",
    "                visited[i]=True\n",
    "                stack.append((words[i],depth+1))\n",
    "                \n",
    "def solution(begin,target,words):\n",
    "    answer=0\n",
    "    if target not in words:\n",
    "        return 0\n",
    "    visited=[False]*(len(words))\n",
    "    answer=bfs(begin,target,words,visited)\n",
    "    return answer"
   ]
  }
 ],
 "metadata": {
  "kernelspec": {
   "display_name": "Python 3 (ipykernel)",
   "language": "python",
   "name": "python3"
  },
  "language_info": {
   "codemirror_mode": {
    "name": "ipython",
    "version": 3
   },
   "file_extension": ".py",
   "mimetype": "text/x-python",
   "name": "python",
   "nbconvert_exporter": "python",
   "pygments_lexer": "ipython3",
   "version": "3.8.5"
  }
 },
 "nbformat": 4,
 "nbformat_minor": 4
}

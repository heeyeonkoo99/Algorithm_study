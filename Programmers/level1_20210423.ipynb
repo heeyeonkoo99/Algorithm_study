{
 "cells": [
  {
   "cell_type": "code",
   "execution_count": 35,
   "metadata": {},
   "outputs": [
    {
     "name": "stdout",
     "output_type": "stream",
     "text": [
      "e F d\n"
     ]
    }
   ],
   "source": [
    "#level1/시저 암호\n",
    "def solution(s, n):\n",
    "    answer = ''\n",
    "    temp=0\n",
    "    for i in s:\n",
    "        temp=ord(i)+n\n",
    "        if ord(i)>=65 and ord(i)<= 90:\n",
    "            if temp>90:\n",
    "                answer+=chr(temp-26)\n",
    "            else:\n",
    "                answer+=chr(temp)\n",
    "        if i==\" \":\n",
    "            answer+=\" \"\n",
    "        elif ord(i)>=97 and ord(i)<=122:\n",
    "            if temp>122:\n",
    "                answer+=chr(temp-26)\n",
    "            else:\n",
    "                answer+=chr(temp)\n",
    "    return answer\n",
    "print(solution(\"a B z\",4))"
   ]
  },
  {
   "cell_type": "code",
   "execution_count": 53,
   "metadata": {},
   "outputs": [
    {
     "name": "stdout",
     "output_type": "stream",
     "text": [
      "[[4, 6], [7, 9]]\n"
     ]
    }
   ],
   "source": [
    "#level1/행렬의 덧셈\n",
    "def solution(arr1, arr2):\n",
    "    answer=arr1\n",
    "    for i in range(len(arr1)):\n",
    "        for j in range(len(arr1[i])):\n",
    "            answer[i][j]=arr1[i][j]+arr2[i][j]\n",
    "    return answer\n",
    "print(solution([[1,2],[2,3]],[[3,4],[5,6]]))\n",
    "#다른풀이로는 아래와같다.\n",
    "def subMatrix(A,B):\n",
    "    answer=[[c+d for c,d in zip(a,b)] for a,b in zip(A,B)]\n",
    "#Review)zip기능이 유용하게 쓰이니까 나도 연습해보자!"
   ]
  },
  {
   "cell_type": "code",
   "execution_count": null,
   "metadata": {},
   "outputs": [],
   "source": [
    "#level1/핸드폰 번호 가리기핸드폰 번호 가리기\n",
    "def solution(phone_number):\n",
    "    answer = ''\n",
    "    temp=len(phone_number)-4\n",
    "    for i in range(len(phone_number)):\n",
    "        if i<temp:\n",
    "            answer+=\"*\"\n",
    "        else:\n",
    "            answer+=phone_number[i]\n",
    "    return answer"
   ]
  }
 ],
 "metadata": {
  "kernelspec": {
   "display_name": "Python 3",
   "language": "python",
   "name": "python3"
  },
  "language_info": {
   "codemirror_mode": {
    "name": "ipython",
    "version": 3
   },
   "file_extension": ".py",
   "mimetype": "text/x-python",
   "name": "python",
   "nbconvert_exporter": "python",
   "pygments_lexer": "ipython3",
   "version": "3.8.5"
  }
 },
 "nbformat": 4,
 "nbformat_minor": 4
}

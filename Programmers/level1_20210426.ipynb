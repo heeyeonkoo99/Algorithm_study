{
 "cells": [
  {
   "cell_type": "code",
   "execution_count": 16,
   "metadata": {},
   "outputs": [
    {
     "name": "stdout",
     "output_type": "stream",
     "text": [
      "873211\n"
     ]
    }
   ],
   "source": [
    "#level1/정수 내림차순으로 배치하기\n",
    "def solution(n):\n",
    "    answer=\"\"\n",
    "    answer = str(n)\n",
    "    new=list()\n",
    "    real=\"\"\n",
    "    for i in answer:\n",
    "        new.append(i)\n",
    "    while True:\n",
    "        real+=max(new)\n",
    "        del new[new.index(max(new))]\n",
    "        if len(new)==0:\n",
    "            break\n",
    "    return int(real)\n",
    "print(solution(118372))"
   ]
  },
  {
   "cell_type": "code",
   "execution_count": 92,
   "metadata": {},
   "outputs": [
    {
     "name": "stdout",
     "output_type": "stream",
     "text": [
      "1단계: =.=\n",
      "2단계: .\n",
      "3단계: .\n",
      "4단계: a\n",
      "5단계: a\n",
      "6단계: a\n",
      "7단계: aaa\n",
      "aaa\n"
     ]
    }
   ],
   "source": [
    "#level1/신규 아이디 추천\n",
    "def solution(new_id):\n",
    "    answer = ''\n",
    "    flag=False\n",
    "    #1단계\n",
    "    for i in new_id:\n",
    "        if i.isupper()==True:\n",
    "            i=i.lower()\n",
    "        answer+=i\n",
    "    print(\"1단계: \"+answer)\n",
    "     #2단계\n",
    "    for i in answer:\n",
    "        if i.islower()==True or i.isdigit()==True or i==\"-\" or i==\"_\" or i==\".\":\n",
    "            continue\n",
    "        else:\n",
    "            answer=answer.replace(i,\"\")\n",
    "    print(\"2단계: \"+answer)\n",
    "    #3단계\n",
    "    for i in answer:\n",
    "        answer=answer.replace(\"...\",\".\")\n",
    "        answer=answer.replace(\"..\",\".\")\n",
    "    print(\"3단계: \"+answer)\n",
    "    #4단계\n",
    "\n",
    "    if answer[0]==\".\":\n",
    "        if len(answer)==1:\n",
    "            answer=\"a\"\n",
    "        else:\n",
    "            answer=answer[1:]\n",
    "            \n",
    "    if answer[len(answer)-1]==\".\":\n",
    "        if len(answer)==1:\n",
    "            answer+\"a\"\n",
    "        else:\n",
    "            answer=answer[:len(answer)-1]\n",
    "    print(\"4단계: \"+answer)\n",
    "    #5단계\n",
    "\n",
    "    print(\"5단계: \"+answer)\n",
    "    #6단계\n",
    "    if len(answer)>=16:\n",
    "        answer=answer[:15]\n",
    "    if answer[len(answer)-1]==\".\":\n",
    "        answer=answer[:14]\n",
    "    print(\"6단계: \"+answer)\n",
    "    #7단계\n",
    "    if len(answer)<=2:\n",
    "        while len(answer)!=3:\n",
    "            answer+=answer[len(answer)-1]\n",
    "    print(\"7단계: \"+answer)\n",
    "\n",
    "    return answer\n",
    "print(solution(\"=.=\"))"
   ]
  },
  {
   "cell_type": "code",
   "execution_count": 104,
   "metadata": {},
   "outputs": [
    {
     "name": "stdout",
     "output_type": "stream",
     "text": [
      "4\n"
     ]
    }
   ],
   "source": [
    "#level1/소수 만들기\n",
    "def check(a, b, c): \n",
    "    total = a + b + c\n",
    "    for i in range(2, total): \n",
    "        if total % i == 0 : return False \n",
    "    return True \n",
    "\n",
    "def solution(nums):\n",
    "    answer = 0\n",
    "    for i in range(0, len(nums) - 2): \n",
    "        for j in range(i+1, len(nums) - 1): \n",
    "            for k in range(j+1, len(nums)): \n",
    "                if check(nums[i], nums[j], nums[k]): answer += 1\n",
    "    return answer \n",
    "print(solution([1,2,7,6,4]))\n",
    "# Review) \"from itertools import combinations\"라는 것을 이용해서\n",
    "# \"A=list(combinations(num,3))\"등을 \n",
    "#  for i in A: \n",
    "#        if check(i[0], i[1], i[2]): answer += 1 \n",
    "# 위와같이 이렇게 사용할수 있다."
   ]
  },
  {
   "cell_type": "code",
   "execution_count": 8,
   "metadata": {},
   "outputs": [
    {
     "name": "stdout",
     "output_type": "stream",
     "text": [
      "sums의값은 :10f의 값은: 2\n",
      "sums의값은 :10f의 값은: 5\n",
      "sums의값은 :9f의 값은: 3\n",
      "flag가 True인경우!\n",
      "sums의값은 :14f의 값은: 2\n",
      "sums의값은 :14f의 값은: 7\n",
      "sums의값은 :12f의 값은: 2\n",
      "sums의값은 :12f의 값은: 3\n",
      "sums의값은 :12f의 값은: 4\n",
      "sums의값은 :12f의 값은: 6\n",
      "flag가 True인경우!\n",
      "sums의값은 :15f의 값은: 3\n",
      "sums의값은 :15f의 값은: 5\n",
      "flag가 True인경우!\n",
      "sums의값은 :12f의 값은: 2\n",
      "sums의값은 :12f의 값은: 3\n",
      "sums의값은 :12f의 값은: 4\n",
      "sums의값은 :12f의 값은: 6\n",
      "flag가 True인경우!\n",
      "4\n"
     ]
    }
   ],
   "source": [
    "#level1/소수 만들기\n",
    "\n",
    "def solution(nums):\n",
    "    answer = 0\n",
    "    sums=0\n",
    "    for i in range(0, len(nums)-2): \n",
    "        for j in range(i+1, len(nums)-1): \n",
    "            for k in range(j+1, len(nums)): \n",
    "                Flag=True\n",
    "                sums=nums[i]+nums[j]+nums[k]\n",
    "               \n",
    "                for f in range(2,sums):\n",
    "                    if sums%f==0:\n",
    "                        print(\"sums의값은 :\"+str(sums)+\"f의 값은: \"+str(f))\n",
    "                        Flag=False\n",
    "                if Flag==True:\n",
    "                    print(\"flag가 True인경우!\")\n",
    "                    answer+=1\n",
    "    return answer \n",
    "print(solution([1,2,7,6,4]))\n",
    "#Review)내실수로 시간이 좀걸렸지만 결국 해결했다 ㅎㅎ"
   ]
  },
  {
   "cell_type": "code",
   "execution_count": null,
   "metadata": {},
   "outputs": [],
   "source": [
    "#level1/폰켓몬\n",
    "\n",
    "def solution(nums):\n",
    "    answer = 0\n",
    "    temp=0\n",
    "    cnt=0\n",
    "    temp=len(nums)/2\n",
    "    list=[0 for _ in range (200001)]\n",
    "    for i in nums:\n",
    "        list[i]+=1\n",
    "    for i in range(len(list)):\n",
    "        if list[i]!=0:\n",
    "            cnt+=1\n",
    "            if cnt>temp:\n",
    "                return temp\n",
    "    answer=cnt\n",
    "    \n",
    "        \n",
    "    return answer"
   ]
  },
  {
   "cell_type": "code",
   "execution_count": 98,
   "metadata": {},
   "outputs": [
    {
     "name": "stdout",
     "output_type": "stream",
     "text": [
      "[[1, 4, 7, '*'], [2, 5, 8, 0], [3, 6, 9, '#']]\n",
      "* #\n",
      "i의 값은? 2현재는?  * #\n",
      "* 2\n",
      "i의 값은? 5현재는?  * 2\n",
      "* 5\n",
      "i의 값은? 8현재는?  * 5\n",
      "* 8\n",
      "i의 값은? 0현재는?  * 8\n",
      "RRRR\n"
     ]
    }
   ],
   "source": [
    "#level1/키패드 누르기\n",
    "def solution(numbers, hand):\n",
    "    list=[0 for _ in range(3)]\n",
    "    list[0]=[1,4,7,\"*\"]\n",
    "    list[1]=[2,5,8,0]\n",
    "    list[2]=[3,6,9,\"#\"]\n",
    "    print(list)\n",
    "    answer = ''\n",
    "\n",
    "    l=list[0][3]\n",
    "    r=list[2][3]\n",
    "\n",
    "    for i in numbers:\n",
    "        temp_l,temp_r=0,0\n",
    "        print(l,r)\n",
    "        if i in list[0]:\n",
    "            l=i\n",
    "            answer+=\"L\"\n",
    "           \n",
    "        elif i in list[2]:\n",
    "            r=i\n",
    "            answer+=\"R\"\n",
    "           \n",
    "        else:\n",
    "            print(\"i의 값은? \"+str(i)+\"현재는? \",l,r)\n",
    "\n",
    "            for j in range(4):   \n",
    "                if l==list[1][j]:\n",
    "                    temp_l+=abs(list[1].index(i)-list[1].index(l))   \n",
    "                    \n",
    "                if l==list[0][j]:\n",
    "                    temp_l+=1\n",
    "                   \n",
    "                    temp_l+=abs(list[1].index(i)-list[0].index(l))\n",
    "                    \n",
    "                if r==list[1][j]:\n",
    "                    temp_r+=abs(list[1].index(i)-list[1].index(r))\n",
    "                    \n",
    "               \n",
    "                if r==list[2][j]:\n",
    "                    temp_r+=1\n",
    "                    \n",
    "                    temp_r+=abs(list[1].index(i)-list[2].index(r))\n",
    "          \n",
    "\n",
    "            if temp_r>temp_l:\n",
    "                answer+=\"L\"\n",
    "                l=i\n",
    "            elif temp_r<temp_l:\n",
    "                answer+=\"R\"\n",
    "                r=i\n",
    "            else:\n",
    "                if hand==\"right\":\n",
    "                    answer+=\"R\"\n",
    "                    r=i\n",
    "                else:\n",
    "                    answer+=\"L\"\n",
    "                    l=i\n",
    "    \n",
    "    return answer\n",
    "print(solution([2,5,8,0], \"right\"))\n",
    "#Review)헤헤 기분이 좋다 ㅎㅎ 진짜 어렵게 했는데 결국 끈기를 가지고 내가 사고력을 가지고 도전하는게 중요한것같다."
   ]
  },
  {
   "cell_type": "code",
   "execution_count": 63,
   "metadata": {},
   "outputs": [
    {
     "name": "stdout",
     "output_type": "stream",
     "text": [
      "99\n"
     ]
    }
   ],
   "source": [
    "#level1/하샤드 수\n",
    "def solution(x):\n",
    "    answer = True\n",
    "    temp=\"\"\n",
    "    sum=0\n",
    "    temp=str(x)\n",
    "    for i in temp:\n",
    "        sum+=int(i)\n",
    "    if x%sum!=0:\n",
    "        answer=False\n",
    "    return answer"
   ]
  },
  {
   "cell_type": "code",
   "execution_count": 115,
   "metadata": {},
   "outputs": [
    {
     "name": "stdout",
     "output_type": "stream",
     "text": [
      "4\n"
     ]
    }
   ],
   "source": [
    "#level1/예산\n",
    "def solution(d, budget):\n",
    "    answer = 0\n",
    "    cnt=0\n",
    "    while True:\n",
    "        if len(d)==0:\n",
    "            return answer\n",
    "        mins=min(d)\n",
    "        if budget<mins:\n",
    "            return answer\n",
    "        else:\n",
    "            budget-=mins\n",
    "            del d[d.index(mins)]\n",
    "            answer+=1\n",
    "    return answer\n",
    "print(solution([2,2,3,3],10))\n",
    "#Review)리스트의 값이 0일경우에도 고려를 다해야된다. 그래야지 진짜 실력있는것이라 느낀다."
   ]
  }
 ],
 "metadata": {
  "kernelspec": {
   "display_name": "Python 3",
   "language": "python",
   "name": "python3"
  },
  "language_info": {
   "codemirror_mode": {
    "name": "ipython",
    "version": 3
   },
   "file_extension": ".py",
   "mimetype": "text/x-python",
   "name": "python",
   "nbconvert_exporter": "python",
   "pygments_lexer": "ipython3",
   "version": "3.8.5"
  }
 },
 "nbformat": 4,
 "nbformat_minor": 4
}

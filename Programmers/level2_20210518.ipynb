{
 "cells": [
  {
   "cell_type": "code",
   "execution_count": 2,
   "metadata": {},
   "outputs": [
    {
     "name": "stdout",
     "output_type": "stream",
     "text": [
      "False\n"
     ]
    }
   ],
   "source": [
    "#level2/전화번호 목록\n",
    "def solution(phone_book):\n",
    "    answer=True\n",
    "    temp=[]\n",
    "    find=0\n",
    "    for i in phone_book:\n",
    "        temp.append(\"\".join(i))\n",
    "    temp.sort()\n",
    "    for i in range(len(temp)-1):\n",
    "        if temp[i+1].find(temp[i])==0:\n",
    "                return False\n",
    "    return answer\n",
    "#Review) 직관적으로 생각해서 간단히 풀었는데 for문을 이중으로 쓸필요가 없고 i+1번째만을 i와 비교하면 되는 간단한 문제였다."
   ]
  },
  {
   "cell_type": "code",
   "execution_count": 4,
   "metadata": {},
   "outputs": [],
   "source": [
    "#level2/전화번호 목록-타인 sol\n",
    "def solution(phoneBook):\n",
    "    phoneBook=sorted(phoneBook)\n",
    "    \n",
    "    for p1,p2 in zip(phoneBook, phoneBook[1:]):\n",
    "        if p2.startswith(p1):\n",
    "            return False\n",
    "    return True"
   ]
  },
  {
   "cell_type": "code",
   "execution_count": 3,
   "metadata": {},
   "outputs": [
    {
     "data": {
      "text/plain": [
       "[('a', 'd'), ('b', 'e'), ('c', 'f')]"
      ]
     },
     "execution_count": 3,
     "metadata": {},
     "output_type": "execute_result"
    }
   ],
   "source": [
    "#zip 사용예시\n",
    ">>> list(zip([1, 2, 3], [4, 5, 6]))\n",
    "[(1, 4), (2, 5), (3, 6)]\n",
    ">>> list(zip([1, 2, 3], [4, 5, 6], [7, 8, 9]))\n",
    "[(1, 4, 7), (2, 5, 8), (3, 6, 9)]\n",
    ">>> list(zip(\"abc\", \"def\"))\n",
    "[('a', 'd'), ('b', 'e'), ('c', 'f')]\n",
    ">>> list(zip([1,2],[3,4,5]))\n",
    "[(1, 3), (2, 4)]"
   ]
  },
  {
   "cell_type": "code",
   "execution_count": 20,
   "metadata": {},
   "outputs": [
    {
     "name": "stdout",
     "output_type": "stream",
     "text": [
      "['1', '7']\n",
      "['17', '71']\n",
      "3\n"
     ]
    }
   ],
   "source": [
    "#level2/소수 찾기\n",
    "from itertools import permutations\n",
    "import math\n",
    "\n",
    "def check(n):\n",
    "    k=math.sqrt(n)\n",
    "    if n<2:\n",
    "        return False\n",
    "    for i in range(2,int(k)+1):\n",
    "        if n%i==0:\n",
    "            return False\n",
    "    return True\n",
    "\n",
    "def solution(numbers):\n",
    "    answer=[]\n",
    "    for k in range(1,len(numbers)+1):\n",
    "        perlist=list(map(\"\".join,permutations(list(numbers),k)))\n",
    "        print(perlist)\n",
    "        for i in list(set(perlist)):\n",
    "            if check(int(i)):\n",
    "                answer.append(int(i))\n",
    "    answer=len(set(answer))\n",
    " \n",
    " \n",
    "    return answer\n",
    "print(solution(\"17\"))\n",
    "#Review) 파이썬에서 permutation,combination을 사용하면 순열과 조합을 사용할수 있다."
   ]
  },
  {
   "cell_type": "code",
   "execution_count": 11,
   "metadata": {},
   "outputs": [
    {
     "name": "stdout",
     "output_type": "stream",
     "text": [
      "['ABC', 'ACB', 'BAC', 'BCA', 'CAB', 'CBA']\n",
      "['AB', 'AC', 'BA', 'BC', 'CA', 'CB']\n",
      "['AB', 'AC', 'BC']\n"
     ]
    }
   ],
   "source": [
    "#itertools 사용예시\n",
    "import itertools\n",
    "\n",
    "pool=[\"A\",\"B\",\"C\"]\n",
    "print(list(map(\"\".join,itertools.permutations(pool))))\n",
    "print(list(map(''.join, itertools.permutations(pool, 2))))\n",
    "print(list(map(''.join, itertools.combinations(pool, 2))))"
   ]
  },
  {
   "cell_type": "code",
   "execution_count": 1,
   "metadata": {},
   "outputs": [
    {
     "name": "stdout",
     "output_type": "stream",
     "text": [
      "[4, 3]\n"
     ]
    }
   ],
   "source": [
    "#level2/카펫\n",
    "def solution(brown, yellow):\n",
    "    s=brown+yellow\n",
    "    for i in range(s,2,-1):\n",
    "        if s%i==0:\n",
    "            a=s//i\n",
    "            if yellow==(i-2)*(a-2):\n",
    "                return [i,a]\n",
    "    \n",
    "print(solution(10,2))\n",
    "#Review) 수학적으로 접근하기"
   ]
  },
  {
   "cell_type": "code",
   "execution_count": 65,
   "metadata": {},
   "outputs": [
    {
     "name": "stdout",
     "output_type": "stream",
     "text": [
      "80\n",
      "0\n",
      "띠용\n",
      "2\n"
     ]
    }
   ],
   "source": [
    "#level2/구명보트- 내 실패작\n",
    "def solution(people, limit):\n",
    "    answer = 0\n",
    "    sums=0\n",
    "    idx=0\n",
    "    fat=[]\n",
    "    temp=[]\n",
    "    people.sort()\n",
    "    \n",
    "    for i in range(len(people)-1):\n",
    "        \n",
    "        if people[i]>limit//2:\n",
    "            fat.append(people[i])\n",
    "            people.remove(people[i])\n",
    "    if people[len(people)-1]>limit//2:\n",
    "        fat.append(people[len(people)-1])\n",
    "        people.remove(people[len(people)-1])\n",
    "   \n",
    "    answer+=len(fat)  \n",
    "  \n",
    "    for i in range(len(people)-1):\n",
    "        sums+=people[i]\n",
    "        temp.append(people[i])\n",
    "       \n",
    "        if sums<limit and sums+people[i+1]>limit:\n",
    "            answer+=1\n",
    "            print(sums)\n",
    "            sums=0\n",
    "            temp=[]\n",
    "        if len(temp)==2:\n",
    "            temp=[]\n",
    "    temp.append(people[len(people)-1])\n",
    "    if len(temp)!=0:\n",
    "        print(sums)\n",
    "        print(\"띠용\")\n",
    "        return answer+1\n",
    "        \n",
    "\n",
    "    \n",
    "    return answer\n",
    "print(solution([40,40,40],100))\n",
    "#Review) 2명 제한있는걸 늦게보았다.."
   ]
  },
  {
   "cell_type": "code",
   "execution_count": null,
   "metadata": {},
   "outputs": [],
   "source": [
    "#level2/구명보트- 맞는 sol-1\n",
    "def solution(people,limit):\n",
    "    people.sort()\n",
    "    cnt=0\n",
    "    i=0,j=len(people)-1\n",
    "    while i<=j:\n",
    "        cnt+=1\n",
    "        if people[j]+people[i]<=limit:\n",
    "            i+=1\n",
    "        j-=1\n",
    "    return cnt\n",
    "#level2/구명보트- 맞는 sol-2\n",
    "from collections import deque\n",
    "def solution(people, limit):\n",
    "    answer = 0\n",
    "    people.sort()\n",
    "    people = deque(people)\n",
    "    while people:\n",
    "        max_weight = people.pop()\n",
    "        if people and max_weight + people[0]<=limit:\n",
    "            people.popleft()\n",
    "        answer +=1\n",
    "    return answer"
   ]
  },
  {
   "cell_type": "code",
   "execution_count": 5,
   "metadata": {},
   "outputs": [
    {
     "name": "stdout",
     "output_type": "stream",
     "text": [
      "0 0 1 1\n",
      "0 1 1 2\n",
      "0 2 1 3\n",
      "0 3 1 2\n",
      "1 1 2 2\n",
      "1 2 2 3\n",
      "1 3 2 2\n",
      "2 2 3 3\n",
      "2 3 3 2\n",
      "3 3 2 2\n",
      "[4, 3, 1, 1, 0]\n"
     ]
    }
   ],
   "source": [
    "#level2/주식가격\n",
    "def solution(prices):\n",
    "    answer=[0]*len(prices)\n",
    "    \n",
    "    for i in range(len(prices)-1):\n",
    "        for j in range(i,len(prices)-1):\n",
    "            print(i,j,prices[i],prices[j])\n",
    "            if prices[i]>prices[j]:\n",
    "                break\n",
    "            else:\n",
    "                answer[i]+=1\n",
    "    return answer\n",
    "print(solution([1,2,3,2,3]))\n",
    "# 참고 사이트: https://velog.io/@ansrjsdn/%ED%94%84%EB%A1%9C%EA%B7%B8%EB%9E%98%EB%A8%B8%EC%8A%A4-Level2-%EC%A3%BC%EC%8B%9D-%EA%B0%80%EA%B2%A9-Python-JavaScript"
   ]
  }
 ],
 "metadata": {
  "kernelspec": {
   "display_name": "Python 3",
   "language": "python",
   "name": "python3"
  },
  "language_info": {
   "codemirror_mode": {
    "name": "ipython",
    "version": 3
   },
   "file_extension": ".py",
   "mimetype": "text/x-python",
   "name": "python",
   "nbconvert_exporter": "python",
   "pygments_lexer": "ipython3",
   "version": "3.8.5"
  }
 },
 "nbformat": 4,
 "nbformat_minor": 4
}

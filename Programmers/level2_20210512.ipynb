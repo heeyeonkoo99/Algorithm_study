{
 "cells": [
  {
   "cell_type": "code",
   "execution_count": null,
   "metadata": {},
   "outputs": [],
   "source": [
    "#level2/가장 큰 수\n",
    "def solution(numbers):\n",
    "    numbers=list(map(str,numbers))\n",
    "    numbers.sort(key=lambda x:x*3,reverse=True)\n",
    "    return str(int(\"\".join(numbers)))\n",
    "#Review) 문자열의 길이를 3배로 늘린 후에 비교하는 방식=>마지막에 ['0','0','0','0']의 경우도 고려해주자\n",
    "#람다함수에 익숙해지도록 하자"
   ]
  },
  {
   "cell_type": "code",
   "execution_count": null,
   "metadata": {},
   "outputs": [],
   "source": [
    "#람다함수 예시-1\n",
    "target=[\"cat\",\"tiger\",\"dog\",\"snake\"]\n",
    "print(sorted(target,key=lambda x:len(x.strip())))\n",
    "#람다함수 예시-2\n",
    "plus_ten=lambda x:x+10\n",
    "plus_ten(1)"
   ]
  },
  {
   "cell_type": "code",
   "execution_count": null,
   "metadata": {},
   "outputs": [],
   "source": [
    "#level2/124 나라의 숫자\n",
    "def solution(n):\n",
    "    result=\"\"\n",
    "    op=[4,1,2]\n",
    "    while n>0:\n",
    "        n,r = divmod(n,3)\n",
    "        result = str(op[r])+str(result)\n",
    "\n",
    "        if r==0: # 나머지가 0이면\n",
    "            n=n-1\n",
    "\n",
    "    return result\n",
    "print(solution(10))\n",
    "#----------------------\n",
    "def solution(n):\n",
    "    num=['1','2','4']\n",
    "    answer=\"\"\n",
    "    \n",
    "    while n>0:\n",
    "        n-=1 #zero indexing\n",
    "        answer=num[n%3]+answer\n",
    "        n//=3 #목 값을 업데이트 하면서 자리수 증가\n",
    "    return answer\n",
    "#----------------------\n",
    "def solution(n):\n",
    "    answer = ''\n",
    "    while n>0:\n",
    "        if n%3 == 0:\n",
    "            answer = '4'+answer\n",
    "            n = int(n/3) -1\n",
    "        else:\n",
    "            answer = str(n%3) + answer\n",
    "            n = int(n/3)\n",
    "        \n",
    "    return answer\n",
    "#Review) 3진법을 이용해서 풀어준다."
   ]
  },
  {
   "cell_type": "code",
   "execution_count": null,
   "metadata": {},
   "outputs": [],
   "source": [
    "#level2/최솟값과 최댓값\n",
    "def solution(s):\n",
    "    answer=\"\"\n",
    "    s=list(map(int,s.split(\" \")))\n",
    "    return \"{} {}\".format(min(s),max(s))\n",
    "print(solution(\"1 -2 -5 -4\"))"
   ]
  },
  {
   "cell_type": "code",
   "execution_count": null,
   "metadata": {},
   "outputs": [],
   "source": [
    "#level2/행렬의 곱셈\n",
    "import numpy as np\n",
    "\n",
    "def solution(arr1,arr2):\n",
    "    answer=[[]]\n",
    "    \n",
    "    answer=(np.matrix(arr1)*np.matrix(arr2)).tolist()\n",
    "    return answer\n",
    "#Review)이렇게 간단한 방법이..갈길이 멀었다.."
   ]
  },
  {
   "cell_type": "code",
   "execution_count": null,
   "metadata": {},
   "outputs": [],
   "source": [
    "#행렬의 곱셈 예시-1\n",
    "def solution(arr1,arr2):\n",
    "    r=len(arr1)\n",
    "    c=len(arr2[0])\n",
    "    answer=[[0]*c for _ in range(r)]\n",
    "    \n",
    "    for i in range(r):\n",
    "        for j in range(c):\n",
    "            for k in range(len(arr1[0])):\n",
    "                answer[i][j]+=arr1[i][k]*arr2[k][j]\n",
    "    return answer"
   ]
  },
  {
   "cell_type": "code",
   "execution_count": null,
   "metadata": {},
   "outputs": [],
   "source": [
    "#level2/ 피보나치 수\n",
    "def solution(n):\n",
    "    answer = 0\n",
    "    dp=[0]*100001\n",
    "    dp[0]=0\n",
    "    dp[1]=1\n",
    "    dp[2]=1\n",
    "    dp[3]=2\n",
    "    for i in range(4,len(dp)):\n",
    "        dp[i]=dp[i-1]+dp[i-2]\n",
    "    answer=dp[n]%1234567\n",
    "    return answer\n",
    "#Review) 피보나치수열하면 떠오르는 dp를 사용함"
   ]
  }
 ],
 "metadata": {
  "kernelspec": {
   "display_name": "Python 3",
   "language": "python",
   "name": "python3"
  },
  "language_info": {
   "codemirror_mode": {
    "name": "ipython",
    "version": 3
   },
   "file_extension": ".py",
   "mimetype": "text/x-python",
   "name": "python",
   "nbconvert_exporter": "python",
   "pygments_lexer": "ipython3",
   "version": "3.8.5"
  }
 },
 "nbformat": 4,
 "nbformat_minor": 4
}

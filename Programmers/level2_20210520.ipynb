{
 "cells": [
  {
   "cell_type": "code",
   "execution_count": 19,
   "metadata": {},
   "outputs": [
    {
     "name": "stdout",
     "output_type": "stream",
     "text": [
      "16\n"
     ]
    }
   ],
   "source": [
    "#level2/땅따먹기-sol1\n",
    "def solution(land):\n",
    "    for i in range(1,len(land)):\n",
    "        for j in range(len(land[0])):\n",
    "            land[i][j]+=max(land[i-1][:j]+land[i-1][j+1:])\n",
    "    return max(land[len(land)-1])\n",
    "\n",
    "    \n",
    "\n",
    "\n",
    "print(solution([[1,2,3,5],[5,6,7,8],[4,3,2,1]]))\n",
    "#Review) 자기 자신과 같은 열은 더하지 못하도록 자기자신의 열을 뺀 나머지중 최댓값을 밑으로 계속 더해준다."
   ]
  },
  {
   "cell_type": "code",
   "execution_count": null,
   "metadata": {},
   "outputs": [],
   "source": [
    "#level2/땅따먹기-sol2\n",
    "def solution(land):\n",
    " \n",
    "    answer = 0\n",
    " \n",
    "    N = len(land)  # N은 행의 개수가 된다.\n",
    " \n",
    "    num = 5  # 첫 행에서는 num 이 영향을 미치면 안되므로 열의 총 수인 4보다 큰 5를 대입해놓았다.\n",
    " \n",
    "    for i in range(0, N):  # 0번째 행부터 N-1행까지 반복\n",
    " \n",
    "        max = 0\n",
    " \n",
    "        for j in range(0, 4):  # 각 행의 열들을 반복\n",
    " \n",
    "            if num == j:  # 바로 직전의 행과 같은 열을 밟을 수 없다.\n",
    " \n",
    "                continue\n",
    " \n",
    "            if land[i][j] > land[i][max]:\n",
    " \n",
    "                max = j  # 각 열에서 최대값을 찾기\n",
    " \n",
    "        answer += land[i][max] #최대값들 더해주기\n",
    " \n",
    "        num = max # 이번 행에서 최대였던 열을 저장하여 다음 행에 영향을 준다.\n",
    " \n",
    "    return answer\n"
   ]
  }
 ],
 "metadata": {
  "kernelspec": {
   "display_name": "Python 3",
   "language": "python",
   "name": "python3"
  },
  "language_info": {
   "codemirror_mode": {
    "name": "ipython",
    "version": 3
   },
   "file_extension": ".py",
   "mimetype": "text/x-python",
   "name": "python",
   "nbconvert_exporter": "python",
   "pygments_lexer": "ipython3",
   "version": "3.8.5"
  }
 },
 "nbformat": 4,
 "nbformat_minor": 4
}

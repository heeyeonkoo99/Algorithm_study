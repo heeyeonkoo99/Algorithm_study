{
 "cells": [
  {
   "cell_type": "code",
   "execution_count": null,
   "metadata": {},
   "outputs": [],
   "source": [
    "#스택/큐>기능개발\n",
    "def solution(progresses,speeds):\n",
    "    answer=[]\n",
    "    time=0\n",
    "    count=0\n",
    "    \n",
    "    while len(progresses)>0:\n",
    "        if (progresses[0]+time*speeds[0])>=100:\n",
    "            progresses.pop(0)\n",
    "            speeds.pop(0)\n",
    "            count+=1\n",
    "        else:\n",
    "            if count>0:\n",
    "                answer.append(count)\n",
    "                count=0\n",
    "            time+=1\n",
    "    answer.append(count)\n",
    "return answer"
   ]
  },
  {
   "cell_type": "code",
   "execution_count": null,
   "metadata": {},
   "outputs": [],
   "source": [
    "#스택/큐>프린터\n",
    "from collections import deque\n",
    "\n",
    "def solution(priorities,location):\n",
    "    answer=0\n",
    "    d=deque([(v,i) for i,v in enumerate(priorities)])\n",
    "    while len(d):\n",
    "        item=d.popleft()\n",
    "        if d and max(d)[0]>item[0]:\n",
    "            d.append(item)\n",
    "        else:\n",
    "            answer+=1\n",
    "            if item[1]==location:\n",
    "                break\n",
    "    return answer"
   ]
  },
  {
   "cell_type": "code",
   "execution_count": null,
   "metadata": {},
   "outputs": [],
   "source": [
    "#스택/큐>다리를 지나는 트럭\n",
    "def solution(bridge_length, weight, truck_weights):\n",
    "    answer = 0\n",
    "    trucks_on_bridge=[0]*bridge_length\n",
    "    while len(trucks_on_bridge):\n",
    "        answer+=1\n",
    "        trucks_on_bridge.pop(0)\n",
    "        if truck_weights:\n",
    "            if sum(trucks_on_bridge)+ truck_weights[0]<=weight:\n",
    "                trucks_on_bridge.append(truck_weights.pop(0))\n",
    "            else:\n",
    "                trucks_on_bridge.append(0)\n",
    "    return answer"
   ]
  },
  {
   "cell_type": "code",
   "execution_count": null,
   "metadata": {},
   "outputs": [],
   "source": [
    "#스택/큐>주식가격\n",
    "def solution(prices):\n",
    "    answer=[0]*len(prices)\n",
    "    for i in range(len(prices)-1):\n",
    "        for j in range(i,len(prices)-1):\n",
    "            if prices[i]>prices[j]:\n",
    "                break\n",
    "            else:\n",
    "                answer[i]+=1   \n",
    "                \n",
    "    return answer"
   ]
  }
 ],
 "metadata": {
  "kernelspec": {
   "display_name": "Python 3",
   "language": "python",
   "name": "python3"
  },
  "language_info": {
   "codemirror_mode": {
    "name": "ipython",
    "version": 3
   },
   "file_extension": ".py",
   "mimetype": "text/x-python",
   "name": "python",
   "nbconvert_exporter": "python",
   "pygments_lexer": "ipython3",
   "version": "3.8.5"
  }
 },
 "nbformat": 4,
 "nbformat_minor": 4
}

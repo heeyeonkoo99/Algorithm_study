{
 "cells": [
  {
   "cell_type": "code",
   "execution_count": null,
   "metadata": {},
   "outputs": [],
   "source": [
    "#level 2/다리를 지나는 트럭-sol1\n",
    "def solution(bridge_length,weight,truck_weights):\n",
    "    q=[0]*bridge_length\n",
    "    sec=0\n",
    "    while q:\n",
    "        sec+=1\n",
    "        q.pop(0)\n",
    "        if truck_weights:\n",
    "            if sum(q)+truck_weights[0]<=weight:\n",
    "                q.append(truck_weights.pop(0))\n",
    "            else:\n",
    "                q.append(0)\n",
    "    return sec"
   ]
  },
  {
   "cell_type": "code",
   "execution_count": null,
   "metadata": {},
   "outputs": [],
   "source": [
    "#level 2/다리를 지나는 트럭-sol2\n",
    "def solution(bridge_length, weight, truck_weights):\n",
    "    answer = 0\n",
    "    trucks_on_bridge = [0] * bridge_length\n",
    "    while len(trucks_on_bridge):\n",
    "        answer += 1\n",
    "        trucks_on_bridge.pop(0)\n",
    "        if truck_weights:\n",
    "            if sum(trucks_on_bridge) + truck_weights[0] <= weight:\n",
    "                trucks_on_bridge.append(truck_weights.pop(0))\n",
    "            else:\n",
    "                trucks_on_bridge.append(0)\n",
    "    return answer"
   ]
  },
  {
   "cell_type": "code",
   "execution_count": null,
   "metadata": {},
   "outputs": [],
   "source": [
    "#level 2/다음 큰 숫자\n",
    "def nextBigNumber(n):\n",
    "    c=bin(n).count(\"1\")\n",
    "    for m in range(n+1,1000001):\n",
    "        if bin(m).count(\"1\")==c:\n",
    "            return m\n",
    "print(nextBigNumber(78))\n",
    "#Review)파이썬 내장함수 bin을 써서 쉽게 풀수있다. 어떻게 하면 효율적으로 코드를 짤수있을지 고민해보자"
   ]
  },
  {
   "cell_type": "code",
   "execution_count": null,
   "metadata": {},
   "outputs": [],
   "source": [
    "#level 2/최솟값 만들기-sol1\n",
    "def solution(A,B):\n",
    "    answer = 0\n",
    "    multi=0\n",
    "    A=sorted(A)\n",
    "    B=sorted(B,reverse=True)\n",
    "    for i in range(len(A)):\n",
    "        multi=A[i]*B[i]\n",
    "        print(multi)\n",
    "        answer+=multi\n",
    "\n",
    "    return answer\n",
    "print(solution([1,4,2],[5,4,4]))"
   ]
  },
  {
   "cell_type": "code",
   "execution_count": null,
   "metadata": {},
   "outputs": [],
   "source": [
    "#level 2/최솟값 만들기-sol2\n",
    "def getMinSum(A,B):\n",
    "    return sum(a*b for a,b in zip(sorted(A),sorted(B,reverse=True)))\n",
    "#Review)엄청 간단하다.."
   ]
  },
  {
   "cell_type": "code",
   "execution_count": null,
   "metadata": {},
   "outputs": [],
   "source": [
    "#level 2/124 나라의 숫자\n",
    "def solution(n):\n",
    "    result=\"\"\n",
    "    op=[4,1,2]\n",
    "    while n>0:\n",
    "        n,r = divmod(n,3)\n",
    "        print(n,r)\n",
    "        result = str(op[r])+str(result)\n",
    "\n",
    "        if r==0: # 나머지가 0이면\n",
    "            n=n-1\n",
    "\n",
    "    return result\n",
    "print(solution(10))\n",
    "#Review)사실, 기본적으로 3진수의 개념과 같다. 다만 n이 3의 배수일 경우 나머지 값이 4가 되고, 몫이 1감소한다는 특징만 더해진다는 것이다."
   ]
  },
  {
   "cell_type": "code",
   "execution_count": null,
   "metadata": {},
   "outputs": [],
   "source": [
    "#level2/ N개의 최소공배수\n",
    "from math import gcd\n",
    "\n",
    "def nlcm(num):\n",
    "    answer=num[0]\n",
    "    for n in num:\n",
    "        answer=n*answer/gcd(n,answer)\n",
    "    return answer\n",
    "\n",
    "#Review)유클리드 호제법을 통해서 해볼수도있다.재귀적으로 푼다."
   ]
  }
 ],
 "metadata": {
  "kernelspec": {
   "display_name": "Python 3",
   "language": "python",
   "name": "python3"
  },
  "language_info": {
   "codemirror_mode": {
    "name": "ipython",
    "version": 3
   },
   "file_extension": ".py",
   "mimetype": "text/x-python",
   "name": "python",
   "nbconvert_exporter": "python",
   "pygments_lexer": "ipython3",
   "version": "3.8.5"
  }
 },
 "nbformat": 4,
 "nbformat_minor": 4
}

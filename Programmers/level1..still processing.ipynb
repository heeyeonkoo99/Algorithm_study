{
 "cells": [
  {
   "cell_type": "code",
   "execution_count": 3,
   "metadata": {},
   "outputs": [
    {
     "name": "stdout",
     "output_type": "stream",
     "text": [
      "1\n",
      "[]\n"
     ]
    }
   ],
   "source": [
    "def solution(arr):\n",
    "    answer = []\n",
    "    key=0\n",
    "    if len(arr)==1:\n",
    "        answer.append(-1)\n",
    "        return answer\n",
    "    key=min(arr)\n",
    "    print(key)\n",
    "    arr.remove(key)\n",
    "    for i in answer:\n",
    "       \n",
    "        answer.append(i)\n",
    "    return answer\n",
    "print(solution([4,3,2,1]))"
   ]
  },
  {
   "cell_type": "code",
   "execution_count": 4,
   "metadata": {},
   "outputs": [
    {
     "name": "stdout",
     "output_type": "stream",
     "text": [
      "수\n",
      "박\n",
      "수\n",
      "수\n"
     ]
    }
   ],
   "source": [
    "def solution(n):\n",
    "    answer = []\n",
    "    real=\"\"\n",
    "    for i in range(n):\n",
    "        if i%2==0:\n",
    "            answer.append(\"수\")\n",
    "        else:\n",
    "            answer.append(\"박\")\n",
    "    for i in answer:\n",
    "        print(i)\n",
    "        real=\"\".join(i)\n",
    "    return real\n",
    "print(solution(3))"
   ]
  },
  {
   "cell_type": "code",
   "execution_count": 72,
   "metadata": {},
   "outputs": [
    {
     "name": "stdout",
     "output_type": "stream",
     "text": [
      "15 0\n",
      "5 0\n",
      "1 2\n",
      "0 1\n",
      "0021\n",
      "7\n"
     ]
    }
   ],
   "source": [
    "def solution(n):\n",
    "    answer = 0\n",
    "    temp=\"\"\n",
    "    while n>0:\n",
    "        n,mod=divmod(n,3)\n",
    "        print(n,mod)\n",
    "        temp+=str(mod)\n",
    "    print(temp)\n",
    "    answer=int(temp,3)\n",
    "    return answer\n",
    "print(solution(45))"
   ]
  },
  {
   "cell_type": "code",
   "execution_count": 134,
   "metadata": {
    "scrolled": true
   },
   "outputs": [
    {
     "name": "stdout",
     "output_type": "stream",
     "text": [
      "['try', 'hello', 'world']\n",
      "TrY HeLlO WoRlD\n"
     ]
    }
   ],
   "source": [
    "\n",
    "def solution(s):\n",
    "    answer = ''\n",
    "    array=s.split(\" \")\n",
    "    for i in range(len(array)):\n",
    "        if i>=1:\n",
    "             answer+=\" \"\n",
    "        index=0\n",
    "        for j in range(len(array[i])):\n",
    "            if index%2==0:\n",
    "                answer+=array[i][index].upper()\n",
    "                index+=1\n",
    "            else:\n",
    "                answer+=array[i][index].lower()\n",
    "                index+=1\n",
    "    return answer\n",
    "#Review)생각보다 시간이 걸렸다.. str.find()나 str.index()의 쓰임의 적절한 용도를 알자.enumerate()공부할필요있음\n",
    "#enumerate: tuple형태로 (index,value)값을 전달할수 있음"
   ]
  }
 ],
 "metadata": {
  "kernelspec": {
   "display_name": "Python 3",
   "language": "python",
   "name": "python3"
  },
  "language_info": {
   "codemirror_mode": {
    "name": "ipython",
    "version": 3
   },
   "file_extension": ".py",
   "mimetype": "text/x-python",
   "name": "python",
   "nbconvert_exporter": "python",
   "pygments_lexer": "ipython3",
   "version": "3.8.5"
  }
 },
 "nbformat": 4,
 "nbformat_minor": 4
}

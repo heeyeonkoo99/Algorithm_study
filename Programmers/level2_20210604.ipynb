{
 "cells": [
  {
   "cell_type": "code",
   "execution_count": null,
   "metadata": {},
   "outputs": [],
   "source": [
    "#level2/가장 큰 정사각형 찾기\n",
    "def solution(board):\n",
    "    for i in range(1,len(board)):\n",
    "        for j in range(1,len(board[0])):\n",
    "            if board[i][j]>=1: # 0이 아닐때만 값 업데이트: 이게 테스트 통과의 관건\n",
    "                board[i][j]=min(board[i-1][j],board[i][j-1],board[i-1][j-1])+1\n",
    "    return max([num for row in board for num in row])**2"
   ]
  },
  {
   "cell_type": "code",
   "execution_count": 1,
   "metadata": {},
   "outputs": [
    {
     "name": "stdout",
     "output_type": "stream",
     "text": [
      "[0, 1, 3, 5, 6]\n",
      "3\n"
     ]
    }
   ],
   "source": [
    "#level2/H-Index\n",
    "def solution(citations):\n",
    "    answer=0\n",
    "    citations.sort(reverse=True)\n",
    "    for i,v in enumerate(citations):\n",
    "        if i+1<=v:\n",
    "            answer=i+1\n",
    "    return answer\n",
    "\n",
    "\n",
    "#Review)문제 이해하는게 너무 어려웠다.=>H-INDEX의 개념을 알아놓고 하는게 더 편할뻔했다.\n",
    "#참고하기..https://m.blog.naver.com/PostView.naver?isHttpsRedirect=true&blogId=promarketyj&logNo=221434899288\n",
    "#참고하기..https://www.ibric.org/myboard/read.php?Board=news&id=270333"
   ]
  },
  {
   "cell_type": "code",
   "execution_count": 9,
   "metadata": {},
   "outputs": [
    {
     "name": "stdout",
     "output_type": "stream",
     "text": [
      "0\n",
      "1.5\n",
      "2\n",
      "80\n"
     ]
    }
   ],
   "source": [
    "#level2/멀쩡한 사각형\n",
    "import math\n",
    "def solution1(w,h):\n",
    "    return w*h - (w+h-math.gcd(w,h))\n",
    "\n",
    "#참고하기..https://greenapple16.tistory.com/89                                                        \n",
    "#Review) [ ( W/최대공약수 ) + ( H/최대공약수 ) - 1 ] * 최대공약수 가 되겠다.\n",
    "#Review) 그리고 이공식은  [ W+H-최대공약수 ]로 해도 결과가 같다."
   ]
  },
  {
   "cell_type": "code",
   "execution_count": 4,
   "metadata": {},
   "outputs": [
    {
     "name": "stdout",
     "output_type": "stream",
     "text": [
      "4\n"
     ]
    }
   ],
   "source": [
    "[499, 27] 12948 케이스와 [499, 1000] 497502 "
   ]
  }
 ],
 "metadata": {
  "kernelspec": {
   "display_name": "Python 3",
   "language": "python",
   "name": "python3"
  },
  "language_info": {
   "codemirror_mode": {
    "name": "ipython",
    "version": 3
   },
   "file_extension": ".py",
   "mimetype": "text/x-python",
   "name": "python",
   "nbconvert_exporter": "python",
   "pygments_lexer": "ipython3",
   "version": "3.8.5"
  }
 },
 "nbformat": 4,
 "nbformat_minor": 4
}

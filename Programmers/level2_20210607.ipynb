{
 "cells": [
  {
   "cell_type": "code",
   "execution_count": null,
   "metadata": {},
   "outputs": [],
   "source": [
    "#level2/타겟 넘버\n",
    "def solution(numbers,target):\n",
    "    sup=[0]\n",
    "    for i in numbers:\n",
    "        sub=[]\n",
    "        for j in sup:\n",
    "            sub.append(j+i)\n",
    "            sub.append(j-i)\n",
    "        sup=sub\n",
    "    return sup.count(target)"
   ]
  },
  {
   "cell_type": "code",
   "execution_count": 31,
   "metadata": {},
   "outputs": [
    {
     "name": "stdout",
     "output_type": "stream",
     "text": [
      "1\n",
      "2\n",
      "3\n",
      "4\n",
      "1 3\n",
      "[1, 3]\n"
     ]
    }
   ],
   "source": [
    "#level2/영어 끝말잇기\n",
    "import math\n",
    "def solution(n, words):\n",
    "    answer = []\n",
    "    loop,order=0,0\n",
    "    word=words[0]\n",
    "    new_word=\"\"\n",
    "    stack=[]\n",
    "    flag=False\n",
    "    for i in range(1,len(words)):\n",
    "        print(i)\n",
    "        new_word=words[i]\n",
    "        order=(i+1)%n\n",
    "        if order==0:\n",
    "            order=n\n",
    "        loop=math.ceil((i+1)/n)\n",
    "        if new_word in stack:\n",
    "            flag=True\n",
    "            break\n",
    "        \n",
    "        if new_word[0]!=word[-1]:\n",
    "            print(order,loop)\n",
    "            flag=True\n",
    "            break\n",
    "            \n",
    "        stack.append(word)\n",
    "        word=new_word\n",
    "    if flag==False:\n",
    "        order,loop=0,0\n",
    "    answer.append(order)    \n",
    "    answer.append(loop)\n",
    "    return answer\n",
    "print(solution(\t2, [\"hello\", \"one\", \"even\", \"never\", \"now\", \"world\", \"draw\"]))"
   ]
  },
  {
   "cell_type": "code",
   "execution_count": null,
   "metadata": {},
   "outputs": [],
   "source": [
    "#level2/짝지어 제거하기\n",
    "def solution(s):\n",
    "    s=list(reversed(list(s)))\n",
    "    stack=[s.pop()]\n",
    "    while s:\n",
    "        c=s.pop()\n",
    "        if len(stack)==0 or stack[-1]!=c:\n",
    "            stack.append(c)\n",
    "        else:\n",
    "            stack.pop()\n",
    "    if len(stack)==0:\n",
    "        return 1\n",
    "    else:\n",
    "        return 0\n",
    "#Reveiw)계속해서 length가 변하고 그 변화를 감지해서 유도하는 문제들은 stack을 이용해보자"
   ]
  },
  {
   "cell_type": "code",
   "execution_count": null,
   "metadata": {},
   "outputs": [],
   "source": [
    "#level2/방문길이-1\n",
    "def solution(dirs):\n",
    "    dxs, dys = [-1, 0, 1, 0], [0, -1, 0, 1]\n",
    "    d = {\"U\": 0, \"L\":1, \"D\":2, \"R\": 3}\n",
    "\n",
    "    visited = set()\n",
    "    answer = 0\n",
    "    x, y = 0, 0\n",
    "    for dir in dirs:\n",
    "        i = d[dir]\n",
    "        nx, ny = x + dxs[i], y + dys[i]\n",
    "        if nx < -5 or nx > 5 or ny < -5 or ny > 5:\n",
    "            continue\n",
    "        if (x, y, nx, ny) not in visited:\n",
    "            visited.add((x, y, nx, ny))\n",
    "            visited.add((nx, ny, x, y)) # 길은 '양방향' 임을 빼먹으면 안됨!\n",
    "            answer += 1\n",
    "        x, y = nx, ny\n",
    "\n",
    "    return answer"
   ]
  },
  {
   "cell_type": "code",
   "execution_count": null,
   "metadata": {},
   "outputs": [],
   "source": [
    "#level2/방문길이-2\n",
    "def solution(dirs):\n",
    "    count = 0\n",
    "    visited = set()\n",
    "    cy, cx = 0, 0\n",
    "    for i in range(len(dirs)):\n",
    "        ny, nx = get_next((cy, cx), dirs[i])\n",
    "        if -5 <= ny <= 5 and -5 <= nx <= 5:\n",
    "            if (cy, cx, ny, nx) not in visited and (ny, nx, cy, cx) not in visited:\n",
    "                visited.add((cy, cx, ny, nx))\n",
    "                count += 1\n",
    "            cy, cx = ny, nx\n",
    "    return count\n",
    "\n",
    "\n",
    "def get_next(curr, d):\n",
    "    cy, cx = curr\n",
    "    if d == 'U':\n",
    "        return cy+1, cx\n",
    "    elif d == 'D':\n",
    "        return cy-1, cx\n",
    "    elif d == 'L':\n",
    "        return cy, cx-1\n",
    "    elif d == 'R':\n",
    "        return cy, cx+1"
   ]
  }
 ],
 "metadata": {
  "kernelspec": {
   "display_name": "Python 3",
   "language": "python",
   "name": "python3"
  },
  "language_info": {
   "codemirror_mode": {
    "name": "ipython",
    "version": 3
   },
   "file_extension": ".py",
   "mimetype": "text/x-python",
   "name": "python",
   "nbconvert_exporter": "python",
   "pygments_lexer": "ipython3",
   "version": "3.8.5"
  }
 },
 "nbformat": 4,
 "nbformat_minor": 4
}

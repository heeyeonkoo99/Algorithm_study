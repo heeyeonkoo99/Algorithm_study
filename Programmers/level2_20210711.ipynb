{
 "cells": [
  {
   "cell_type": "code",
   "execution_count": 10,
   "metadata": {},
   "outputs": [
    {
     "name": "stdout",
     "output_type": "stream",
     "text": [
      "[3, 7]\n"
     ]
    }
   ],
   "source": [
    "#level3/보석쇼핑\n",
    "def solution(gems):\n",
    "    TYPE_NUM=len(set(gems))#종류개수\n",
    "    GEM_NUM=len(gems)#진열대 길이\n",
    "    answer=[]\n",
    "    start,end=0,0\n",
    "    DIST,INDEX=0,1#구간,index\n",
    "    #초기값\n",
    "    cur_shop={gems[0]:1}\n",
    "    while start<GEM_NUM and end<GEM_NUM:\n",
    "        if len(cur_shop)<TYPE_NUM:#아직 전체 모음 아님\n",
    "            end+=1\n",
    "            if end==GEM_NUM:\n",
    "                break\n",
    "            cur_shop[gems[end]]=cur_shop.get(gems[end],0)+1\n",
    "        else:\n",
    "            answer.append((end-start,[start+1,end+1]))\n",
    "            cur_shop[gems[start]]-=1\n",
    "            if cur_shop[gems[start]]==0:\n",
    "                del cur_shop[gems[start]]\n",
    "            start+=1\n",
    "    answer=sorted(answer,key=lambda x:(x[DIST],x[INDEX]))\n",
    "    return answer[0][INDEX]\n",
    "\n",
    "print(solution([\"DIA\", \"RUBY\", \"RUBY\", \"DIA\", \"DIA\", \"EMERALD\", \"SAPPHIRE\", \"DIA\"]))"
   ]
  },
  {
   "cell_type": "code",
   "execution_count": 31,
   "metadata": {},
   "outputs": [
    {
     "name": "stdout",
     "output_type": "stream",
     "text": [
      "[4, 1]\n"
     ]
    }
   ],
   "source": [
    "#level2/이진 변환 반복하기\n",
    "\n",
    "def find_zero(s):\n",
    "    cnt=0\n",
    "    for i in s:\n",
    "        if i==\"0\":\n",
    "            cnt+=1\n",
    "    return cnt\n",
    "\n",
    "def find_one(s):\n",
    "    cnt=0\n",
    "    for i in s:\n",
    "        if i==\"1\":\n",
    "            cnt+=1\n",
    "    return cnt\n",
    "\n",
    "def solution(s):\n",
    "    answer = []\n",
    "    order,rem=0,0\n",
    "    while True:\n",
    "        order+=1\n",
    "        rem+=find_zero(s)\n",
    "        s=format(find_one(s),\"b\")\n",
    "        if s==\"1\":\n",
    "            break\n",
    "    answer.append(order)\n",
    "    answer.append(rem)\n",
    "    return answer\n",
    "\n",
    "print(solution(\"1111111\"))\n",
    "#Review)A-HA! count기능이 있었다."
   ]
  },
  {
   "cell_type": "code",
   "execution_count": 35,
   "metadata": {},
   "outputs": [
    {
     "name": "stdout",
     "output_type": "stream",
     "text": [
      "[('100',), ('200',), ('300',), ('400',), ('500',), ('600',)]\n",
      "[('ryan',), ('apeach',), ('tube',), ('con',), ('muzi',), ('apeach',)]\n",
      "[('music',), ('math',), ('computer',), ('computer',), ('music',), ('music',)]\n",
      "[('2',), ('2',), ('3',), ('4',), ('3',), ('2',)]\n",
      "[('100', 'ryan'), ('200', 'apeach'), ('300', 'tube'), ('400', 'con'), ('500', 'muzi'), ('600', 'apeach')]\n",
      "[('100', 'music'), ('200', 'math'), ('300', 'computer'), ('400', 'computer'), ('500', 'music'), ('600', 'music')]\n",
      "[('100', '2'), ('200', '2'), ('300', '3'), ('400', '4'), ('500', '3'), ('600', '2')]\n",
      "[('ryan', 'music'), ('apeach', 'math'), ('tube', 'computer'), ('con', 'computer'), ('muzi', 'music'), ('apeach', 'music')]\n",
      "[('ryan', '2'), ('apeach', '2'), ('tube', '3'), ('con', '4'), ('muzi', '3'), ('apeach', '2')]\n",
      "[('music', '2'), ('math', '2'), ('computer', '3'), ('computer', '4'), ('music', '3'), ('music', '2')]\n",
      "[('100', 'ryan', 'music'), ('200', 'apeach', 'math'), ('300', 'tube', 'computer'), ('400', 'con', 'computer'), ('500', 'muzi', 'music'), ('600', 'apeach', 'music')]\n",
      "[('100', 'ryan', '2'), ('200', 'apeach', '2'), ('300', 'tube', '3'), ('400', 'con', '4'), ('500', 'muzi', '3'), ('600', 'apeach', '2')]\n",
      "[('100', 'music', '2'), ('200', 'math', '2'), ('300', 'computer', '3'), ('400', 'computer', '4'), ('500', 'music', '3'), ('600', 'music', '2')]\n",
      "[('ryan', 'music', '2'), ('apeach', 'math', '2'), ('tube', 'computer', '3'), ('con', 'computer', '4'), ('muzi', 'music', '3'), ('apeach', 'music', '2')]\n",
      "[('100', 'ryan', 'music', '2'), ('200', 'apeach', 'math', '2'), ('300', 'tube', 'computer', '3'), ('400', 'con', 'computer', '4'), ('500', 'muzi', 'music', '3'), ('600', 'apeach', 'music', '2')]\n",
      "2\n"
     ]
    }
   ],
   "source": [
    "#level2/후보키-1\n",
    "from itertools import combinations\n",
    "\n",
    "def solution(relation):\n",
    "    row = len(relation)\n",
    "    col = len(relation[0])\n",
    "\n",
    "    #가능한 속성의 모든 인덱스 조합 \n",
    "    combi = []\n",
    "    for i in range(1, col+1):\n",
    "        combi.extend(combinations(range(col), i))\n",
    "        #print(combi)\n",
    "        \n",
    "    #유일성\n",
    "    unique = []\n",
    "    for i in combi:\n",
    "        tmp = [tuple([item[key] for key in i]) for item in relation] #이부분이 헷갈린다..\n",
    "        print(tmp)\n",
    "\n",
    "        if len(set(tmp)) == row:    # 유일성\n",
    "            put = True\n",
    "            \n",
    "            for x in unique:\n",
    "                if set(x).issubset(set(i)):  # 최소성\n",
    "                    put = False\n",
    "                    break\n",
    "                    \n",
    "            if put: unique.append(i)\n",
    "   \n",
    "    return len(unique)\n",
    "\n",
    "print(solution([[\"100\",\"ryan\",\"music\",\"2\"],[\"200\",\"apeach\",\"math\",\"2\"],[\"300\",\"tube\",\"computer\",\"3\"],[\"400\",\"con\",\"computer\",\"4\"],[\"500\",\"muzi\",\"music\",\"3\"],[\"600\",\"apeach\",\"music\",\"2\"]]))\n",
    "\n",
    "#유일성은 중복이 없어야 하고, 최소성은 해당 키 집합이 다른 키 집합의 부분집합이 아니어야 한다는 것\n",
    "#https://velog.io/@sem/%ED%94%84%EB%A1%9C%EA%B7%B8%EB%9E%98%EB%A8%B8%EC%8A%A4-LEVEL2-%ED%9B%84%EB%B3%B4%ED%82%A4-Python 참고하기"
   ]
  },
  {
   "cell_type": "code",
   "execution_count": 37,
   "metadata": {},
   "outputs": [],
   "source": [
    "#level2/후보키-2\n",
    "from collections import deque\n",
    "from itertools import combinations\n",
    "\n",
    "def solution(relation):\n",
    "    n_row=len(relation)\n",
    "    n_col=len(relation[0])\n",
    "    \n",
    "    candidates=[]\n",
    "    for i in range(1,n_col+1):\n",
    "        candidates.extend(combinations(range(n_col),i))\n",
    "    \n",
    "    final=[]\n",
    "    for keys in candidates:\n",
    "        temp=[tuple([item[key] for key in keys])for item in relations]\n",
    "        if len(set(temp))==n_row:\n",
    "            final.append(keys)\n",
    "            \n",
    "    answer=set(final[:])\n",
    "    for i in range(len(final)):\n",
    "        for j in range(i+1,len(final)):\n",
    "            if len(final[i])==len(set(final[i]).intersection(set(final[j]))):\n",
    "                answer.discard(final[j])\n",
    "                \n",
    "    return len(answer)"
   ]
  }
 ],
 "metadata": {
  "kernelspec": {
   "display_name": "Python 3",
   "language": "python",
   "name": "python3"
  },
  "language_info": {
   "codemirror_mode": {
    "name": "ipython",
    "version": 3
   },
   "file_extension": ".py",
   "mimetype": "text/x-python",
   "name": "python",
   "nbconvert_exporter": "python",
   "pygments_lexer": "ipython3",
   "version": "3.8.5"
  }
 },
 "nbformat": 4,
 "nbformat_minor": 4
}

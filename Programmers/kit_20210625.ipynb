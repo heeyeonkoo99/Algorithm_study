{
 "cells": [
  {
   "cell_type": "code",
   "execution_count": 1,
   "metadata": {},
   "outputs": [],
   "source": [
    "#정렬>k번째 수\n",
    "def solution(array,commands):\n",
    "    answer=[]\n",
    "    while len(commands)!=0:\n",
    "        numbers=array[commands[0][0]+1:commands[0][1]]\n",
    "        numbers.sort()\n",
    "        number=numbers[commands[0][2]+1]\n",
    "        answer.append(number)\n",
    "        commands.pop(0)\n",
    "    return answer\n",
    "        "
   ]
  },
  {
   "cell_type": "code",
   "execution_count": null,
   "metadata": {},
   "outputs": [],
   "source": [
    "#정렬>가장 큰 수\n",
    "def solution(numbers):\n",
    "    answer=\"\"\n",
    "    numbers=list(map(str,numbers))\n",
    "    numbers.sort(key=lamda x:x*3,reverse=True)\n",
    "    answer=str(int(\"\".join(numbers)))\n",
    "    return answer"
   ]
  },
  {
   "cell_type": "code",
   "execution_count": null,
   "metadata": {},
   "outputs": [],
   "source": [
    "#정렬>H-Index\n",
    "def solution(citations):\n",
    "    answer=0\n",
    "    citations.sort(reverse=True)\n",
    "    for i,v in enumerate(citations):\n",
    "        if i+1<=v:\n",
    "            answer=i+1\n",
    "    return answer:"
   ]
  },
  {
   "cell_type": "code",
   "execution_count": null,
   "metadata": {},
   "outputs": [],
   "source": [
    "#완전탐색>모의고사\n",
    "def solution(answers):\n",
    "    first=[1,2,3,4,5]\n",
    "    second=[2,1,2,3,2,4,2,5]\n",
    "    third=[3,3,1,1,2,2,4,4,5,5]\n",
    "    fc=sc=tc=0\n",
    "    for i in range(len(answers)):\n",
    "        if first[i%(len(first))]==answers[i]:\n",
    "            fc+=1\n",
    "        if second[i%(len(second))]==answers[i]:\n",
    "            sc+=1\n",
    "        if third[i%(len(third))]==answers[i]:\n",
    "            tc+=1\n",
    "    MAX=max(fc,sc,tc)\n",
    "    answer=[]\n",
    "    if MAX==fc:\n",
    "        answer.append(1)\n",
    "    if MAX==sc:\n",
    "        answer.append(2)\n",
    "    if MAX==tc:\n",
    "        answer.append(3)\n",
    "    return answer"
   ]
  },
  {
   "cell_type": "code",
   "execution_count": null,
   "metadata": {},
   "outputs": [],
   "source": [
    "#완전탐색>소수찾기\n",
    "from itertools import permutations\n",
    "import math\n",
    "\n",
    "def check(n):\n",
    "    if n<2:\n",
    "        return False\n",
    "    for i in range(2,int(math.sqrt(n))+1):\n",
    "        if n%i==0:\n",
    "            return False\n",
    "    return True\n",
    "\n",
    "\n",
    "def solution(numbers):\n",
    "    answer=[]\n",
    "    for k in range(1,len(numbers)+1):\n",
    "        perlist=list(map(\"\".join,permutations(list(numbers),k)))\n",
    "        print(perlist)\n",
    "        for i in list(set(perlist)):\n",
    "            if check(int(i)):\n",
    "                answer.append(int(i))\n",
    "    answer=len(set(answer))\n",
    "                \n",
    "    return answer"
   ]
  },
  {
   "cell_type": "code",
   "execution_count": null,
   "metadata": {},
   "outputs": [],
   "source": [
    "#완전탐색>카펫\n",
    "def solution(brown,yellow):\n",
    "    s=yellow+brown\n",
    "    for i in range(s,2,-1):\n",
    "        if s%i==0:\n",
    "            a=s//i\n",
    "            if yellow==(a-2)*(i-2):\n",
    "                return [i,a]"
   ]
  },
  {
   "cell_type": "code",
   "execution_count": null,
   "metadata": {},
   "outputs": [],
   "source": [
    "#깊이/너비 우선 탐색>타겟 넘버\n",
    "def solution(numbers,target):\n",
    "    sup=[0]\n",
    "    for i in numbers:\n",
    "        sub=[]\n",
    "        for j in sup:\n",
    "            sub.append(j+i)\n",
    "            sub.append(j-i)\n",
    "        sup=sub\n",
    "    return sup.count(target)\n",
    "    "
   ]
  }
 ],
 "metadata": {
  "kernelspec": {
   "display_name": "Python 3",
   "language": "python",
   "name": "python3"
  },
  "language_info": {
   "codemirror_mode": {
    "name": "ipython",
    "version": 3
   },
   "file_extension": ".py",
   "mimetype": "text/x-python",
   "name": "python",
   "nbconvert_exporter": "python",
   "pygments_lexer": "ipython3",
   "version": "3.8.5"
  }
 },
 "nbformat": 4,
 "nbformat_minor": 4
}

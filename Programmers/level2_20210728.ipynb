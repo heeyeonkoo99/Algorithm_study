{
 "cells": [
  {
   "cell_type": "code",
   "execution_count": null,
   "metadata": {},
   "outputs": [],
   "source": [
    "#level2/게임 맵 최단거리\n",
    "from collections import deque\n",
    "\n",
    "d=[[1,0],[-1,0],[0,1],[0,-1]]\n",
    "\n",
    "def solution(maps):\n",
    "    r=len(maps)\n",
    "    c=len(maps[0])\n",
    "    table=[[-1 for _ in range(c)] for _ in range(r)]\n",
    "    q=deque()\n",
    "    q.append([0,0])\n",
    "    table[0][0]=1\n",
    "    \n",
    "    while q:\n",
    "        y,x=q.popleft()\n",
    "        \n",
    "        for i in range(4):\n",
    "            ny=y+d[i][0]\n",
    "            nx=x+d[i][1]\n",
    "            \n",
    "            if -1<ny<r and -1<nx<c:\n",
    "                if maps[ny][nx]==1:\n",
    "                    if table[ny][nx]==-1:\n",
    "                        table[ny][nx]=table[y][x]+1\n",
    "                        q.append([ny,nx])\n",
    "    answer=table[-1][-1]\n",
    "    return answer\n",
    "\n",
    "#Review) bfs문제로 최단거리를 구할때 꼭 쓰인다."
   ]
  },
  {
   "cell_type": "code",
   "execution_count": null,
   "metadata": {},
   "outputs": [],
   "source": [
    "#level2/스킬트리\n",
    "\n",
    "def solution(skill,skill_trees):\n",
    "    answer=0\n",
    "    for sk in skill_trees:\n",
    "        match=[]\n",
    "        for s in sk:\n",
    "            if s in skill:\n",
    "                match.append(s)\n",
    "        for i in range(len(match)):\n",
    "            if match[i]!=skill[i]:\n",
    "                break\n",
    "        else:\n",
    "            answer+=1\n",
    "    return answer\n",
    "\n",
    "#Review) 어렵게 생각하지 말기"
   ]
  },
  {
   "cell_type": "code",
   "execution_count": null,
   "metadata": {},
   "outputs": [],
   "source": [
    "#level2/파일명 정렬\n",
    "import re\n",
    "\n",
    "def solution(files):\n",
    "    temp=[re.split(r\"([0-9]+)\",s) for s in files]\n",
    "    print(temp)\n",
    "    sort=sorted(temp,key=lambda x:(x[0].lower(),int(x[1])))\n",
    "    print(sort)\n",
    "    return [\"\".join(s) for s in sort]\n",
    "#Review)https://velog.io/@aonee/Python-import-re\n",
    "#Review)re 라이브러리 공부하자!"
   ]
  }
 ],
 "metadata": {
  "kernelspec": {
   "display_name": "Python 3 (ipykernel)",
   "language": "python",
   "name": "python3"
  },
  "language_info": {
   "codemirror_mode": {
    "name": "ipython",
    "version": 3
   },
   "file_extension": ".py",
   "mimetype": "text/x-python",
   "name": "python",
   "nbconvert_exporter": "python",
   "pygments_lexer": "ipython3",
   "version": "3.8.5"
  }
 },
 "nbformat": 4,
 "nbformat_minor": 4
}

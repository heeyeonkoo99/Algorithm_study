{
 "cells": [
  {
   "cell_type": "code",
   "execution_count": 35,
   "metadata": {},
   "outputs": [
    {
     "name": "stdout",
     "output_type": "stream",
     "text": [
      "True\n"
     ]
    }
   ],
   "source": [
    "#level1/문자열다루기 기본\n",
    "def solution(s):\n",
    "    answer = True\n",
    "    while(1):\n",
    "        if len(s)==4 or len(s)==6:\n",
    "            break\n",
    "        else:\n",
    "            answer=False\n",
    "            break\n",
    "\n",
    "    for i in s:\n",
    "        if i.isdigit()==True:\n",
    "            continue\n",
    "        else:\n",
    "            answer=False\n",
    "    return answer"
   ]
  },
  {
   "cell_type": "code",
   "execution_count": null,
   "metadata": {},
   "outputs": [],
   "source": [
    "#level1/완주하지 못한 선수\n",
    "def solution(participant, completion):\n",
    "    answer = {}\n",
    "    for i in participant:\n",
    "        answer[i]=answer.get(i,0)+1\n",
    "    for j in completion:\n",
    "        answer[j]-=1\n",
    "    for k in answer:\n",
    "        if answer[k]:\n",
    "            return k\n",
    "    \n",
    "    return answer\n",
    "#Review) 파이썬 딕셔너리를 이용하고 get함수등등 더 공부해보자"
   ]
  },
  {
   "cell_type": "code",
   "execution_count": null,
   "metadata": {},
   "outputs": [],
   "source": [
    "#level1/소수찾기\n",
    "def solution(n):\n",
    "    #에리토스테네스의 체 방식을 이용해야될듯..\n",
    "    answer=0\n",
    "    a=[True]*(n+1)\n",
    "    m=int(n**0.5)\n",
    "    \n",
    "    for i in range(2,m+1):\n",
    "        if a[i]==True:\n",
    "            for j in range(i+i,n+1,i):\n",
    "                a[j]=False\n",
    "    for i in range(2,n+1):\n",
    "        if a[i]==True:\n",
    "            answer+=1\n",
    "            \n",
    "    return answer"
   ]
  },
  {
   "cell_type": "code",
   "execution_count": 38,
   "metadata": {},
   "outputs": [],
   "source": [
    "#level1/자릿수 더하기\n",
    "def solution(n):\n",
    "    answer = 0\n",
    "    for i in str(n):\n",
    "        answer+=int(i)\n",
    "\n",
    "    return answer"
   ]
  },
  {
   "cell_type": "code",
   "execution_count": null,
   "metadata": {},
   "outputs": [],
   "source": [
    "#level1/서울에서 김서방 찾기\n",
    "def solution(seoul):\n",
    "    answer = ''\n",
    "    for i in range(len(seoul)):\n",
    "        if seoul[i]==\"Kim\":\n",
    "            answer=i\n",
    "    answer=\"김서방은 \"+str(answer)+\"에 있다\"\n",
    "    return answer"
   ]
  },
  {
   "cell_type": "code",
   "execution_count": 49,
   "metadata": {},
   "outputs": [
    {
     "name": "stdout",
     "output_type": "stream",
     "text": [
      "144\n"
     ]
    }
   ],
   "source": [
    "#level1/정수 제곱근 판별\n",
    "import math\n",
    "def solution(n):\n",
    "    answer = 0\n",
    "    key=0\n",
    "    key=math.sqrt(n)\n",
    "    new=0\n",
    "    new=int(key)\n",
    "    if key==new:\n",
    "        answer=int(pow(key+1,2))\n",
    "    else:\n",
    "        answer=-1\n",
    "    return answer\n",
    "print(solution(121))"
   ]
  }
 ],
 "metadata": {
  "kernelspec": {
   "display_name": "Python 3",
   "language": "python",
   "name": "python3"
  },
  "language_info": {
   "codemirror_mode": {
    "name": "ipython",
    "version": 3
   },
   "file_extension": ".py",
   "mimetype": "text/x-python",
   "name": "python",
   "nbconvert_exporter": "python",
   "pygments_lexer": "ipython3",
   "version": "3.8.5"
  }
 },
 "nbformat": 4,
 "nbformat_minor": 4
}

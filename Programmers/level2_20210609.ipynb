{
 "cells": [
  {
   "cell_type": "code",
   "execution_count": 3,
   "metadata": {},
   "outputs": [],
   "source": [
    "#level2/n진수 게임-1\n",
    "def solution(n,t,m,p):\n",
    "    answer=\"\"\n",
    "    length=m*t\n",
    "    candidate=\"0\"\n",
    "    num=0\n",
    "    alpha=\"ABCDEF\"\n",
    "    \n",
    "    while len(candidate)<length: #length길이보다 작을때까지 n진법으로 변환\n",
    "        res=\"\"\n",
    "        number=num\n",
    "        while True: #자연수 number를 n으로 변환하는 반복문\n",
    "            if number==0: #더 이상 나누지 못하면 break\n",
    "                break\n",
    "            if number%n:\n",
    "                if number%n>=10: #10-15값이면 alpha와 매핑\n",
    "                    res+=alpha[(number%n)%10]\n",
    "                else: #나머지 값을 res에 답는다.\n",
    "                    res+=str(number%n)\n",
    "            else:\n",
    "                res+=\"0\"\n",
    "        num+=1\n",
    "        candidate+=res[::-1]\n",
    "    for i in range(p-1,length,m):\n",
    "        answer+=candidate[i]\n",
    "    return answer\n",
    "#Review)n진수 변환하는거 열심히 연습하자!"
   ]
  },
  {
   "cell_type": "code",
   "execution_count": 4,
   "metadata": {},
   "outputs": [],
   "source": [
    "#level2/n진수 게임-2\n",
    "def trans(n, num):\n",
    "    arr = \"0123456789ABCDEF\"\n",
    "    ret = ''\n",
    "    if num == 0:\n",
    "        return '0'\n",
    "    while num > 0:\n",
    "        ret = arr[num % n] + ret\n",
    "        num = num // n\n",
    "    return ret\n",
    "\n",
    "def solution(n, t, m, p):\n",
    "    answer = ''\n",
    "    string = ''\n",
    "    \n",
    "    for i in range(t*m):\n",
    "        string += trans(n, i)\n",
    "        \n",
    "    for s in range(p-1, t*m, m):\n",
    "        answer += string[s]\n",
    "\n",
    "    return answer"
   ]
  },
  {
   "cell_type": "code",
   "execution_count": null,
   "metadata": {},
   "outputs": [],
   "source": [
    "#level2/방문길이\n",
    "def solution(dirs):\n",
    "    dxs, dys = [-1, 0, 1, 0], [0, -1, 0, 1]\n",
    "    d = {\"U\": 0, \"L\":1, \"D\":2, \"R\": 3}\n",
    "\n",
    "    visited = set()\n",
    "    answer = 0\n",
    "    x, y = 0, 0\n",
    "    for dir in dirs:\n",
    "        i = d[dir]\n",
    "        nx, ny = x + dxs[i], y + dys[i]\n",
    "        if nx < -5 or nx > 5 or ny < -5 or ny > 5:\n",
    "            continue\n",
    "        if (x, y, nx, ny) not in visited:\n",
    "            visited.add((x, y, nx, ny))\n",
    "            visited.add((nx, ny, x, y)) # 길은 '양방향' 임을 빼먹으면 안됨!\n",
    "            answer += 1\n",
    "        x, y = nx, ny\n",
    "\n",
    "    return answer"
   ]
  },
  {
   "cell_type": "code",
   "execution_count": 7,
   "metadata": {},
   "outputs": [],
   "source": [
    "#level2/튜플-1\n",
    "def solution(s):\n",
    "    ls = sorted([s.split(',') for s in s[2:-2].split('},{')], key=len)\n",
    "    result = []\n",
    "    for l in ls:\n",
    "        for s in l:\n",
    "            if int(s) not in result:\n",
    "                result.append(int(s))\n",
    "                break\n",
    "    return result\n",
    "\n",
    "#Review)문제 해석하는것부터 조금 어려웠다..근데 원리는 간단한듯!"
   ]
  },
  {
   "cell_type": "code",
   "execution_count": 10,
   "metadata": {},
   "outputs": [],
   "source": [
    "#level2/튜플-2\n",
    "def solution(s):\n",
    "    answer=[]\n",
    "    s=s[2:-2]\n",
    "    s=s.split(\"},{\")\n",
    "    s.sort(key=len)\n",
    "    for i in s:\n",
    "        ii=i.split(\",\")\n",
    "        for j in ii:\n",
    "            if int(j) not in answer:\n",
    "                answer.append(int(j))\n",
    "    return answer"
   ]
  }
 ],
 "metadata": {
  "kernelspec": {
   "display_name": "Python 3",
   "language": "python",
   "name": "python3"
  },
  "language_info": {
   "codemirror_mode": {
    "name": "ipython",
    "version": 3
   },
   "file_extension": ".py",
   "mimetype": "text/x-python",
   "name": "python",
   "nbconvert_exporter": "python",
   "pygments_lexer": "ipython3",
   "version": "3.8.5"
  }
 },
 "nbformat": 4,
 "nbformat_minor": 4
}

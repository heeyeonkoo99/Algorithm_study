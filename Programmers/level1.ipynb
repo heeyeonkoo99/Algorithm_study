{
 "cells": [
  {
   "cell_type": "code",
   "execution_count": 5,
   "metadata": {},
   "outputs": [],
   "source": [
    "#level2/조이스틱\n",
    "def solution(name): #65-90(A~Z)\n",
    "    moves=[min(ord(s)-ord('A'),ord('Z')-ord(s)+1) for s in name]\n",
    "    \n",
    "    pos=0\n",
    "    answer=0\n",
    "    while True:\n",
    "        answer+=moves[pos]\n",
    "        moves[pos]=0\n",
    "        \n",
    "        if sum(moves)==0:break\n",
    "        left=1\n",
    "        right=1\n",
    "        \n",
    "        while moves[pos-left]==0:#'A'가 아닌 문자가 나올경우에 결국 변경해야되니까!\n",
    "            left+=1\n",
    "            print(left)\n",
    "        while moves[pos+right]==0:\n",
    "            right+=1\n",
    "            print(right)\n",
    "        if left>=right:\n",
    "            pos+=right\n",
    "            answer+=right\n",
    "        else:\n",
    "            pos-=left\n",
    "            answer+=left\n",
    "    return answer\n",
    "#Review) greedy한 방식으로 푼다.\n",
    "#      1.모든 target문자에 대해 A로부터의 거리와 Z로부터의 거리중 작은 값 저장\n",
    "#      2.left,right 각각 1씩 늘려가며 target문자 A가 아닌 문자에 먼저 도달하는 경우 찾기\n",
    "#      3.left,right중 더 짧은 거리의 위치로 이동하여 반복\n",
    "#참고) https://dev-note-97.tistory.com/96\n"
   ]
  },
  {
   "cell_type": "code",
   "execution_count": 7,
   "metadata": {},
   "outputs": [
    {
     "name": "stdout",
     "output_type": "stream",
     "text": [
      "9\n"
     ]
    }
   ],
   "source": [
    "#level1/음양더하기\n",
    "def solution(absolutes, signs):\n",
    "    answer=0\n",
    "    for i in range(len(absolutes)):\n",
    "        if signs[i]==True:\n",
    "            answer+=absolutes[i]\n",
    "            \n",
    "        else:\n",
    "            answer-=absolutes[i]\n",
    "    return answer\n",
    "print(solution([4,7,12],[True,False,True]))"
   ]
  },
  {
   "cell_type": "code",
   "execution_count": 22,
   "metadata": {},
   "outputs": [
    {
     "name": "stdout",
     "output_type": "stream",
     "text": [
      "[1, 2, 3]\n"
     ]
    }
   ],
   "source": [
    "#level1/모의고사\n",
    "def solution(answers):\n",
    "    answer = []\n",
    "    student_a=[1,2,3,4,5]*2000\n",
    "    student_b=[2,1,2,3,2,4,2,5]*2000\n",
    "    student_c=[3,3,1,1,2,2,4,4,5,5]*1000\n",
    "    a=0\n",
    "    b=0\n",
    "    c=0\n",
    "    find=0\n",
    "    new_answers=answers\n",
    "    for i in range(len(answers)):\n",
    "        if new_answers[i]==student_a[i]:\n",
    "            a+=1\n",
    "        if new_answers[i]==student_b[i]:\n",
    "            b+=1\n",
    "        if new_answers[i]==student_c[i]:\n",
    "            c+=1\n",
    "    abc_list=[a,b,c]\n",
    "    find=max(abc_list)\n",
    "\n",
    "    if a==find:\n",
    "        answer.append(1)\n",
    "    if b==find:\n",
    "        answer.append(2)\n",
    "    if c==find:\n",
    "        answer.append(3)\n",
    "\n",
    "    answer.sort()\n",
    "    \n",
    "    \n",
    "    return answer\n",
    "print(solution([1,3,2,4,2]))"
   ]
  },
  {
   "cell_type": "code",
   "execution_count": null,
   "metadata": {},
   "outputs": [],
   "source": [
    "#level1/문자열내 마음대로 정렬하기\n",
    "def solution(strings, n):\n",
    "    answer = []\n",
    "    extracted=[]\n",
    "    for i in strings:\n",
    "        extracted.append([i[n],i])\n",
    "    extracted.sort()\n",
    "    for i in extracted:\n",
    "        answer.append(i[1])\n",
    "    \n",
    "    return answer"
   ]
  },
  {
   "cell_type": "code",
   "execution_count": 37,
   "metadata": {},
   "outputs": [
    {
     "name": "stdout",
     "output_type": "stream",
     "text": [
      "month_index가 머여SUN\n",
      "2\n",
      "TUE\n"
     ]
    }
   ],
   "source": [
    "#level1/2016년\n",
    "def solution(a, b):\n",
    "    answer = ''\n",
    "    ordered_day=[\"MON\",\"TUE\",\"WED\",\"THU\",\"FRI\",\"SAT\",\"SUN\"]\n",
    "    month_startday=[\"FRI\",\"MON\",\"TUE\",\"FRI\",\"SUN\",\"WED\",\"FRI\",\"MON\",\"THU\",\"SAT\",\"TUE\",\"THU\"]\n",
    "    month_index=\"\"\n",
    "    date_index=\"\"\n",
    "    temp=0\n",
    "    month_index=month_startday[a-1]\n",
    "    print(\"month_index가 머여\"+month_index)\n",
    "    temp=b%7-1\n",
    "  \n",
    "    for i in range(len(ordered_day)):\n",
    "        if month_index==ordered_day[i]:\n",
    "            if (i+temp)>7:\n",
    "                date_index=ordered_day[i+temp-7]\n",
    "            else:\n",
    "                date_index=ordered_day[i+temp]\n",
    "    answer=date_index\n",
    "    return answer\n",
    "print(solution(5,24))"
   ]
  },
  {
   "cell_type": "code",
   "execution_count": 41,
   "metadata": {},
   "outputs": [
    {
     "name": "stdout",
     "output_type": "stream",
     "text": [
      "4\n",
      "4\n",
      "2\n",
      "2\n",
      "1\n",
      "4\n",
      "4\n",
      "[]\n"
     ]
    }
   ],
   "source": [
    "#level1/같은 숫자는 싫어\n",
    "def solution(arr):\n",
    "    answer = []\n",
    "    for i in range(len(arr)):\n",
    "        if arr[i] in answer and arr[i-1]==arr[i]:\n",
    "            continue\n",
    "        else:\n",
    "            answer.append(arr[i])\n",
    "\n",
    "    return answer"
   ]
  }
 ],
 "metadata": {
  "kernelspec": {
   "display_name": "Python 3",
   "language": "python",
   "name": "python3"
  },
  "language_info": {
   "codemirror_mode": {
    "name": "ipython",
    "version": 3
   },
   "file_extension": ".py",
   "mimetype": "text/x-python",
   "name": "python",
   "nbconvert_exporter": "python",
   "pygments_lexer": "ipython3",
   "version": "3.8.5"
  }
 },
 "nbformat": 4,
 "nbformat_minor": 4
}

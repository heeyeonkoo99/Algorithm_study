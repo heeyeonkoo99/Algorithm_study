{
 "cells": [
  {
   "cell_type": "code",
   "execution_count": null,
   "metadata": {},
   "outputs": [],
   "source": [
    "#백준 1260\n",
    "from collections import deque\n",
    "\n",
    "N,M,V=map(int,input().split())\n",
    "\n",
    "graph=[[0]*(N+1) for _ in range(N+1)]\n",
    "\n",
    "for _ in range(M):\n",
    "    m1,m2=map(int,input().split())\n",
    "    graph[m1][m2]=graph[m2][m1]=1\n",
    "    \n",
    "def bfs(start_v):\n",
    "    discoverd=[start_v]\n",
    "    queue=deque()\n",
    "    queue.append(start_v)\n",
    "    \n",
    "    while queue:\n",
    "        v=queue.popleft()\n",
    "        print(v,end=\" \")\n",
    "        \n",
    "        for w in range(len(graph[start_v])):\n",
    "            if graph[start_v][w]==1 and (w not in discoverd):\n",
    "                discoverd.append(w)\n",
    "                queue.append(w)\n",
    "                \n",
    "def dfs(start_v,discoverd=[]):\n",
    "    discoverd.append(start_v)\n",
    "    print(start_v,end=\" \")\n",
    "    \n",
    "    for w in range(len(graph[start_v])):\n",
    "        if graph[start_v][w]==1 and (w not in discoverd):\n",
    "            dfs(w,discoverd)\n",
    "            \n",
    "        \n",
    "dfs(V)\n",
    "print()\n",
    "bfs(V)"
   ]
  }
 ],
 "metadata": {
  "kernelspec": {
   "display_name": "Python 3 (ipykernel)",
   "language": "python",
   "name": "python3"
  },
  "language_info": {
   "codemirror_mode": {
    "name": "ipython",
    "version": 3
   },
   "file_extension": ".py",
   "mimetype": "text/x-python",
   "name": "python",
   "nbconvert_exporter": "python",
   "pygments_lexer": "ipython3",
   "version": "3.8.5"
  }
 },
 "nbformat": 4,
 "nbformat_minor": 4
}

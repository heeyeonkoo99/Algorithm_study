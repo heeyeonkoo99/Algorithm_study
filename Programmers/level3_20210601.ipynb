{
 "cells": [
  {
   "cell_type": "code",
   "execution_count": null,
   "metadata": {},
   "outputs": [],
   "source": [
    "#level3/N으로 표현-1\n",
    "def solution(N, number):\n",
    "    answer = -1\n",
    "    dp = []\n",
    "    \n",
    "    for i in range (1,9) : \n",
    "    # i = N의 개수\n",
    "    \tall_case = set()\n",
    "        check_number = int(str(N)* i)\n",
    "        # {N}, {NN} , {NNN}...\n",
    "        all_case.add(check_number)\n",
    "        \n",
    "        for j in range(0,i-1):\n",
    "        //j 개를 사용해서 만든 값들\n",
    "            for op1 in dp[j]:\n",
    "                for op2 in dp[-j-1] :\n",
    "                    all_case.add(op1 - op2)\n",
    "                    all_case.add(op1 + op2)\n",
    "                    all_case.add(op1 * op2)\n",
    "                    if op2 != 0:\n",
    "                        all_case.add(op1 // op2)\n",
    "                        \n",
    "        if number in all_case:\n",
    "            answer = i\n",
    "            break\n",
    "            \n",
    "        dp.append(all_case) \n",
    "        \n",
    "\n",
    "    return answer"
   ]
  },
  {
   "cell_type": "code",
   "execution_count": null,
   "metadata": {},
   "outputs": [],
   "source": [
    "#level3/N으로 표현-2\n",
    "def solution(N,number):\n",
    "    arr=[set() for i in range(8)]\n",
    "    \n",
    "    for i,num in enumerate(arr,start=1):\n",
    "        num.add(int(str(N)*i))\n",
    "    for i in range(1,len(arr)):\n",
    "        for j in range(i):\n",
    "            for op1 in arr[j]:\n",
    "                for op2 in arr[i-j-1]:\n",
    "                    arr[i].add(op1+op2) #set에서 값을 추가하는 방식이다.\n",
    "                    arr[i].add(op1-op2)\n",
    "                    arr[i].add(op1*op2)\n",
    "                    if op2!=0:\n",
    "                        arr[i].add(op1//op2)\n",
    "        if number in arr[i]:\n",
    "            answer=i+1\n",
    "            break\n",
    "    else:\n",
    "        answer-1\n",
    "    return answer"
   ]
  },
  {
   "cell_type": "code",
   "execution_count": null,
   "metadata": {},
   "outputs": [],
   "source": [
    "#level3/정수 삼각형\n",
    "def solution(triangle):\n",
    "    for rows in range(1,range(len(triangle))):\n",
    "        for idx in range(rows+1):\n",
    "            if idx==0:\n",
    "                triangle[rows][idx]+=triangle[rows-1][idx]\n",
    "            elif idx==rows:\n",
    "                triangle[rows][idx]+=triangle[rows-1][-1]\n",
    "            else:\n",
    "                triangle[rows][idx]+=max(triangle[rows-1][idx-1],triangle[rows-1][idx])\n",
    "    return max(triangle[-1])"
   ]
  },
  {
   "cell_type": "code",
   "execution_count": null,
   "metadata": {},
   "outputs": [],
   "source": [
    "#level3/등굣길\n",
    "def solution(m, n, puddles):\n",
    "    memo=[[0 for i in range(m+1)] for j in range(n+1)]\n",
    "    memo[1][1]=1\n",
    "    for i in range(n+1):\n",
    "        for j in range(m+1):\n",
    "            if i==1 and j==1:\n",
    "                continue\n",
    "            if [j,i] in puddles:\n",
    "                continue\n",
    "            memo[i][j]=memo[i-1][j]+memo[i][j-1]\n",
    "    return memo[-1][-1]%1000000007"
   ]
  },
  {
   "cell_type": "code",
   "execution_count": null,
   "metadata": {},
   "outputs": [],
   "source": [
    "#level3/도둑질\n",
    "def solution(money):\n",
    "    table=[0 for _ in range(len(money))]\n",
    "    #첫번째 집을 털 경우\n",
    "    table[0]=money[0]\n",
    "    table[1]=table[0]\n",
    "    for i in range(2,len(money)-1):\n",
    "        table[i]=max(table[i-1],table[i-2]+money[i])\n",
    "    value=max(table)\n",
    "    #첫번째 집을 털지 않을 경우\n",
    "    table=[0 for _ in range(len(money))]\n",
    "    table[1]=money[1]\n",
    "    for i in range(2,len(money)):\n",
    "        table[i]=max(table[i-1],table[i-2]+money[i])\n",
    "    return max(value,max(table))\n",
    "\n",
    "#Review)\"2579번: 계단 오르기와 2156번 : 포도주 시식 1149번: RGB 거리\" 와 비슷하다"
   ]
  }
 ],
 "metadata": {
  "kernelspec": {
   "display_name": "Python 3",
   "language": "python",
   "name": "python3"
  },
  "language_info": {
   "codemirror_mode": {
    "name": "ipython",
    "version": 3
   },
   "file_extension": ".py",
   "mimetype": "text/x-python",
   "name": "python",
   "nbconvert_exporter": "python",
   "pygments_lexer": "ipython3",
   "version": "3.8.5"
  }
 },
 "nbformat": 4,
 "nbformat_minor": 4
}

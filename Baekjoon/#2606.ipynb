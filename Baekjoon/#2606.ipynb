{
 "cells": [
  {
   "cell_type": "code",
   "execution_count": null,
   "metadata": {},
   "outputs": [],
   "source": [
    "#dfs이용\n",
    "n=int(input())\n",
    "t=int(input())\n",
    "s=[[0]*n for i in range(n)]\n",
    "visit=[0 for i in range(n)]\n",
    "for i in range(t):\n",
    "    a,b=map(int,input().split())\n",
    "    s[a-1][b-1]=1\n",
    "    s[b-1][a-1]=1\n",
    "def dfs(v):\n",
    "    visit[v]=1\n",
    "    for i in range(n):\n",
    "        if s[v][i]==1 and visit[i]==0:\n",
    "            dfs(i)\n",
    "dfs(0)\n",
    "cnt=0\n",
    "for i in range(1,n):\n",
    "    if visit[i]==1:\n",
    "        cnt+=1\n",
    "print(cnt)"
   ]
  }
 ],
 "metadata": {
  "kernelspec": {
   "display_name": "Python 3",
   "language": "python",
   "name": "python3"
  },
  "language_info": {
   "codemirror_mode": {
    "name": "ipython",
    "version": 3
   },
   "file_extension": ".py",
   "mimetype": "text/x-python",
   "name": "python",
   "nbconvert_exporter": "python",
   "pygments_lexer": "ipython3",
   "version": "3.8.5"
  }
 },
 "nbformat": 4,
 "nbformat_minor": 4
}

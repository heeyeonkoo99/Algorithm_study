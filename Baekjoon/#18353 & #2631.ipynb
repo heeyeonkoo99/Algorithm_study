{
 "cells": [
  {
   "cell_type": "code",
   "execution_count": null,
   "metadata": {},
   "outputs": [],
   "source": [
    "#18353\n",
    "#LSI(최장 길이 부분수열)과 똑같은 알고리즘이다.\n",
    "n=int(input())\n",
    "soldiers=list(map(int,input().split()))\n",
    "soldiers.reverse()\n",
    "\n",
    "dp=[1]*n\n",
    "\n",
    "for i in range(n):\n",
    "    for j in range(i):\n",
    "        if soldiers[j]<soldiers[i]:\n",
    "            dp[i]=max(dp[i],dp[j]+1)\n",
    "            \n",
    "print(n-max(dp))\n",
    "            "
   ]
  },
  {
   "cell_type": "code",
   "execution_count": null,
   "metadata": {},
   "outputs": [],
   "source": [
    "#2631\n",
    "n=int(input())\n",
    "\n",
    "children=[]\n",
    "for _ in range(n):\n",
    "    children.append(int(input()))\n",
    "    \n",
    "#LSI\n",
    "dp=[0 for _ in range(n)]\n",
    "for i in range(n):\n",
    "    dp[i]=1\n",
    "    for j in range(i):\n",
    "        if children[j]<children[i]:\n",
    "            dp[i]=max(dp[i],dp[j]+1)\n",
    "print(n-max(dp))"
   ]
  }
 ],
 "metadata": {
  "kernelspec": {
   "display_name": "Python 3",
   "language": "python",
   "name": "python3"
  },
  "language_info": {
   "codemirror_mode": {
    "name": "ipython",
    "version": 3
   },
   "file_extension": ".py",
   "mimetype": "text/x-python",
   "name": "python",
   "nbconvert_exporter": "python",
   "pygments_lexer": "ipython3",
   "version": "3.8.5"
  }
 },
 "nbformat": 4,
 "nbformat_minor": 4
}

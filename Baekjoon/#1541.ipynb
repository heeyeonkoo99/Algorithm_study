{
 "cells": [
  {
   "cell_type": "code",
   "execution_count": null,
   "metadata": {},
   "outputs": [],
   "source": [
    "#최솟값을 만들기 위해서 -기준으로 괄호를 치면된다.\n",
    "#for example) 55-50+40-30+20일경우엔 55-(50+40)-(30+20)로 해준다.\n",
    "\n",
    "example=input().split('-')\n",
    "result=0\n",
    "\n",
    "for i in example[0].split('+'):\n",
    "    result+=int(i)\n",
    "\n",
    "for j in example[1:]:\n",
    "    for j in i.split('+'):# 각 example의 i번째 원소안에 있는 +를 기준으로 split해서 하나씩 빼줌.\n",
    "        result-=int(j)\n",
    "        \n",
    "print(result)\n",
    "    "
   ]
  }
 ],
 "metadata": {
  "kernelspec": {
   "display_name": "Python 3",
   "language": "python",
   "name": "python3"
  },
  "language_info": {
   "codemirror_mode": {
    "name": "ipython",
    "version": 3
   },
   "file_extension": ".py",
   "mimetype": "text/x-python",
   "name": "python",
   "nbconvert_exporter": "python",
   "pygments_lexer": "ipython3",
   "version": "3.8.5"
  }
 },
 "nbformat": 4,
 "nbformat_minor": 4
}

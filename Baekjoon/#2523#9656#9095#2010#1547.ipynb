{
 "cells": [
  {
   "cell_type": "code",
   "execution_count": 5,
   "metadata": {},
   "outputs": [
    {
     "name": "stdout",
     "output_type": "stream",
     "text": [
      "4\n",
      "3 1\n",
      "2 3\n",
      "3 1\n",
      "3 2\n",
      "3\n"
     ]
    }
   ],
   "source": [
    "#1547\n",
    "n=int(input())\n",
    "a=1\n",
    "b=2\n",
    "c=3\n",
    "Array=[a,b,c]\n",
    "for i in range(n):\n",
    "    p,q=map(int,input().split())\n",
    "    for j in range(3):\n",
    "        for h in range(3):\n",
    "            if p is Array[j] and  q is Array[h] :\n",
    "                Array[j],Array[h]=Array[h],Array[j]\n",
    "print(Array[0])\n",
    "#---------------------아래는 더 간단한 풀이이다.\n",
    "import sys\n",
    "input=sys.stdin.readline\n",
    "n=int(input())\n",
    "s=[0,1,0,0]\n",
    "for i in range(n):\n",
    "    a,b=map(int,input().split())\n",
    "    s[a],s[b]=s[b],s[a]\n",
    "for i in range(1,4):\n",
    "    if s[i]==1:print(i)"
   ]
  },
  {
   "cell_type": "code",
   "execution_count": null,
   "metadata": {},
   "outputs": [],
   "source": [
    "#2010\n",
    "import sys\n",
    "n=int(sys.stdin.readline())\n",
    "sum=0\n",
    "for _ in range(n):\n",
    "    sum+=int(sys.stdin.readline())\n",
    "print(sum-(n)-1)"
   ]
  },
  {
   "cell_type": "code",
   "execution_count": null,
   "metadata": {},
   "outputs": [],
   "source": [
    "#9095 (동적 프로그래밍)\n",
    "t = int(input())\n",
    "ott = [1, 2, 4]\n",
    "for i in range(3, 10):\n",
    "    ott.append(ott[i - 3] + ott[i - 2] + ott[i - 1])\n",
    "for i in range(t):\n",
    "    n = int(input())\n",
    "    print(ott[n - 1])\n",
    "#----------아래는 또다른 풀이다.\n",
    "T=int(input())\n",
    "def sol(n):\n",
    "    if n==1:\n",
    "        return 1\n",
    "    elif n==2:\n",
    "        return 2\n",
    "    elif n==3:\n",
    "        return 4\n",
    "    else:\n",
    "        return sol(n-1)+sol(n-2)+sol(n-3)\n",
    "for i in range(T):\n",
    "    n=int(input())\n",
    "    print(sol(n))\n",
    "#Revuew)do 문제를 풀때 규칙을 먼저 찾는게 중요하다."
   ]
  },
  {
   "cell_type": "code",
   "execution_count": 9,
   "metadata": {},
   "outputs": [
    {
     "name": "stdout",
     "output_type": "stream",
     "text": [
      "4\n",
      "SK\n"
     ]
    }
   ],
   "source": [
    "#9656\n",
    "n=int(input())\n",
    "if n%3==0 or n%3==1:\n",
    "    print(\"SK\")\n",
    "else:\n",
    "    print(\"CY\")\n",
    "#Revuew)원리는 이해했으나 좀더 정확히하는 연습을 할것!상근이가 먼저한다는 순서를 알고서할것"
   ]
  },
  {
   "cell_type": "code",
   "execution_count": 12,
   "metadata": {},
   "outputs": [
    {
     "name": "stdout",
     "output_type": "stream",
     "text": [
      "3\n",
      "*\n",
      "**\n",
      "***\n",
      "**\n",
      "*\n"
     ]
    }
   ],
   "source": [
    "#2523\n",
    "n=int(input())\n",
    "for i in range(1,n+1):\n",
    "    print(\"*\"*i)\n",
    "for i in range(n-1,0,-1):\n",
    "    print(\"*\"*i)"
   ]
  }
 ],
 "metadata": {
  "kernelspec": {
   "display_name": "Python 3",
   "language": "python",
   "name": "python3"
  },
  "language_info": {
   "codemirror_mode": {
    "name": "ipython",
    "version": 3
   },
   "file_extension": ".py",
   "mimetype": "text/x-python",
   "name": "python",
   "nbconvert_exporter": "python",
   "pygments_lexer": "ipython3",
   "version": "3.8.5"
  }
 },
 "nbformat": 4,
 "nbformat_minor": 4
}

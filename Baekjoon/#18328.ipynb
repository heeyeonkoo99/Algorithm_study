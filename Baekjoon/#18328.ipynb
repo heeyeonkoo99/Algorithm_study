{
 "cells": [
  {
   "cell_type": "code",
   "execution_count": null,
   "metadata": {},
   "outputs": [],
   "source": [
    "string=list(input())\n",
    "\n",
    "start='A'\n",
    "count=0\n",
    "for alphabet in string:\n",
    "    #ord함수는 문자의 아스키 코드 값을 돌려주는 함수이다. (chr함수와 반대)\n",
    "    left=ord(start)-ord(alphabet)\n",
    "    right=ord(alphabet)-ord(start)\n",
    "    \n",
    "    if left<0:\n",
    "        left+=26\n",
    "    if right<0:\n",
    "        right+=26\n",
    "        \n",
    "    count+=min(left,right)\n",
    "    start=alphabet\n",
    "    \n",
    "print(count)"
   ]
  }
 ],
 "metadata": {
  "kernelspec": {
   "display_name": "Python 3",
   "language": "python",
   "name": "python3"
  },
  "language_info": {
   "codemirror_mode": {
    "name": "ipython",
    "version": 3
   },
   "file_extension": ".py",
   "mimetype": "text/x-python",
   "name": "python",
   "nbconvert_exporter": "python",
   "pygments_lexer": "ipython3",
   "version": "3.8.5"
  }
 },
 "nbformat": 4,
 "nbformat_minor": 4
}

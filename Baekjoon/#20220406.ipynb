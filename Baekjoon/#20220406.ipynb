{
 "cells": [
  {
   "cell_type": "code",
   "execution_count": null,
   "metadata": {},
   "outputs": [],
   "source": [
    "#14490\n",
    "n,m=map(int,input().split(\":\"))\n",
    "\n",
    "def gcd(a,b):\n",
    "    while b>0:\n",
    "        tmp=a\n",
    "        a=b\n",
    "        b=tmp%b\n",
    "    return a\n",
    "\n",
    "a=gcd(n,m)\n",
    "print(\"%d:%d\"%(n//a,m//a))\n"
   ]
  },
  {
   "cell_type": "code",
   "execution_count": 4,
   "metadata": {},
   "outputs": [
    {
     "name": "stdout",
     "output_type": "stream",
     "text": [
      "7 3\n",
      "x는 1\n",
      "deq는 deque([2, 3, 4, 5, 6, 7, 1])\n",
      "x는 2\n",
      "deq는 deque([3, 4, 5, 6, 7, 1, 2])\n",
      "x는 3\n",
      "deq는 deque([4, 5, 6, 7, 1, 2, 3])\n",
      "x는 4\n",
      "deq는 deque([5, 6, 7, 1, 2, 4])\n",
      "x는 5\n",
      "deq는 deque([6, 7, 1, 2, 4, 5])\n",
      "x는 6\n",
      "deq는 deque([7, 1, 2, 4, 5, 6])\n",
      "x는 7\n",
      "deq는 deque([1, 2, 4, 5, 7])\n",
      "x는 1\n",
      "deq는 deque([2, 4, 5, 7, 1])\n",
      "x는 2\n",
      "deq는 deque([4, 5, 7, 1, 2])\n",
      "x는 4\n",
      "deq는 deque([5, 7, 1, 4])\n",
      "x는 5\n",
      "deq는 deque([7, 1, 4, 5])\n",
      "x는 7\n",
      "deq는 deque([1, 4, 5, 7])\n",
      "x는 1\n",
      "deq는 deque([4, 5, 1])\n",
      "x는 4\n",
      "deq는 deque([5, 1, 4])\n",
      "x는 5\n",
      "deq는 deque([1, 4, 5])\n",
      "x는 1\n",
      "deq는 deque([4, 1])\n",
      "x는 4\n",
      "deq는 deque([1, 4])\n",
      "x는 1\n",
      "deq는 deque([4, 1])\n",
      "x는 4\n",
      "deq는 deque([4])\n",
      "x는 4\n",
      "deq는 deque([4])\n",
      "x는 4\n",
      "deq는 deque([4])\n",
      "<3, 6, 2, 7, 5, 1, 4>\n"
     ]
    }
   ],
   "source": [
    "#1158\n",
    "import collections\n",
    "people, n = map(int, input().split())\n",
    "deq = collections.deque([])\n",
    "answer = []\n",
    "\n",
    "for p in range(people):\n",
    "    deq.append(p+1)\n",
    "\n",
    "while len(deq) != 0:\n",
    "    for _ in range(n):\n",
    "        x = deq.popleft()\n",
    "        print(\"x는\",x)\n",
    "        deq.append(x)\n",
    "        print(\"deq는\",deq)\n",
    "    answer.append(deq.pop())\n",
    "print('<' + ', '.join(map(str,answer)) + '>')\n"
   ]
  }
 ],
 "metadata": {
  "kernelspec": {
   "display_name": "Python 3 (ipykernel)",
   "language": "python",
   "name": "python3"
  },
  "language_info": {
   "codemirror_mode": {
    "name": "ipython",
    "version": 3
   },
   "file_extension": ".py",
   "mimetype": "text/x-python",
   "name": "python",
   "nbconvert_exporter": "python",
   "pygments_lexer": "ipython3",
   "version": "3.8.5"
  }
 },
 "nbformat": 4,
 "nbformat_minor": 4
}

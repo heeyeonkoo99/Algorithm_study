{
 "cells": [
  {
   "cell_type": "code",
   "execution_count": null,
   "metadata": {},
   "outputs": [],
   "source": [
    "import operator\n",
    "\n",
    "n = int(input())\n",
    "a = {}\n",
    "for i in range(n):\n",
    "    tmp = list(input())\n",
    "    for j in range(len(tmp)):\n",
    "      # 딕셔너리 a에 이미 알파벳이 있다면 기존 value에 더한다\n",
    "        if tmp[j] in a.keys():\n",
    "            a[tmp[j]] += 10 ** (len(tmp) - j - 1)\n",
    "      # 딕셔너리 a에 알파벳이 없다면 새로 key를 추가하고 value에 더한다\n",
    "        else:\n",
    "            a[tmp[j]] = 10 ** (len(tmp) - j - 1) # 자릿수 계수는 len(tmp) - j - 1 이다\n",
    "rep = sorted(a.items(), key=operator.itemgetter(1)) # 자릿수 계수가 큰 알파벳 순으로 정렬한다\n",
    "ans = 0\n",
    "num = 9\n",
    "for i in range(len(rep) - 1, -1, -1):\n",
    "    ans += num * rep[i][1] # 자릿수 계수를 곱한다.\n",
    "    num -= 1\n",
    "print(ans)"
   ]
  }
 ],
 "metadata": {
  "kernelspec": {
   "display_name": "Python 3",
   "language": "python",
   "name": "python3"
  },
  "language_info": {
   "codemirror_mode": {
    "name": "ipython",
    "version": 3
   },
   "file_extension": ".py",
   "mimetype": "text/x-python",
   "name": "python",
   "nbconvert_exporter": "python",
   "pygments_lexer": "ipython3",
   "version": "3.8.5"
  }
 },
 "nbformat": 4,
 "nbformat_minor": 4
}

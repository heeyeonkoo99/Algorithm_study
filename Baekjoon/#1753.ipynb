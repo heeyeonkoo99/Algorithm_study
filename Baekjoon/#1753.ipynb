{
 "cells": [
  {
   "cell_type": "code",
   "execution_count": null,
   "metadata": {},
   "outputs": [],
   "source": [
    "import sys\n",
    "import heapq\n",
    "\n",
    "input=sys.stdin.readline\n",
    "INF=sys.maxsize\n",
    "V,E=map(int,input().split())\n",
    "#시작점 K\n",
    "K=int(input())\n",
    "#가중치 테이블 dp\n",
    "dp=[INF]*(V+1)\n",
    "heap=[]\n",
    "graph=[[] for _ in range(V+)]\n",
    "\n",
    "def Dijkstra(start):\n",
    "    #가중치 테이블에서 시작 정점에 해당하는 가중치는 0으로 초기화\n",
    "    dp[start]=0\n",
    "    heapq.heappush(heap,(0,start))\n",
    "    \n",
    "    #힙에 원소가 없을때까지 반복\n",
    "    while heap:\n",
    "        wei,now=heapq.heappop(heap)\n",
    "        \n",
    "        #현재 테이블과 비교하여 불필요한(더 가중치가 큰) 튜플이면 무시\n",
    "        if dp[now]<wei:\n",
    "            continue\n",
    "            \n",
    "        for w,next_node in graph[now]:\n",
    "            #현재 정점 까지의 가중치 wei+ 현재 정점에서 다음 정점(next_node)까지의 가중치 w=다음 노드까지의 가중치(next_wei)\n",
    "            next_wei=wei+w\n",
    "            #다음 노드까지의 가중치(next_wei)가 현재 기록된 값보다 작으면 조건 성립\n",
    "            if next_wei<dp[next_node]:\n",
    "                #계산했던 next_wei를 가중치 테이블에 업데이트\n",
    "                dp[next_node]=next_wei\n",
    "                #다음 점까지의 가중치와 다음 점에 대한 정보를 튜플로 묶어 최소 힙에 삽입\n",
    "                heapq.heappush(heap,(next_wei,next_node))\n",
    "#초기화\n",
    "for _ in range(E):\n",
    "    u,v,w=map(int,input().split())\n",
    "    #(가중치,목적지 노드) 형태로 저장\n",
    "    graph[u].append((w,v))\n",
    "    \n",
    "Dijkstra(K)\n",
    "for i in range(1,V+1):\n",
    "    print(\"INF\" if dp[i]==INF else dp[i])"
   ]
  }
 ],
 "metadata": {
  "kernelspec": {
   "display_name": "Python 3",
   "language": "python",
   "name": "python3"
  },
  "language_info": {
   "codemirror_mode": {
    "name": "ipython",
    "version": 3
   },
   "file_extension": ".py",
   "mimetype": "text/x-python",
   "name": "python",
   "nbconvert_exporter": "python",
   "pygments_lexer": "ipython3",
   "version": "3.8.5"
  }
 },
 "nbformat": 4,
 "nbformat_minor": 4
}

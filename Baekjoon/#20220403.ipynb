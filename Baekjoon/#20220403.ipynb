{
 "cells": [
  {
   "cell_type": "code",
   "execution_count": null,
   "metadata": {},
   "outputs": [],
   "source": [
    "#1789\n",
    "s=int(input())\n",
    "n=0\n",
    "result=0\n",
    "for i in range(1,s+1):\n",
    "    result+=i\n",
    "    n+=1\n",
    "    if(result>s):\n",
    "        n-=1\n",
    "        break\n",
    "        \n",
    "print(n)\n",
    "#참고주소: https://rsh1994.tistory.com/14"
   ]
  },
  {
   "cell_type": "code",
   "execution_count": null,
   "metadata": {},
   "outputs": [],
   "source": [
    "#6603-1\n",
    "from itertools import combinations\n",
    "\n",
    "while True:\n",
    "    s=list(map(int,input().split()))\n",
    "    if s[0]==0:\n",
    "        break\n",
    "    del s[0]\n",
    "    s=list(combinations(s,6))\n",
    "    for i in s:\n",
    "        for j in i:\n",
    "            print(j,end=\" \")\n",
    "        print()\n",
    "    print()"
   ]
  },
  {
   "cell_type": "code",
   "execution_count": null,
   "metadata": {},
   "outputs": [],
   "source": [
    "#6603-2\n",
    "import sys\n",
    "input = sys.stdin.readline\n",
    "\n",
    "dp = [0 for i in range(13)]\n",
    "\n",
    "def dfs(start, depth):\n",
    "    if depth == 6:\n",
    "        for i in range(6):\n",
    "            print(dp[i], end=' ')\n",
    "        print()\n",
    "        return\n",
    "    for i in range(start, len(arr)):\n",
    "        dp[depth] = arr[i]\n",
    "        dfs(i + 1, depth + 1)\n",
    "\n",
    "while True:\n",
    "    arr = list(map(int, input().split()))\n",
    "    if arr[0] == 0:\n",
    "        break\n",
    "    del arr[0]\n",
    "    dfs(0, 0)\n",
    "    print()"
   ]
  },
  {
   "cell_type": "code",
   "execution_count": null,
   "metadata": {},
   "outputs": [],
   "source": [
    "#2581\n",
    "min_num=int(input())\n",
    "max_num=int(input())\n",
    "decimal_list=[]\n",
    "\n",
    "for i in range(min_num,max_num+1):\n",
    "    count=0\n",
    "    for j in range(1,i+1):\n",
    "        if i%j==0:\n",
    "            count+=1\n",
    "            if count>2:\n",
    "                break\n",
    "    if count==2:\n",
    "        decimal_list.append(i)\n",
    "if len(decimal_list)!=0:\n",
    "    print(sum(decimal_list))\n",
    "    print(decimal_list[0])\n",
    "else:\n",
    "    print('-1')"
   ]
  }
 ],
 "metadata": {
  "kernelspec": {
   "display_name": "Python 3 (ipykernel)",
   "language": "python",
   "name": "python3"
  },
  "language_info": {
   "codemirror_mode": {
    "name": "ipython",
    "version": 3
   },
   "file_extension": ".py",
   "mimetype": "text/x-python",
   "name": "python",
   "nbconvert_exporter": "python",
   "pygments_lexer": "ipython3",
   "version": "3.8.5"
  }
 },
 "nbformat": 4,
 "nbformat_minor": 4
}

{
 "cells": [
  {
   "cell_type": "code",
   "execution_count": null,
   "metadata": {},
   "outputs": [],
   "source": [
    "#기본틀\n",
    "n=int(input())\n",
    "dp=[0 for _ in range(n+1)]\n",
    "\n",
    "for i in range(1,n+1):\n",
    "    if i==1:\n",
    "        dp[i]=0\n",
    "    else:\n",
    "        dp[i]=dp[i-1]+1\n",
    "        if i%3==0:\n",
    "            dp[i]=min(dp[i],dp[i//3]+1)\n",
    "        if i%2==0:\n",
    "            dp[i]=min(dp[i],dp[i//2]+1)\n",
    "print(dp[n])    "
   ]
  },
  {
   "cell_type": "code",
   "execution_count": null,
   "metadata": {},
   "outputs": [],
   "source": [
    "#2156\n",
    "n=int(input())\n",
    "w=[0]\n",
    "for i in range(n):\n",
    "    w.append(int(input()))\n",
    "dp=[0]\n",
    "dp.append(w[1])\n",
    "if n>1:\n",
    "    dp.append(w[1]+w[2])\n",
    "    \n",
    "for i in range(3,n+1):\n",
    "    dp.append(max(dp[i-1],dp[i-3]+w[i-1]+w[i],dp[i-2]+w[i]))\n",
    "       \n",
    "        \n",
    "print(dp[n])\n",
    "    "
   ]
  },
  {
   "cell_type": "code",
   "execution_count": 1,
   "metadata": {},
   "outputs": [
    {
     "name": "stdout",
     "output_type": "stream",
     "text": [
      "3\n",
      "2\n"
     ]
    }
   ],
   "source": [
    "#2193\n",
    "s=[0,1,1]\n",
    "for i in range(3,91):\n",
    "    s.append(s[i-2]+s[i-1])\n",
    "n=int(input())\n",
    "print(s[n])"
   ]
  },
  {
   "cell_type": "code",
   "execution_count": null,
   "metadata": {},
   "outputs": [],
   "source": [
    "#10844\n",
    "n=int(input())\n",
    "dp=[[0]*10 for _ in range(n+1)]\n",
    "for i in range(1,10):\n",
    "    dp[1][i]=1\n",
    "    \n",
    "MOD=1000000000\n",
    "\n",
    "for i in range(2,n+1):\n",
    "    for j in range(10):\n",
    "        if j==0:\n",
    "            dp[i][j]=dp[i-1][1]\n",
    "        elif j==9:\n",
    "            dp[i][j]=dp[i-1][8]\n",
    "        else:\n",
    "            dp[i][j]=dp[i-1][j-1]+dp[i-1][j+1]\n",
    "            \n",
    "print(sum(dp[N])%MOD)\n",
    "\n",
    "# Review) dp의 다양한 방법..!"
   ]
  }
 ],
 "metadata": {
  "kernelspec": {
   "display_name": "Python 3 (ipykernel)",
   "language": "python",
   "name": "python3"
  },
  "language_info": {
   "codemirror_mode": {
    "name": "ipython",
    "version": 3
   },
   "file_extension": ".py",
   "mimetype": "text/x-python",
   "name": "python",
   "nbconvert_exporter": "python",
   "pygments_lexer": "ipython3",
   "version": "3.8.5"
  }
 },
 "nbformat": 4,
 "nbformat_minor": 4
}

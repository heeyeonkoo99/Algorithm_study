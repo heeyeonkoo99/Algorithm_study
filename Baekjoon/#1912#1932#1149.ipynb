{
 "cells": [
  {
   "cell_type": "code",
   "execution_count": null,
   "metadata": {},
   "outputs": [],
   "source": [
    "#1003-1\n",
    "t=int(input())\n",
    "\n",
    "while t:\n",
    "    z=[1,0]\n",
    "    o=[0,1]\n",
    "    n=int(input())\n",
    "    \n",
    "    for i in range(2,n+1):\n",
    "        z.append(z[i-1]+z[i-2])\n",
    "        o.append(o[i-1]+o[i-2])\n",
    "    print(z[n],o[n])\n",
    "    t-=1"
   ]
  },
  {
   "cell_type": "code",
   "execution_count": null,
   "metadata": {},
   "outputs": [],
   "source": [
    "#1003-2\n",
    "testcase=int(input())\n",
    "dp0=[0 for _ in range(41)]\n",
    "dp1=[0 for _ in range(41)]\n",
    "\n",
    "dp0[0]=1\n",
    "dp1[1]=1\n",
    "\n",
    "for i in range(2,41):\n",
    "    dp0[i]=dp0[i-1]+dp0[i-2]\n",
    "    dp1[i]=dp1[i-1]+dp1[i-2]\n",
    "    \n",
    "for i in range(testcase):\n",
    "    a=int(input())\n",
    "    print(\"%d %d\"%(dp0[a],dp1[a]))"
   ]
  },
  {
   "cell_type": "code",
   "execution_count": null,
   "metadata": {},
   "outputs": [],
   "source": [
    "#11726\n",
    "n=int(input())\n",
    "dp=[0 for i in range(1001)]\n",
    "dp[1]=1\n",
    "dp[2]=2\n",
    "for i in range(3,1001):\n",
    "    dp[i]=(dp[i-1]+dp[i-2])%10007\n",
    "print(dp[n])"
   ]
  },
  {
   "cell_type": "code",
   "execution_count": null,
   "metadata": {},
   "outputs": [],
   "source": [
    "#11727\n",
    "n=int(input())\n",
    "dp=[0 for i in range(1001)]\n",
    "dp[1]=1\n",
    "dp[2]=3\n",
    "for i in range(3,1001):\n",
    "    dp[i]=(dp[i-1]+2*dp[i-2])%10007\n",
    "print(dp[n])"
   ]
  },
  {
   "cell_type": "code",
   "execution_count": null,
   "metadata": {},
   "outputs": [],
   "source": [
    "#1149\n",
    "n=int(input())\n",
    "p=[]\n",
    "for i in range(n):\n",
    "    p.append(list(map(int,input().split())))\n",
    "for i in range(1,len(p)):\n",
    "    p[i][0]=min(p[i-1][1],p[i-1][2])+p[i][0]\n",
    "    p[i][1]=min(p[i-1][0],p[i-1][2])+p[i][1]\n",
    "    p[i][2]=min(p[i-1][0],p[i-1][1])+p[i][2]\n",
    "print(min(p[n-1][0],p[n-1][1],p[n-1][2]))\n",
    "\n",
    "#Review)이런 유형 제대로 풀어놓자!!"
   ]
  },
  {
   "cell_type": "code",
   "execution_count": null,
   "metadata": {},
   "outputs": [],
   "source": [
    "#1932\n",
    "import sys\n",
    "n=int(sys.stdin.readline())\n",
    "p=[]\n",
    "for i in range(n):\n",
    "    p.append(list(map(int,input().split())))\n",
    "for i in range(1,len(p)):\n",
    "    for j in range(len(p[i])):\n",
    "        if j==0:\n",
    "            p[i][j]+=p[i-1][j]\n",
    "           \n",
    "        elif j==i:\n",
    "            p[i][j]+=p[i-1][j-1]\n",
    "        else:\n",
    "            p[i][j]=max(p[i-1][j-1],p[i-1][j])+p[i][j]    \n",
    "print(max(p[n-1]))\n",
    "\n",
    "#Review)프로그래머스에 있던 문제와 똑같은 걸로 기억한다.역시 반복되는군.."
   ]
  },
  {
   "cell_type": "code",
   "execution_count": null,
   "metadata": {},
   "outputs": [],
   "source": [
    "#1912\n",
    "import sys\n",
    "r = sys.stdin.readline\n",
    "\n",
    "N = int(r())\n",
    "arr = list(map(int, r().split()))\n",
    "ans = [0] * N\n",
    "ans[0] = arr[0]\n",
    "for i in range(1, N):\n",
    "    ans[i] = max(arr[i], arr[i]+ans[i-1])\n",
    "print(max(ans))\n",
    "\n",
    "#Review)연속합을 구할때 사용하는 방법"
   ]
  }
 ],
 "metadata": {
  "kernelspec": {
   "display_name": "Python 3",
   "language": "python",
   "name": "python3"
  },
  "language_info": {
   "codemirror_mode": {
    "name": "ipython",
    "version": 3
   },
   "file_extension": ".py",
   "mimetype": "text/x-python",
   "name": "python",
   "nbconvert_exporter": "python",
   "pygments_lexer": "ipython3",
   "version": "3.8.5"
  }
 },
 "nbformat": 4,
 "nbformat_minor": 4
}

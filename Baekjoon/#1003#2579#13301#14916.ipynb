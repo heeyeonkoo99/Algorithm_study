{
 "cells": [
  {
   "cell_type": "code",
   "execution_count": null,
   "metadata": {},
   "outputs": [],
   "source": [
    "#1003\n",
    "\n",
    "cnt0 = [1, 0]\n",
    "cnt1 = [0, 1]\n",
    "\n",
    "for i in range(2, 41):\n",
    "    cnt0.append(cnt0[i-1]+cnt0[i-2])\n",
    "    cnt1.append(cnt1[i-1]+cnt1[i-2])\n",
    "    \n",
    "for _ in range(int(input())):\n",
    "    n = int(input())\n",
    "    print(cnt0[n], cnt1[n])\n",
    "#Review) 0과 1의 항이 피보나치 수열로 반복되는 것을 확인한뒤 배열을 통해 시간초과를 피한다."
   ]
  },
  {
   "cell_type": "code",
   "execution_count": null,
   "metadata": {},
   "outputs": [],
   "source": [
    "#2579\n",
    "n=int(input())\n",
    "s=[0 for i in range(301)]\n",
    "dp=[0 for i in range(301)]\n",
    "\n",
    "for i in range(n):\n",
    "    s[i]=int(input())\n",
    "dp[0]=s[0]\n",
    "dp[1]=s[0]+s[1]\n",
    "dp[2]=max(s[1]+s[2],s[0]+s[2])\n",
    "for i in range(3,n):\n",
    "    dp[i]=max(dp[i-3]+s[i-1]+s[i],dp[i-2]+s[i])\n",
    "print(dp[n-1])\n",
    "#Review)가장 정석적인 dp 문제이다."
   ]
  },
  {
   "cell_type": "code",
   "execution_count": null,
   "metadata": {},
   "outputs": [],
   "source": [
    "#13301\n",
    "n=int(input())\n",
    "dp=[0 for _ in range(81)]\n",
    "dp[0]=1\n",
    "dp[1]=1\n",
    "dp[2]=2\n",
    "for i in range(3,n):\n",
    "    dp[i]=dp[i-1]+dp[i-2]\n",
    "\n",
    "print(2*(dp[n-2]+dp[n-1])+2*(dp[n-1]))"
   ]
  },
  {
   "cell_type": "code",
   "execution_count": null,
   "metadata": {},
   "outputs": [],
   "source": [
    "#14916\n",
    "n=int(input())\n",
    "if n in [1,3]:\n",
    "    result=-1\n",
    "elif (n%5)%2==0:\n",
    "    result=n//5+(n%5)//2\n",
    "else:\n",
    "    result=((n//5)-1)+((n%5+5)//2)\n",
    "#Review)greedy 알고리즘으로도 풀수있다. 함정을 조심하자.\n",
    "print(result)"
   ]
  }
 ],
 "metadata": {
  "kernelspec": {
   "display_name": "Python 3",
   "language": "python",
   "name": "python3"
  },
  "language_info": {
   "codemirror_mode": {
    "name": "ipython",
    "version": 3
   },
   "file_extension": ".py",
   "mimetype": "text/x-python",
   "name": "python",
   "nbconvert_exporter": "python",
   "pygments_lexer": "ipython3",
   "version": "3.8.5"
  }
 },
 "nbformat": 4,
 "nbformat_minor": 4
}

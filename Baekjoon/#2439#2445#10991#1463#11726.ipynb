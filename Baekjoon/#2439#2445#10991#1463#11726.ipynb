{
 "cells": [
  {
   "cell_type": "code",
   "execution_count": 1,
   "metadata": {},
   "outputs": [
    {
     "name": "stdout",
     "output_type": "stream",
     "text": [
      "5\n",
      "    *\n",
      "   **\n",
      "  ***\n",
      " ****\n",
      "*****\n"
     ]
    }
   ],
   "source": [
    "#2439\n",
    "n=int(input())\n",
    "for i in range(1,n+1):\n",
    "    print(\" \"*(n-i)+\"*\"*i)"
   ]
  },
  {
   "cell_type": "code",
   "execution_count": 6,
   "metadata": {},
   "outputs": [
    {
     "name": "stdout",
     "output_type": "stream",
     "text": [
      "5\n",
      "*        *\n",
      "**      **\n",
      "***    ***\n",
      "****  ****\n",
      "**********\n",
      "****  ****\n",
      "***    ***\n",
      "**      **\n",
      "*        *\n"
     ]
    }
   ],
   "source": [
    "#2445\n",
    "n=int(input())\n",
    "for i in range(1,2*n):\n",
    "    if i>=n+1:\n",
    "        print(\"*\"*(n-(i-n))+\" \"*(i-n)+\" \"*(i-n)+\"*\"*(n-(i-n)) )\n",
    "    else:\n",
    "          print(\"*\"*i+\" \"*(n-i)+\" \"*(n-i)+\"*\"*i)\n",
    "        "
   ]
  },
  {
   "cell_type": "code",
   "execution_count": 10,
   "metadata": {},
   "outputs": [
    {
     "name": "stdout",
     "output_type": "stream",
     "text": [
      "4\n",
      "   *\n",
      "  * * \n",
      " * * * \n",
      "* * * * \n"
     ]
    }
   ],
   "source": [
    "#10991\n",
    "n=int(input())\n",
    "for i in range(1,n+1):\n",
    "    if i==1:\n",
    "        print(\" \"*(n-i)+\"*\")\n",
    "    else:\n",
    "        print(\" \"*(n-i)+\"* \"*i)"
   ]
  },
  {
   "cell_type": "code",
   "execution_count": null,
   "metadata": {},
   "outputs": [],
   "source": [
    "#1463\n",
    "n=int(input())\n",
    "dp=[0 for _ in range(n+1)]\n",
    "\n",
    "for i in range(2,n+1):\n",
    "    dp[i]=dp[i-1]+1\n",
    "    \n",
    "    if i%2==0 and dp[i]>dp[i//2]+1:\n",
    "        dp[i]=dp[i//2]+1\n",
    "    if i%3==0 and dp[i]>dp[i//3]+1:\n",
    "        dp[i]=dp[i//3]+1\n",
    "print(dp[n])\n",
    "#Review) 기본적으로 동적프로그래밍을 이용한것으로, min을 사용해서 풀수 있다."
   ]
  },
  {
   "cell_type": "code",
   "execution_count": null,
   "metadata": {},
   "outputs": [],
   "source": [
    "#11726\n",
    "n=int(input())\n",
    "\n",
    "dp=[0 for _ in range(n+1)]\n",
    "\n",
    "if n<=3:print(n)\n",
    "else:\n",
    "    dp[1]=1\n",
    "    dp[2]=2\n",
    "    for i in range(3,n+1):\n",
    "        dp[i]=dp[i-1]+dp[i-2]\n",
    "        \n",
    "    print(dp[i]%10007)\n",
    "#Review)이 문제도 dp를 이용하는건데 점화식을 발견하는게 중요하다!"
   ]
  }
 ],
 "metadata": {
  "kernelspec": {
   "display_name": "Python 3",
   "language": "python",
   "name": "python3"
  },
  "language_info": {
   "codemirror_mode": {
    "name": "ipython",
    "version": 3
   },
   "file_extension": ".py",
   "mimetype": "text/x-python",
   "name": "python",
   "nbconvert_exporter": "python",
   "pygments_lexer": "ipython3",
   "version": "3.8.5"
  }
 },
 "nbformat": 4,
 "nbformat_minor": 4
}

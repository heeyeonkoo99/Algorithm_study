{
 "cells": [
  {
   "cell_type": "code",
   "execution_count": null,
   "metadata": {},
   "outputs": [],
   "source": [
    "#1476\n",
    "E,S,M,cnt=1,1,1,1\n",
    "\n",
    "i_E,i_S,i_M=map(int,input().split())\n",
    "\n",
    "while(True):\n",
    "    if i_E==E and i_S==S and i_M==M:\n",
    "        break\n",
    "    E+=1\n",
    "    S+=1\n",
    "    M+=1\n",
    "    cnt+=1\n",
    "    if E>=16 : E-=15\n",
    "    if S>=29 : S-=28\n",
    "    if M>=20 : M-=19\n",
    "print(cnt)"
   ]
  },
  {
   "cell_type": "code",
   "execution_count": null,
   "metadata": {},
   "outputs": [],
   "source": [
    "#2217\n",
    "def solution():\n",
    "    answer = 0\n",
    "    arr.sort(reverse=True)\n",
    "    for i in range(N):\n",
    "        arr[i] = arr[i] * (i + 1)\n",
    " \n",
    "    return max(arr)\n",
    "\n",
    "N = int(input())\n",
    "arr = []\n",
    "for _ in range(N):\n",
    "    arr.append(int(input()))\n",
    "    \n",
    "print(solution())\n",
    "#이거 참고하기=> https://yongku.tistory.com/entry/%EB%B0%B1%EC%A4%80-%EC%95%8C%EA%B3%A0%EB%A6%AC%EC%A6%98-%EB%B0%B1%EC%A4%80-2217%EB%B2%88-%EB%A1%9C%ED%94%84-%ED%8C%8C%EC%9D%B4%EC%8D%ACPython"
   ]
  },
  {
   "cell_type": "code",
   "execution_count": null,
   "metadata": {},
   "outputs": [],
   "source": [
    "#1699\n",
    "n=int(input())\n",
    "dp=[i for i in range(n+1)]\n",
    "\n",
    "for i in range(1,n+1):\n",
    "    for j in range(1,i):\n",
    "        if(j*j)>i:\n",
    "            break\n",
    "        if dp[i]>dp[i-j*j]+1:\n",
    "            dp[i]=dp[i-j*j]+1\n",
    "print(dp[n])\n"
   ]
  }
 ],
 "metadata": {
  "kernelspec": {
   "display_name": "Python 3 (ipykernel)",
   "language": "python",
   "name": "python3"
  },
  "language_info": {
   "codemirror_mode": {
    "name": "ipython",
    "version": 3
   },
   "file_extension": ".py",
   "mimetype": "text/x-python",
   "name": "python",
   "nbconvert_exporter": "python",
   "pygments_lexer": "ipython3",
   "version": "3.8.5"
  }
 },
 "nbformat": 4,
 "nbformat_minor": 4
}

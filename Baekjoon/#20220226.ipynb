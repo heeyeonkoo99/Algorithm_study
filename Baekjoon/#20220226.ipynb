{
 "cells": [
  {
   "cell_type": "code",
   "execution_count": null,
   "metadata": {},
   "outputs": [],
   "source": [
    "#구현을 해보자"
   ]
  },
  {
   "cell_type": "code",
   "execution_count": null,
   "metadata": {},
   "outputs": [],
   "source": [
    "#1057\n",
    "n,kim,im=map(int,input().split())\n",
    "count=0\n",
    "while kim!=im:\n",
    "    kim-=kim//2\n",
    "    im-=im//2\n",
    "    count+=1\n",
    "print(count)\n",
    "\n",
    "#지민과 한수에서 2로 나눈 몫을 뺀 값이 같아졌을때가 둘이 대결하는 때다."
   ]
  },
  {
   "cell_type": "code",
   "execution_count": null,
   "metadata": {},
   "outputs": [],
   "source": [
    "#1059\n",
    "def solve():\n",
    "    L=int(input())\n",
    "    arr=list(map(int,input().split()))\n",
    "    n=int(input())\n",
    "    arr.sort()\n",
    "    pre=0\n",
    "    \n",
    "    for num in arr:\n",
    "        #같다면 좋은 구간이 있을 수 없다.\n",
    "        if num==n:\n",
    "            return 0\n",
    "        if num>n:\n",
    "            #정렬된 상태이므로 \n",
    "            min_val=pre+1\n",
    "            max_val=num-1\n",
    "            break\n",
    "        pre=num\n",
    "    return (n-min_val)*(max_val-n+1)+max_val-n\n",
    "print(solve())\n",
    "        \n",
    "#아이건 이해가 안가지만 암튼..https://dailymapins.tistory.com/120 참고하기https://claude-u.tistory.com/400"
   ]
  },
  {
   "cell_type": "code",
   "execution_count": null,
   "metadata": {},
   "outputs": [],
   "source": [
    "#5568\n",
    "from itertools import permutations\n",
    "import sys\n",
    "input=sys.stdin.readline\n",
    "\n",
    "n,k=int(input()),int(input())\n",
    "cards=[input().rstrip() for _ in range(n)]\n",
    "res=set()\n",
    "for per in permutations(cards,k):\n",
    "    res.add(\"\".join(per))\n",
    "    \n",
    "print(len(res))"
   ]
  }
 ],
 "metadata": {
  "kernelspec": {
   "display_name": "Python 3 (ipykernel)",
   "language": "python",
   "name": "python3"
  },
  "language_info": {
   "codemirror_mode": {
    "name": "ipython",
    "version": 3
   },
   "file_extension": ".py",
   "mimetype": "text/x-python",
   "name": "python",
   "nbconvert_exporter": "python",
   "pygments_lexer": "ipython3",
   "version": "3.8.5"
  }
 },
 "nbformat": 4,
 "nbformat_minor": 4
}

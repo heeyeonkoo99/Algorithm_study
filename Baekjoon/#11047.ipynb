{
 "cells": [
  {
   "cell_type": "code",
   "execution_count": null,
   "metadata": {},
   "outputs": [],
   "source": [
    "#입력 받기\n",
    "N,K=map(int,input().split())\n",
    "coins=[int(input()) for _ in range(N)]\n",
    "\n",
    "#최소 동전 개수 구하기\n",
    "coin_num=0\n",
    "\n",
    "#인덱스 끝부터 순회:마이너스 인덱스 사용하기(여기서 i를 0부터하면 마이너스붙어도 의미가 없게되어서 1부터 넣어줌)\n",
    "for i in range(1,N+1):\n",
    "    coin=coins[-i]\n",
    "    if K>= coin:\n",
    "        num=K//coin\n",
    "        K-=coin*num#맨처음 나눴던 값을 뺴서 다음 동전을 선택하는것을 반영하기위해 빼줌\n",
    "        coin_num+=num\n",
    "        \n",
    "print(coin_num)"
   ]
  }
 ],
 "metadata": {
  "kernelspec": {
   "display_name": "Python 3",
   "language": "python",
   "name": "python3"
  },
  "language_info": {
   "codemirror_mode": {
    "name": "ipython",
    "version": 3
   },
   "file_extension": ".py",
   "mimetype": "text/x-python",
   "name": "python",
   "nbconvert_exporter": "python",
   "pygments_lexer": "ipython3",
   "version": "3.8.5"
  }
 },
 "nbformat": 4,
 "nbformat_minor": 4
}

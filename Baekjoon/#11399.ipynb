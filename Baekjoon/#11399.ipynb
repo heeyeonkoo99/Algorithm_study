{
 "cells": [
  {
   "cell_type": "code",
   "execution_count": null,
   "metadata": {},
   "outputs": [],
   "source": [
    "#앞에 위치한 사람이 ATM에서 돈을 인출하는데 걸리는 시간이 누적해서 더해짐.\n",
    "#따라서 ATM을 이용하는데 걸리는 시간을 오름차순으로 정렬한 후에 총 소요시간을 더하면 됨.\n",
    "people = int(input())\n",
    "output_list = list(map(int, input().split()))\n",
    "output_list.sort()\n",
    "\n",
    "answer=0\n",
    "temp=0\n",
    "\n",
    "for i in range(len(output_list)):\n",
    "    temp+=output_list[i]\n",
    "    answer+=temp\n",
    "    \n",
    "print(answer)"
   ]
  }
 ],
 "metadata": {
  "kernelspec": {
   "display_name": "Python 3",
   "language": "python",
   "name": "python3"
  },
  "language_info": {
   "codemirror_mode": {
    "name": "ipython",
    "version": 3
   },
   "file_extension": ".py",
   "mimetype": "text/x-python",
   "name": "python",
   "nbconvert_exporter": "python",
   "pygments_lexer": "ipython3",
   "version": "3.8.5"
  }
 },
 "nbformat": 4,
 "nbformat_minor": 4
}

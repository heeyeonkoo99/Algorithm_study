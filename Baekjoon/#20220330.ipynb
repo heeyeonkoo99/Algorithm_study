{
 "cells": [
  {
   "cell_type": "code",
   "execution_count": null,
   "metadata": {},
   "outputs": [],
   "source": [
    "#1874\n",
    "n = int(input())\n",
    "stack = []\n",
    "answer = []\n",
    "flag = 0\n",
    "cur = 1\n",
    "for i in range(n):\n",
    "    num = int(input())\n",
    "    while cur <= num:       # 입력한 수를 만날 때 까지 오름차순으로 push\n",
    "        stack.append(cur)\n",
    "        answer.append(\"+\")\n",
    "        cur += 1\n",
    "    # 입력한 수를 만나면 while문 탈출. 즉 cur = num일 때 까지 while문을 돌아 스택을 쌓는다.\n",
    "\n",
    "    if stack[-1] == num:    # stack의 TOP이 입력한 숫자와 같다면\n",
    "        stack.pop()         # 스택의 TOP을 꺼내 수열을 만들어 준다.\n",
    "        answer.append(\"-\")\n",
    "    else:                   # stack의 TOP이 입력한 수가 아니면 주어진 스택을 만들 수 없다.\n",
    "        print(\"NO\")         # 왜냐하면 12345 처럼 오름차순으로 스택이 입력되는데\n",
    "        flag = 1            # TOP이 num보다 크면 num은 TOP보다 더 아래에 쌓여있기 때문이다.\n",
    "        break               \n",
    "\n",
    "if flag == 0:\n",
    "    for i in answer:\n",
    "        print(i)"
   ]
  },
  {
   "cell_type": "code",
   "execution_count": null,
   "metadata": {},
   "outputs": [],
   "source": [
    "#1934\n",
    "#유클리드 호제법 이용하기\n",
    "\n",
    "def gcd(x,y): #최대공약수 구하기\n",
    "    if y==0:\n",
    "        return x\n",
    "    else:\n",
    "        return gcd(y,x%y)\n",
    "\n",
    "def lcm(x,y): #최소공배수 구하기\n",
    "    result=(x*y)//gcd(x,y)\n",
    "    return result\n",
    "\n",
    "for i in range(int(input())):\n",
    "    a,b=map(int,input().split())\n",
    "    print(lcm(x,y))\n",
    "    "
   ]
  },
  {
   "cell_type": "code",
   "execution_count": null,
   "metadata": {},
   "outputs": [],
   "source": [
    "#2607\n",
    "import sys\n",
    "input=sys.stdin.readline\n",
    "\n",
    "n=int(input())\n",
    "words=[[0 for _ in range(26)] for _ in range(n)]\n",
    "for i in range(n):\n",
    "    string=input().rstrip()\n",
    "    for s in string:\n",
    "        words[i][ord(s)-ord('A')]+=1\n",
    "res=0\n",
    "for word in words[1:]:\n",
    "    plus,minus=0,0\n",
    "    for i in range(26):\n",
    "        if word[i]>words[0][i]:\n",
    "            plus+=(word[i]-words[0][i])\n",
    "        else:\n",
    "            minus+=(words[0][i]-word[i])\n",
    "    if plus<2 and minus<2:\n",
    "        res+=1\n",
    "\n",
    "print(res)"
   ]
  }
 ],
 "metadata": {
  "kernelspec": {
   "display_name": "Python 3 (ipykernel)",
   "language": "python",
   "name": "python3"
  },
  "language_info": {
   "codemirror_mode": {
    "name": "ipython",
    "version": 3
   },
   "file_extension": ".py",
   "mimetype": "text/x-python",
   "name": "python",
   "nbconvert_exporter": "python",
   "pygments_lexer": "ipython3",
   "version": "3.8.5"
  }
 },
 "nbformat": 4,
 "nbformat_minor": 4
}

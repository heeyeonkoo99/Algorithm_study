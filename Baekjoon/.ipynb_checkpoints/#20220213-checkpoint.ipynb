{
 "cells": [
  {
   "cell_type": "code",
   "execution_count": null,
   "metadata": {},
   "outputs": [],
   "source": [
    "#4963\n",
    "from sys import stdin\n",
    "from collections import deque\n",
    "\n",
    "input = stdin.readline\n",
    "\n",
    "dx = [-1, 1, 0, 0, -1, -1, 1, 1]\n",
    "dy = [0, 0, -1, 1, -1, 1, -1, 1]\n",
    "\n",
    "def bfs(i, j):\n",
    "    queue = deque()\n",
    "    queue.append((i, j))\n",
    "\n",
    "    while queue:\n",
    "        x, y = queue.popleft()\n",
    "\n",
    "        for d in range(8):\n",
    "            nx = dx[d] + x\n",
    "            ny = dy[d] + y\n",
    "\n",
    "            if 0 <= nx < h and 0 <= ny < w and graph[nx][ny] == 1:\n",
    "                graph[nx][ny] = 0\n",
    "                queue.append((nx, ny))\n",
    "\n",
    "while True:\n",
    "    w, h = map(int, input().split())\n",
    "    if w == 0 and h == 0:\n",
    "        break\n",
    "\n",
    "    graph = []\n",
    "    for _ in range(h):\n",
    "        graph.append(list(map(int, input().split())))\n",
    "\n",
    "    cnt = 0\n",
    "    for i in range(h):\n",
    "        for j in range(w):\n",
    "            if graph[i][j] == 1:\n",
    "                bfs(i, j)\n",
    "                cnt += 1\n",
    "    print(cnt)"
   ]
  },
  {
   "cell_type": "code",
   "execution_count": null,
   "metadata": {},
   "outputs": [],
   "source": [
    "#1475\n",
    "arr = [0] * 10\n",
    "cnt = 0\n",
    "n = input()\n",
    "\n",
    "for i in n:\n",
    "    arr[int(i)] +=1\n",
    "\n",
    "six_nine = arr.pop(6) + arr.pop(8) #6과 9가 필요한 갯수를 추출하고 삭제\n",
    "\n",
    "if six_nine%2==0 : six_nine = six_nine//2   #6과 9를 통틀어 필요한 개수를 계산\n",
    "else : six_nine = six_nine//2+1\n",
    "\n",
    "if six_nine >= max(arr) : print(six_nine) \n",
    "# 6,9와 나머지 수 중 제일 많이 카운팅된것 비교하여 출력\n",
    "else : print(max(arr))"
   ]
  },
  {
   "cell_type": "code",
   "execution_count": null,
   "metadata": {},
   "outputs": [],
   "source": [
    "#1978\n",
    "n = int(input())\n",
    "numbers = map(int, input().split())\n",
    "sosu = 0\n",
    "for num in numbers:\n",
    "    error = 0\n",
    "    if num > 1 :\n",
    "        for i in range(2, num):  # 2부터 n-1까지\n",
    "            if num % i == 0:\n",
    "                error += 1  # 2부터 n-1까지 나눈 몫이 0이면 error가 증가\n",
    "        if error == 0:\n",
    "            sosu += 1  # error가 없으면 소수.\n",
    "print(sosu)"
   ]
  },
  {
   "cell_type": "code",
   "execution_count": null,
   "metadata": {},
   "outputs": [],
   "source": [
    "#1929\n",
    "def isPrime(num):\n",
    "    if num==1:\n",
    "        return False\n",
    "    else:\n",
    "        for i in range(2,int(num**0.5)+1):\n",
    "            if num%i==0:\n",
    "                return False\n",
    "            return True\n",
    "        \n",
    "m,n=map(int,input().split())\n",
    "for i in range(m,n+1):\n",
    "    if isPrime(i):\n",
    "        print(i)"
   ]
  }
 ],
 "metadata": {
  "kernelspec": {
   "display_name": "Python 3 (ipykernel)",
   "language": "python",
   "name": "python3"
  },
  "language_info": {
   "codemirror_mode": {
    "name": "ipython",
    "version": 3
   },
   "file_extension": ".py",
   "mimetype": "text/x-python",
   "name": "python",
   "nbconvert_exporter": "python",
   "pygments_lexer": "ipython3",
   "version": "3.8.5"
  }
 },
 "nbformat": 4,
 "nbformat_minor": 4
}

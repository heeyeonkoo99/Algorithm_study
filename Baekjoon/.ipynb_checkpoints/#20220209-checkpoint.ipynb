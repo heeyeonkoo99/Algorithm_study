{
 "cells": [
  {
   "cell_type": "code",
   "execution_count": null,
   "metadata": {},
   "outputs": [],
   "source": [
    "#그래프 문제를 풀어본다."
   ]
  },
  {
   "cell_type": "code",
   "execution_count": null,
   "metadata": {},
   "outputs": [],
   "source": [
    "#11724\n",
    "import sys\n",
    "sys.setrecursionlimit(10000)\n",
    "\n",
    "n,m=map(int,input().split())\n",
    "\n",
    "graph=[[] for _ in range(n+1)]\n",
    "graph[0]=[0,0]\n",
    "visited=[False for _ in range(n+1)]\n",
    "\n",
    "count=0\n",
    "\n",
    "for _ in range(m):\n",
    "    start,end=map(int,input().split())ㅂ\n",
    "    graph[start].append(end)\n",
    "    graph[end].append(start)\n",
    "    graph[start].sort()\n",
    "    graph[end].sort()\n",
    "    \n",
    "def dfs(graph,start,visited):\n",
    "    visited[start]=True\n",
    "    \n",
    "    for i in graph[start]:\n",
    "        if not visited[i]:\n",
    "            dfs(graph,i,visited)\n",
    "            \n",
    "for i in range(1,len(visited)):\n",
    "    if visited[i]==False:\n",
    "        count+=1\n",
    "        dfs(graph,i,visited)\n",
    "        \n",
    "print(count)"
   ]
  },
  {
   "cell_type": "code",
   "execution_count": null,
   "metadata": {},
   "outputs": [],
   "source": [
    "#1120\n",
    "#어차피 b가 a보다 길건데 a기준으로 봐주고 나머지부분은 b와 동일하게 a에다가 문자를 더해주면 된다.\n",
    "a,b=input().split()\n",
    "\n",
    "cnts=list()\n",
    "for i in range(len(b)-len(a)+1):\n",
    "    cnt=0\n",
    "    for j in range(len(a)):\n",
    "        if(a[j]!=b[j+i]):\n",
    "            cnt+=1\n",
    "    cnts.append(cnt)\n",
    "    \n",
    "print(min(cnts))"
   ]
  },
  {
   "cell_type": "code",
   "execution_count": null,
   "metadata": {},
   "outputs": [],
   "source": [
    "#7562\n",
    "\n",
    "from collections import deque\n",
    "\n",
    "dx=[-1,-2,-2,-1,1,2,2,1]\n",
    "dy=[2,1,-1,-2,-2,-1,1,2]\n",
    "\n",
    "n=int(input())\n",
    "\n",
    "for i in range(n):\n",
    "    l=int(input())\n",
    "    graph=[]\n",
    "    for i in range(l):\n",
    "        graph.append([0]*l)\n",
    "    queue=deque()\n",
    "    x,y=map(int,input().split())\n",
    "    w,z=map(int,input().split())\n",
    "    queue.append((x,y))\n",
    "    while queue:\n",
    "        x,y=queue.popleft()\n",
    "        if x==w and y==z:\n",
    "            break\n",
    "        for i in range(8):\n",
    "            nx=x+dx[i]\n",
    "            ny=y+dy[i]\n",
    "            if nx<0 or ny<0 or nx>=l or ny>=l:\n",
    "                continue\n",
    "            if graph[nx][ny]==0:\n",
    "                graph[nx][ny]=graph[x][y]+1\n",
    "                queue.append((nx,ny))\n",
    "    print(graph[w][z])"
   ]
  }
 ],
 "metadata": {
  "kernelspec": {
   "display_name": "Python 3 (ipykernel)",
   "language": "python",
   "name": "python3"
  },
  "language_info": {
   "codemirror_mode": {
    "name": "ipython",
    "version": 3
   },
   "file_extension": ".py",
   "mimetype": "text/x-python",
   "name": "python",
   "nbconvert_exporter": "python",
   "pygments_lexer": "ipython3",
   "version": "3.8.5"
  }
 },
 "nbformat": 4,
 "nbformat_minor": 4
}

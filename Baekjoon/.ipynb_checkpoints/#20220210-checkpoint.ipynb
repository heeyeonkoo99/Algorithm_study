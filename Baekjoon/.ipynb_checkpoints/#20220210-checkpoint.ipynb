{
 "cells": [
  {
   "cell_type": "code",
   "execution_count": 3,
   "metadata": {},
   "outputs": [
    {
     "name": "stdout",
     "output_type": "stream",
     "text": [
      "5\n",
      "5\n",
      "4\n",
      "3\n",
      "2\n",
      "1\n",
      "1\n",
      "2\n",
      "3\n",
      "4\n",
      "5\n"
     ]
    }
   ],
   "source": [
    "#2751\n",
    "\n",
    "n=int(input())\n",
    "array=[]\n",
    "for _ in range(n):\n",
    "    array.append(int(input()))\n",
    "array.sort()\n",
    "for i in array:\n",
    "    print(i,end=\"\\n\")"
   ]
  },
  {
   "cell_type": "code",
   "execution_count": 8,
   "metadata": {},
   "outputs": [
    {
     "name": "stdout",
     "output_type": "stream",
     "text": [
      "5\n",
      "4 1 5 2 3\n",
      "5\n",
      "1 3 7 9 5\n",
      "1\n",
      "1\n",
      "0\n",
      "0\n",
      "1\n"
     ]
    }
   ],
   "source": [
    "#1920\n",
    "\n",
    "n=int(input())\n",
    "a=list(map(int,input().split()))\n",
    "\n",
    "m=int(input())\n",
    "b=list(map(int,input().split()))\n",
    "\n",
    "for i in b:\n",
    "    if i not in a:\n",
    "        print(\"0\")\n",
    "    else:\n",
    "        print(\"1\")\n",
    "\n",
    "\n",
    "    \n"
   ]
  },
  {
   "cell_type": "code",
   "execution_count": null,
   "metadata": {},
   "outputs": [],
   "source": [
    "#18352\n",
    "\n",
    "from collections import deque\n",
    "import sys\n",
    "f=sys.stdin.readline\n",
    "\n",
    "n,m,k,x=map(int,f().split())\n",
    "graph=[[] for _ in range(n+1)]\n",
    "distance=[0]*(n+1)\n",
    "visited=[False]*(n+1)\n",
    "\n",
    "for _ in range(m):\n",
    "    a,b=map(int,f().split())\n",
    "    graph[a].append(b)\n",
    "\n",
    "def bfs(start):\n",
    "    answer=[]\n",
    "    q=deque([start])\n",
    "    visited[start]=True\n",
    "    distance[start]=0\n",
    "    while q:\n",
    "        now=q.popleft()\n",
    "        for i in graph[now]:\n",
    "            if not visited[i]:\n",
    "                visited[i]=True\n",
    "                q.append(i)\n",
    "                distance[i]=distance[now]+1\n",
    "                if distance[i]==k:\n",
    "                    answer.append(i)\n",
    "    if len(answer)==0:\n",
    "        print(-1)\n",
    "    else:\n",
    "        answer.sort()\n",
    "        for i in answer:\n",
    "            print(i,end=\"\\n\")\n",
    "bfs(x)\n",
    "    "
   ]
  }
 ],
 "metadata": {
  "kernelspec": {
   "display_name": "Python 3 (ipykernel)",
   "language": "python",
   "name": "python3"
  },
  "language_info": {
   "codemirror_mode": {
    "name": "ipython",
    "version": 3
   },
   "file_extension": ".py",
   "mimetype": "text/x-python",
   "name": "python",
   "nbconvert_exporter": "python",
   "pygments_lexer": "ipython3",
   "version": "3.8.5"
  }
 },
 "nbformat": 4,
 "nbformat_minor": 4
}

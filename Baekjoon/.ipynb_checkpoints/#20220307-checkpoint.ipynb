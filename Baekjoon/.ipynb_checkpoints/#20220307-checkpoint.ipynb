{
 "cells": [
  {
   "cell_type": "code",
   "execution_count": null,
   "metadata": {},
   "outputs": [],
   "source": [
    "#4949\n",
    "while True :\n",
    "    a = input()\n",
    "    stack = []\n",
    "\n",
    "    if a == \".\" :\n",
    "        break\n",
    "\n",
    "    for i in a :\n",
    "        if i == '[' or i == '(' :\n",
    "            stack.append(i)\n",
    "        elif i == ']' :\n",
    "            if len(stack) != 0 and stack[-1] == '[' :\n",
    "                stack.pop() # 맞으면 지워서 stack을 비워줌 0 = yes\n",
    "            else : \n",
    "                stack.append(']')\n",
    "                break\n",
    "        elif i == ')' :\n",
    "            if len(stack) != 0 and stack[-1] == '(' :\n",
    "                stack.pop()\n",
    "            else :\n",
    "                stack.append(')')\n",
    "                break\n",
    "    if len(stack) == 0 :\n",
    "        print('yes')\n",
    "    else :\n",
    "        print('no')"
   ]
  },
  {
   "cell_type": "code",
   "execution_count": null,
   "metadata": {},
   "outputs": [],
   "source": [
    "#10814\n",
    "n=int(input())\n",
    "member_lst=[]\n",
    "\n",
    "for i in range(n):\n",
    "    age,name=map(str,input().split())\n",
    "    age=int(age)\n",
    "    member_lst.append((age,name))\n",
    "\n",
    "member_lst.sort(key=lambda x:x[0])\n",
    "\n",
    "for i in member_lst:\n",
    "    print(i[0],i[1])\n",
    "    \n",
    "#파이썬은 stable정렬을 기본적으로 한다."
   ]
  },
  {
   "cell_type": "code",
   "execution_count": null,
   "metadata": {},
   "outputs": [],
   "source": [
    "#10816\n",
    "from sys import stdin\n",
    "from collections import Counter\n",
    "_ = stdin.readline()\n",
    "N = stdin.readline().split()\n",
    "_ = stdin.readline()\n",
    "M = stdin.readline().split()\n",
    "\n",
    "C = Counter(N)\n",
    "print(' '.join(f'{C[m]}' if m in C else '0' for m in M))"
   ]
  }
 ],
 "metadata": {
  "kernelspec": {
   "display_name": "Python 3 (ipykernel)",
   "language": "python",
   "name": "python3"
  },
  "language_info": {
   "codemirror_mode": {
    "name": "ipython",
    "version": 3
   },
   "file_extension": ".py",
   "mimetype": "text/x-python",
   "name": "python",
   "nbconvert_exporter": "python",
   "pygments_lexer": "ipython3",
   "version": "3.8.5"
  }
 },
 "nbformat": 4,
 "nbformat_minor": 4
}

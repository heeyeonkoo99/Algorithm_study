{
 "cells": [
  {
   "cell_type": "code",
   "execution_count": null,
   "metadata": {},
   "outputs": [],
   "source": [
    "#그리디 문제를 푼다."
   ]
  },
  {
   "cell_type": "code",
   "execution_count": null,
   "metadata": {},
   "outputs": [],
   "source": [
    "#1541\n",
    "a=input().split(\"-\")\n",
    "num=[]\n",
    "for i in a:\n",
    "    cnt=0\n",
    "    s=i.split(\"+\")\n",
    "    for j in s:\n",
    "        cnt+=int(j)\n",
    "    num.append(cnt)\n",
    "    \n",
    "n=num[0]\n",
    "for i in range(1,len(num)):\n",
    "    n-=num[i]\n",
    "    \n",
    "print(n)"
   ]
  },
  {
   "cell_type": "code",
   "execution_count": null,
   "metadata": {},
   "outputs": [],
   "source": [
    "#1026\n",
    "\n",
    "n=int(input())\n",
    "\n",
    "a_list=list(map(int,input().split()))\n",
    "b_list=list(map(int,input().split()))\n",
    "\n",
    "s=0\n",
    "for i in range(n):\n",
    "    s+=min(a_list)*max(b_list)\n",
    "    a_list.pop(a_list.index(min(a_list)))\n",
    "    b_list.pop(b_list.index(max(b_list)))\n",
    "    \n",
    "print(s)"
   ]
  },
  {
   "cell_type": "code",
   "execution_count": null,
   "metadata": {},
   "outputs": [],
   "source": [
    "#1449\n",
    "\n",
    "n,l=map(int,input().split())\n",
    "pl=list(map(int,input().split()))\n",
    "pl.sort()\n",
    "cnt=0\n",
    "tmp=0\n",
    "\n",
    "for p in pl:\n",
    "    if tmp<p:\n",
    "        cnt+=1\n",
    "        tmp=p+l-1\n",
    "print(cnt)"
   ]
  }
 ],
 "metadata": {
  "kernelspec": {
   "display_name": "Python 3 (ipykernel)",
   "language": "python",
   "name": "python3"
  },
  "language_info": {
   "codemirror_mode": {
    "name": "ipython",
    "version": 3
   },
   "file_extension": ".py",
   "mimetype": "text/x-python",
   "name": "python",
   "nbconvert_exporter": "python",
   "pygments_lexer": "ipython3",
   "version": "3.8.5"
  }
 },
 "nbformat": 4,
 "nbformat_minor": 4
}

{
 "cells": [
  {
   "cell_type": "code",
   "execution_count": 5,
   "metadata": {},
   "outputs": [
    {
     "name": "stdout",
     "output_type": "stream",
     "text": [
      "5 3\n",
      "5 4 3 2 1\n",
      "1 3\n",
      "12\n",
      "2 4\n",
      "9\n",
      "5 5\n",
      "1\n"
     ]
    }
   ],
   "source": [
    "#11659-시간초과로 실패\n",
    "\n",
    "n,m=map(int,input().split())\n",
    "arr=list(map(int,input().split()))\n",
    "for _ in range(m):\n",
    "    a,b=map(int,input().split())\n",
    "    total=0\n",
    "    a-=1\n",
    "    b-=1\n",
    "    if a==b:\n",
    "        total+=arr[a]\n",
    "    else:\n",
    "        while a!=b+1:\n",
    "            total+=arr[a]\n",
    "            a+=1\n",
    "    print(total)     "
   ]
  },
  {
   "cell_type": "code",
   "execution_count": null,
   "metadata": {},
   "outputs": [],
   "source": [
    "#11659-prefix sum\n",
    "\n",
    "import sys\n",
    "input=sys.stdin.readline\n",
    "\n",
    "n,m=map(int,input().split())\n",
    "arr=list(map(int,input().split()))\n",
    "prefix_sum=[0]\n",
    "\n",
    "temp=0\n",
    "for i in arr:\n",
    "    temp+=i\n",
    "    prefix_sum.append(temp)\n",
    "    \n",
    "for i in range(m):\n",
    "    a,b=map(int,input().split())\n",
    "    print(prefix_sum[b]-prefix_sum[a-1])"
   ]
  },
  {
   "cell_type": "code",
   "execution_count": null,
   "metadata": {},
   "outputs": [],
   "source": [
    "#11660-dp를 통해 2차원 배열의 누적합을 구하고 빠르게 구간합 출력\n",
    "\n",
    "import sys\n",
    "input=sys.stdin.readline\n",
    "\n",
    "n,m=map(int,input().split())\n",
    "board=[[0]*(n+1)]+[[0]+list(map(int,input().split())) for _ in range(n)]\n",
    "\n",
    "#누적 합 배열 구하기\n",
    "for i in range(1,n+1):\n",
    "    for j in range(1,n+1):\n",
    "        board[i][j]=board[i][j]+board[i-1][j]+board[i][j-1]-board[i-1][j-1]\n",
    "\n",
    "#구간 합 구하기\n",
    "for _ in range(m):\n",
    "    x1,y1,x2,y2=map(int,input().split())\n",
    "    print(board[x2][y2]-board[x1-1][y2]-board[x2][y1-1]+board[x1-1][y1-1])\n",
    "\n"
   ]
  },
  {
   "cell_type": "code",
   "execution_count": null,
   "metadata": {},
   "outputs": [],
   "source": [
    "#2167\n",
    "\n",
    "n,m=map(int,input().split())\n",
    "a=[]\n",
    "dp=[[0]*(m+1) for _ in range(n+1)]\n",
    "\n",
    "for _ in range(n):\n",
    "    a.append(list(map(int,input().split())))\n",
    "for i in range(1,n+1):\n",
    "    for j in range(1,m+1):\n",
    "        dp[i][j]=a[i-1][j-1]+dp[i][j-1]+dp[i-1][j]-dp[i-1][j-1]\n",
    "k=int(input())\n",
    "for _ in range(k):\n",
    "    i,j,x,y=map(int,input().split())\n",
    "    print(dp[x][y]-dp[x][j-1]-dp[i-1][y]+dp[i-1][j-1])"
   ]
  }
 ],
 "metadata": {
  "kernelspec": {
   "display_name": "Python 3 (ipykernel)",
   "language": "python",
   "name": "python3"
  },
  "language_info": {
   "codemirror_mode": {
    "name": "ipython",
    "version": 3
   },
   "file_extension": ".py",
   "mimetype": "text/x-python",
   "name": "python",
   "nbconvert_exporter": "python",
   "pygments_lexer": "ipython3",
   "version": "3.8.5"
  }
 },
 "nbformat": 4,
 "nbformat_minor": 4
}

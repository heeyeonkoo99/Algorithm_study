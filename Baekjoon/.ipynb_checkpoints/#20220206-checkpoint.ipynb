{
 "cells": [
  {
   "cell_type": "code",
   "execution_count": null,
   "metadata": {},
   "outputs": [],
   "source": [
    "#구현문제 위주로 풀어본다."
   ]
  },
  {
   "cell_type": "code",
   "execution_count": null,
   "metadata": {},
   "outputs": [],
   "source": [
    "#7568\n",
    "\n",
    "num_student=int(input())\n",
    "student_list=[]\n",
    "\n",
    "for _ in range(num_student):\n",
    "    weight,height=map(int,input().split())\n",
    "    student_list.append((weight,height))\n",
    "    \n",
    "for i in student_list:\n",
    "    rank=1\n",
    "    for j in student_list:\n",
    "        if i[0]<j[0] and i[1]<j[1]:\n",
    "            rank+=1\n",
    "    print(rank,end=\" \")"
   ]
  },
  {
   "cell_type": "code",
   "execution_count": null,
   "metadata": {},
   "outputs": [],
   "source": [
    "#10773\n",
    "\n",
    "k=int(input())\n",
    "z=[]\n",
    "\n",
    "for i in range(k):\n",
    "    num=int(input())\n",
    "    if num==0:\n",
    "        z.pop()\n",
    "    else:\n",
    "        z.append(num)\n",
    "print(sum(z))\n"
   ]
  },
  {
   "cell_type": "code",
   "execution_count": null,
   "metadata": {},
   "outputs": [],
   "source": [
    "#1316\n",
    "\n",
    "n=int(input())\n",
    "\n",
    "group_word=0\n",
    "for _ in range(n):\n",
    "    word=input()\n",
    "    error=0\n",
    "    for index in range(len(word)-1):\n",
    "        if word[index]!=word[index+1]:\n",
    "            new_word=word[index+1:]\n",
    "            if new_word.count(word[index])>0:\n",
    "                error+=1\n",
    "    if error==0:\n",
    "        group_word+=1\n",
    "print(group_word)\n",
    "    \n",
    "\n"
   ]
  }
 ],
 "metadata": {
  "kernelspec": {
   "display_name": "Python 3 (ipykernel)",
   "language": "python",
   "name": "python3"
  },
  "language_info": {
   "codemirror_mode": {
    "name": "ipython",
    "version": 3
   },
   "file_extension": ".py",
   "mimetype": "text/x-python",
   "name": "python",
   "nbconvert_exporter": "python",
   "pygments_lexer": "ipython3",
   "version": "3.8.5"
  }
 },
 "nbformat": 4,
 "nbformat_minor": 4
}

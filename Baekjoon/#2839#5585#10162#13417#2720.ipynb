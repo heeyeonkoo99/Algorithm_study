{
 "cells": [
  {
   "cell_type": "code",
   "execution_count": null,
   "metadata": {},
   "outputs": [],
   "source": [
    "#2839\n",
    "inp=int(input())\n",
    "box=0\n",
    "while True:\n",
    "    if (inp%5)==0:\n",
    "        box=box+(inp//5)\n",
    "        print(box)\n",
    "        break\n",
    "    inp=inp-3\n",
    "    box+=1\n",
    "    if inp<0:\n",
    "        print(\"-1\")\n",
    "        break"
   ]
  },
  {
   "cell_type": "code",
   "execution_count": 31,
   "metadata": {},
   "outputs": [
    {
     "name": "stdout",
     "output_type": "stream",
     "text": [
      "380\n",
      "4\n"
     ]
    }
   ],
   "source": [
    "#5585\n",
    "money=int(input())\n",
    "array=[500,100,50,10,5,1]\n",
    "\n",
    "rest=1000-money\n",
    "count=0\n",
    "num=0\n",
    "for i in range(len(array)):\n",
    "    if rest>=array[i]:\n",
    "        num=rest//array[i]\n",
    "        rest-=num*array[i]\n",
    "        count+=num\n",
    "        \n",
    "print(count)\n",
    "#------------------------------\n",
    "money=int(input())\n",
    "change=1000-money\n",
    "change_money=[500,100,50,10,5,1]\n",
    "num=0\n",
    "for i in range(6):\n",
    "    coin=change_money[i]\n",
    "    if change>=change_money[i]:\n",
    "        mok=change//coin\n",
    "        change-=coin*mok\n",
    "        num+=mok\n",
    "print(num)"
   ]
  },
  {
   "cell_type": "code",
   "execution_count": null,
   "metadata": {},
   "outputs": [],
   "source": [
    "#10162\n",
    "T = int(input())\n",
    "\n",
    "if T % 10 != 0:\n",
    "    print(-1)\n",
    "else:\n",
    "    A = B = C = 0\n",
    "    A = T // 300\n",
    "    B = (T % 300) // 60\n",
    "    C = (T % 300) % 60 // 10\n",
    "    print(A, B, C)"
   ]
  },
  {
   "cell_type": "code",
   "execution_count": null,
   "metadata": {},
   "outputs": [],
   "source": [
    "#13417\n",
    "def check(array):\n",
    "    start=array[0]\n",
    "    result=[array[0]]\n",
    "    for i in range(1,len(array)):\n",
    "        if ord(array[i])<ord(start):\n",
    "            result.insert(0,array[i])\n",
    "            start=array[i]\n",
    "        else:\n",
    "            result.append(array[i])\n",
    "    print(\"\".join(array))\n",
    "            \n",
    "Test_Case=int(input())\n",
    "for i in Test_Case:\n",
    "    n=int(input())\n",
    "    array=list(map(str,input().split()))\n",
    "    check(array)\n",
    "#----------------------------------------위에는 내가 한건데 틀렸고, 아래는 정답코드이다..내가 왜 틀렸는지 확인해보기..ㅠ\n",
    "T=int(input())\n",
    "for _ in range(T):\n",
    "    N=int(input())\n",
    "    A=list(map(str,input().split()))\n",
    "    \n",
    "    ans=[A[0]]\n",
    "    for i in range(1,len(A)):\n",
    "        left=ans[0]\n",
    "        right=ans[-1]\n",
    "        \n",
    "        if A[i]<=left:\n",
    "            ans.insert(0,A[i])\n",
    "        else:\n",
    "            ans.append(A[i])\n",
    "    print(\"\",join(ans))"
   ]
  },
  {
   "cell_type": "code",
   "execution_count": null,
   "metadata": {},
   "outputs": [],
   "source": [
    "#2720\n",
    "n=int(input())\n",
    "for i in range(n):\n",
    "    money=int(input())\n",
    "    a=money//25\n",
    "    money-=a*25\n",
    "    b=money//10\n",
    "    money-=b*10\n",
    "    c=money//5\n",
    "    money-=c*5\n",
    "    d=money//1\n",
    "    print(a,b,c,d)"
   ]
  }
 ],
 "metadata": {
  "kernelspec": {
   "display_name": "Python 3",
   "language": "python",
   "name": "python3"
  },
  "language_info": {
   "codemirror_mode": {
    "name": "ipython",
    "version": 3
   },
   "file_extension": ".py",
   "mimetype": "text/x-python",
   "name": "python",
   "nbconvert_exporter": "python",
   "pygments_lexer": "ipython3",
   "version": "3.8.5"
  }
 },
 "nbformat": 4,
 "nbformat_minor": 4
}

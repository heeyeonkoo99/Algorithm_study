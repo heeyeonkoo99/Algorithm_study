{
 "cells": [
  {
   "cell_type": "code",
   "execution_count": null,
   "metadata": {},
   "outputs": [],
   "source": [
    "#11727\n",
    "n=int(input())\n",
    "\n",
    "dp=[0,1,3]\n",
    "\n",
    "if n==1:\n",
    "    print(dp[1])\n",
    "elif n==2:\n",
    "    print(dp[2])\n",
    "else:\n",
    "    for i in range(3,n+1):\n",
    "        dp.append(dp[i-1]+dp[i-2]*2)\n",
    "    print(dp[n]%10007)\n",
    "#Review)dp문제를구할때 점화식을 세우고 최적화된 식을 발견해야된다. 연습많이하자."
   ]
  },
  {
   "cell_type": "code",
   "execution_count": 7,
   "metadata": {},
   "outputs": [
    {
     "name": "stdout",
     "output_type": "stream",
     "text": [
      "1\n",
      "9\n"
     ]
    }
   ],
   "source": [
    "#10844\n",
    "N = int(input())\n",
    "\n",
    "dp = [[0]*10 for _ in range(N+1)] #n행에 10열이 있다는 식으로..\n",
    "for i in range(1, 10): \n",
    "    dp[1][i] = 1 \n",
    "    \n",
    "MOD = 1000000000 \n",
    "\n",
    "for i in range(2, N+1): \n",
    "    for j in range(10): \n",
    "        if j == 0: dp[i][j] = dp[i-1][1] \n",
    "        elif j == 9: dp[i][j] = dp[i-1][8] \n",
    "        else: dp[i][j] = dp[i-1][j-1] + dp[i-1][j+1] #j가 1-8까지의 범위일때\n",
    "print(sum(dp[N]) % MOD)\n",
    "#Review) 확실히 난이도가 있다. 하나씩 규칙을 찾으면서 해결하도록 하자. 계속 읽어보기\n",
    "#여기 참고하기:https://cotak.tistory.com/12"
   ]
  },
  {
   "cell_type": "code",
   "execution_count": null,
   "metadata": {},
   "outputs": [],
   "source": [
    "#9012\n",
    "a=int(input())\n",
    "for i in range(a):\n",
    "    b=input()\n",
    "    s=list(b)\n",
    "    sum=0\n",
    "    for i in s:\n",
    "        if i==\"(\":\n",
    "            sum+=1\n",
    "        elif i==\")\":\n",
    "            sum-=1\n",
    "        if sum<0:\n",
    "            print(\"NO\")\n",
    "            break\n",
    "    if sum>0:\n",
    "        print(\"NO\")\n",
    "    elif sum==0:\n",
    "        print(\"YES\")\n",
    "#Review)stack을 사용한다."
   ]
  },
  {
   "cell_type": "code",
   "execution_count": null,
   "metadata": {},
   "outputs": [],
   "source": [
    "#10799\n",
    "bar_razor = list(input())\n",
    "answer = 0\n",
    "stack = []\n",
    "\n",
    "for i in range(len(bar_razor)):\n",
    "    if bar_razor[i] == '(': #스택 쌓기\n",
    "        stack.append('(')\n",
    "        \n",
    "    else:\n",
    "        if bar_razor[i-1] == '(': #()라면 (를 pop하고 현재 스택에 들어있는 ( 수만큼 값을 더해준다.\n",
    "            stack.pop()\n",
    "            answer += len(stack)\n",
    "            \n",
    "        else:\n",
    "            stack.pop() \n",
    "            answer += 1 #끄트머리 막대기 부분을 더해준다\n",
    "\n",
    "print(answer)"
   ]
  },
  {
   "cell_type": "code",
   "execution_count": null,
   "metadata": {},
   "outputs": [],
   "source": [
    "#1476\n",
    "E,S,M,cnt =1,1,1,1\n",
    "\n",
    "i_E , i_S , i_M = map(int,input().split())\n",
    "\n",
    "while(True):\n",
    "    if i_E==E and i_S==S and i_M==M :\n",
    "        break\n",
    "    E+=1 ; S+=1 ; M+=1; cnt+=1\n",
    "    if E>=16 : E-=15\n",
    "    if S>=29 : S-=28\n",
    "    if M>=20 : M-=19\n",
    "\n",
    "\n",
    "\n",
    "print(cnt)\n",
    "#-------------------또다른 풀이\n",
    "e,s,m=map(int,input().split())\n",
    "c=1\n",
    "\n",
    "while True:\n",
    "    if (c-e)%15==0 and (c-s)%28==0 and (c-m)%19==0:\n",
    "        print(c)\n",
    "        break\n",
    "    c+=1\n",
    "\n",
    "#Review)수학적인 문제구현이다."
   ]
  }
 ],
 "metadata": {
  "kernelspec": {
   "display_name": "Python 3",
   "language": "python",
   "name": "python3"
  },
  "language_info": {
   "codemirror_mode": {
    "name": "ipython",
    "version": 3
   },
   "file_extension": ".py",
   "mimetype": "text/x-python",
   "name": "python",
   "nbconvert_exporter": "python",
   "pygments_lexer": "ipython3",
   "version": "3.8.5"
  }
 },
 "nbformat": 4,
 "nbformat_minor": 4
}

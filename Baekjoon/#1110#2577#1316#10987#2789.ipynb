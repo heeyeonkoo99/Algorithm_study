{
 "cells": [
  {
   "cell_type": "code",
   "execution_count": null,
   "metadata": {},
   "outputs": [
    {
     "name": "stdout",
     "output_type": "stream",
     "text": [
      "26\n"
     ]
    }
   ],
   "source": [
    "#1110\n",
    "original_number=str(input())\n",
    "number=original_number\n",
    "sum_number=\"\"\n",
    "new_number=0\n",
    "index=0\n",
    "while True:\n",
    "    for i in range(len(number)):\n",
    "        sum_number+=number[i]\n",
    "    new_number=number[-1]+sum_number[-1]\n",
    "    index+=1\n",
    "    if new_number==original_number:\n",
    "        break\n",
    "print(index)     \n",
    "#아래는 정답풀이이다. 나는 괜히 어렵게 문자열로 변환후 생각했는데 \"//\"와 \"%\"연산자를 잘 활용하면 쉽게 풀수있다.\n",
    "num=int(input())\n",
    "check=num\n",
    "new_num=0\n",
    "temp=0\n",
    "count=0\n",
    "while True:\n",
    "    temp=num//10+ num%10\n",
    "    new_num=(num%10)*10+ temp%10\n",
    "    count+=1\n",
    "    num=new_num\n",
    "    if new_num==check:\n",
    "        break\n",
    "print(count)\n",
    "#Review) 이문제는 int와 str 두가지 방법으로 풀이가능하다. 사실 아래같은 방법으로 하면 내가 원하는 str방법으로 유도될수있다.python은\n",
    "# input()으로 어떤것을받는다 str로 입력된후 list[]로 저장이 된다.\n",
    "n=input()\n",
    "num=n\n",
    "cnt=0\n",
    "\n",
    "while 1:\n",
    "    if len(num)==1:\n",
    "        num=\"0\"+num\n",
    "    plus=str(int(num[0])+int(num[1]))\n",
    "    num=num[-1]+plus[-1]\n",
    "    cnt+=1\n",
    "    if num==n:\n",
    "        print(cnt)\n",
    "        break"
   ]
  },
  {
   "cell_type": "code",
   "execution_count": null,
   "metadata": {},
   "outputs": [],
   "source": [
    "#2577\n",
    "a=int(input())\n",
    "b=int(input())\n",
    "c=int(input())\n",
    "array=[0* 9]\n",
    "\n",
    "result=a*b*c\n",
    "for i in range(len(str(result))):\n",
    "    for j in range(len(array)):\n",
    "        if result[i]==j:\n",
    "            array[j-1]+=1\n",
    "            \n",
    "            \n",
    "for i in range(len(array)):\n",
    "    print(i,end=\"\")\n",
    "#---------위에가 내가 한부분, 아래가 맞는 풀이\n",
    "a = int(input())\n",
    "b = int(input())\n",
    "c = int(input())\n",
    "\n",
    "result = list(str(a * b * c))\n",
    "for i in range(10):\n",
    "    print(result.count(str(i)))"
   ]
  },
  {
   "cell_type": "code",
   "execution_count": null,
   "metadata": {},
   "outputs": [],
   "source": [
    "#1316\n",
    "n=int(input())\n",
    "cnt=0\n",
    "Breaker=False\n",
    "for _ in range(n):\n",
    "    word=str(input())\n",
    "    for i in range(len(word)):\n",
    "        for j in range(i+2,len(word)):\n",
    "            if word[i]==word[j]:\n",
    "                Breaker=True\n",
    "                break\n",
    "        if Breaker==True:\n",
    "            break\n",
    "        else:\n",
    "            cnt+=1\n",
    "print(cnt)\n",
    "#---------위에가 내가 한부분, 아래가 맞는 풀이\n",
    "n=int(input())\n",
    "\n",
    "group_word=0\n",
    "for _ in range(n):\n",
    "    word=input()\n",
    "    error=0\n",
    "    for index in range(len(word)-1):\n",
    "        if word[index]!=word[index+1]:\n",
    "            new_word=word[index+1:]\n",
    "            if new_word.count(word[index])>0:\n",
    "                error+=1\n",
    "    if error==0:\n",
    "        group_word+=1\n",
    "print(group_word)"
   ]
  },
  {
   "cell_type": "code",
   "execution_count": null,
   "metadata": {},
   "outputs": [],
   "source": [
    "#10987\n",
    "word=str(input())\n",
    "cnt=0\n",
    "for i in word:\n",
    "    if i=='a' or i=='e'or i=='i' or i=='o' or i=='u':\n",
    "        cnt+=1\n",
    "print(cnt)"
   ]
  },
  {
   "cell_type": "code",
   "execution_count": null,
   "metadata": {},
   "outputs": [],
   "source": [
    "#2789\n",
    "word=str(input())\n",
    "array=['C','A','M','B','R','I','D','G','E']\n",
    "for i in word:\n",
    "    for j in array:\n",
    "        if i==j:\n",
    "            word=word[0:i]+word[i+1:]\n",
    "print(word)\n",
    "#---------위에가 내가 한부분, 아래가 맞는 풀이\n",
    "a=\"CAMBRIDGE\"\n",
    "s=list(input())\n",
    "for i in a:\n",
    "    for j in range(len(s)):\n",
    "        if i==s[j]:\n",
    "            s[j]=\"\"\n",
    "for i in s:\n",
    "    print(i,end=\"\")"
   ]
  }
 ],
 "metadata": {
  "kernelspec": {
   "display_name": "Python 3",
   "language": "python",
   "name": "python3"
  },
  "language_info": {
   "codemirror_mode": {
    "name": "ipython",
    "version": 3
   },
   "file_extension": ".py",
   "mimetype": "text/x-python",
   "name": "python",
   "nbconvert_exporter": "python",
   "pygments_lexer": "ipython3",
   "version": "3.8.5"
  }
 },
 "nbformat": 4,
 "nbformat_minor": 4
}

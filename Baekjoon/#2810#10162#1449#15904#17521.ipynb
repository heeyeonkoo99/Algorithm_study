{
 "cells": [
  {
   "cell_type": "code",
   "execution_count": 4,
   "metadata": {},
   "outputs": [
    {
     "name": "stdout",
     "output_type": "stream",
     "text": [
      "9\n",
      "SLLLLSSLL\n",
      "7\n"
     ]
    }
   ],
   "source": [
    "#2810\n",
    "n=int(input())\n",
    "seat=input()\n",
    "result=0\n",
    "seat_L=0\n",
    "for i in seat:\n",
    "    if i==\"L\":\n",
    "        seat_L+=1\n",
    "seat_L/=2\n",
    "result=int((n-seat_L)+1)\n",
    "print(min(n,result))\n",
    "#Review) 문제를 접근할때 가능한 경우를 다 고려해보자. 내가 이문제에서 놓친것은 커플석이 하나도 없는 경우\n",
    "#n을 출력해야함이다.\n",
    "#아래가 맞는 풀이이다.(=>내 코드도 고쳐서 위에꺼도 맞다)\n",
    "\n",
    "N = int(input()) \n",
    "member = input() \n",
    "count = member.count('LL')\n",
    "if (count <= 1): print(len(member))\n",
    "else: print(len(member) - count + 1)\n",
    "\n",
    "#정답이 사람수보다 많으면 컵홀더에 컵을 꽂을 수 있는 최대인원을 구하는 문제이므로 정답은 사람수가 된다. \n"
   ]
  },
  {
   "cell_type": "code",
   "execution_count": 11,
   "metadata": {},
   "outputs": [
    {
     "name": "stdout",
     "output_type": "stream",
     "text": [
      "100\n",
      "0 1 4\n"
     ]
    }
   ],
   "source": [
    "#10162\n",
    "T=int(input())\n",
    "a=0\n",
    "b=0\n",
    "c=0\n",
    "if T>=300:\n",
    "    a+=T//300\n",
    "    T=T%300\n",
    "if T>=60:\n",
    "    b+=T//60\n",
    "    T=T%60\n",
    "if T>=10:\n",
    "    c+=T//10\n",
    "    T=T%10\n",
    "if T!=0:\n",
    "    print(\"-1\")\n",
    "else:print(a,b,c)"
   ]
  },
  {
   "cell_type": "code",
   "execution_count": null,
   "metadata": {},
   "outputs": [],
   "source": [
    "#1449\n",
    "n,l=map(int,input().split())\n",
    "s=list(map(int,input().split()))\n",
    "s.sort()\n",
    "start=s[0]\n",
    "end=s[0]+l\n",
    "cnt=1\n",
    "for i in range(n):\n",
    "    if start<=s[i]<end:\n",
    "        continue\n",
    "    else:\n",
    "        start=s[i]\n",
    "        end=s[i]+l\n",
    "        cnt+=1\n",
    "print(cnt)\n",
    "#-----또다른 풀이\n",
    "n,l=map(int,input().split())\n",
    "pl=list(map(int,input().split()))\n",
    "pl.sort()\n",
    "cnt=0\n",
    "tmp=0\n",
    "for p in pl:\n",
    "    if tmp<p:\n",
    "        cnt+=1\n",
    "        tmp=p+l-1\n",
    "print(cnt)\n",
    "#-----또다른 풀이\n",
    "n,l=map(int,input().split())\n",
    "rocate=list(map(int,input().split()))\n",
    "rocate.sort()\n",
    "tmp=rocate[0]\n",
    "answer=1\n",
    "for i in range(1,n):\n",
    "    if rocate[i]-tmp>=l:\n",
    "        answer+=1\n",
    "        tmp=rocate[i]\n",
    "print(answer)\n",
    "#-----또다른 풀이        \n",
    "n, l = map(int, input().split())\n",
    "p = sorted(list(map(int, input().split())))\n",
    "\n",
    "def tape(p, l):\n",
    "    count = 1\n",
    "    start = p[0]\n",
    "    for i in range(len(p)):\n",
    "        if p[i] - start > l - 1:\n",
    "            count += 1\n",
    "            start = p[i]\n",
    "    return count\n",
    "\n",
    "print(tape(p, l))"
   ]
  },
  {
   "cell_type": "code",
   "execution_count": 24,
   "metadata": {},
   "outputs": [
    {
     "name": "stdout",
     "output_type": "stream",
     "text": [
      "Union of Computer Programming Contest club contest\n",
      "I love UCPC\n"
     ]
    }
   ],
   "source": [
    "#15904\n",
    "sentence=input()\n",
    "check_list=[\"U\",'C','P','C']\n",
    "check=True\n",
    "\n",
    "for i in range(len(check_list)):\n",
    "    if check_list[i] in sentence:\n",
    "        check=True\n",
    "        idx=sentence.find(check_list[i])\n",
    "        sentence=sentence[idx+1:]\n",
    "    else:\n",
    "        check=False\n",
    "        break\n",
    "if check==True:\n",
    "    print(\"I love UCPC\")\n",
    "else:\n",
    "    print(\"I hate UCPC\")\n",
    "#Review) 문자열을 하나씩 슬라이싱해서 그 이후 문자를 찾아보는 방식으로 한다. bool문을 사용한다.이게 반드시 index[0]을 할필요가 없는것같다."
   ]
  },
  {
   "cell_type": "code",
   "execution_count": null,
   "metadata": {},
   "outputs": [],
   "source": [
    "#17521\n",
    "import sys\n",
    "\n",
    "n, w = map(int, sys.stdin.readline().split( ))\n",
    "cash = [int(sys.stdin.readline()) for _ in range(n)]\n",
    "coin = 0\n",
    "result = []\n",
    "for i in range(1,n):\n",
    "    if coin == 0:\n",
    "        if cash[i-1] < cash[i]:\n",
    "            coin = coin + (w // cash[i-1])\n",
    "            w = w - (coin * cash[i-1])\n",
    "    elif (coin != 0) and cash[i-1] > cash[i]:\n",
    "            w = w + (coin * cash[i-1])\n",
    "            coin = 0\n",
    "\n",
    "print(w + (coin * cash[n-1]))\n",
    "\n",
    "#Review) 문제를 읽는 것에서 애를 먹었다..ㅠ 이 문제는 투자를 해서 돈을 가장 많이 벌었을때의 금액을 구하는\n",
    "#문제로, 그래프가 내려갈때는 판매를 하고 올라갈떄는 구매를 해서 계산해주면 된다.\n",
    "#-----아래는 다른 풀이\n",
    "n,w=map(int,input().split())\n",
    "price=[]\n",
    "num=0\n",
    "for _ in range(n):\n",
    "    price.append(int(input()))\n",
    "    \n",
    "for i in range(n-1):\n",
    "    if price[i]<price[i+1]:\n",
    "        if w//price[i]>0:\n",
    "            num=w//price[i]\n",
    "            w-=num*price[i]\n",
    "    elif price[i]>price[i-1]:\n",
    "        w+=num*price[i]\n",
    "        num=0\n",
    "if num>0:\n",
    "    w+=num*price[-1] #여기서 제일 마지막에 무조건 판매해야 하니 남은 Num개수만큼 마지막 price가격에 곱해주고 더해준다.\n",
    "print(w)"
   ]
  }
 ],
 "metadata": {
  "kernelspec": {
   "display_name": "Python 3",
   "language": "python",
   "name": "python3"
  },
  "language_info": {
   "codemirror_mode": {
    "name": "ipython",
    "version": 3
   },
   "file_extension": ".py",
   "mimetype": "text/x-python",
   "name": "python",
   "nbconvert_exporter": "python",
   "pygments_lexer": "ipython3",
   "version": "3.8.5"
  }
 },
 "nbformat": 4,
 "nbformat_minor": 4
}

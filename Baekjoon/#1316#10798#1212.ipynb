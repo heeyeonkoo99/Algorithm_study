{
 "cells": [
  {
   "cell_type": "code",
   "execution_count": null,
   "metadata": {},
   "outputs": [],
   "source": [
    "#1316\n",
    "n=int(input())\n",
    "answer=0\n",
    "for _ in range(n):\n",
    "    word=input()\n",
    "    for j in range(len(word)):\n",
    "        if j!=len(word)-1:\n",
    "            if word[j]==word[j+1]:\n",
    "                pass\n",
    "            elif word[j] in word[j+1:]:\n",
    "                break\n",
    "        else:\n",
    "            answer+=1\n",
    "print(answer)"
   ]
  },
  {
   "cell_type": "code",
   "execution_count": null,
   "metadata": {},
   "outputs": [],
   "source": [
    "#10798\n",
    "c = [[0] * 15 for i in range(5)]\n",
    "for i in range(5):\n",
    "    d = list(input())\n",
    "    d_len = len(d)\n",
    "    for j in range(d_len):\n",
    "        c[i][j] = d[j]\n",
    "for i in range(15):\n",
    "    for j in range(5):\n",
    "        if c[j][i] == 0:\n",
    "            continue;\n",
    "        else:\n",
    "            print(c[j][i], end='')\n",
    "#Review) 2차원 배열을 만들어줘서 해결한다."
   ]
  },
  {
   "cell_type": "code",
   "execution_count": null,
   "metadata": {},
   "outputs": [],
   "source": [
    "#1212\n",
    "print(bin(int(input(), 8)[2:])"
   ]
  }
 ],
 "metadata": {
  "kernelspec": {
   "display_name": "Python 3",
   "language": "python",
   "name": "python3"
  },
  "language_info": {
   "codemirror_mode": {
    "name": "ipython",
    "version": 3
   },
   "file_extension": ".py",
   "mimetype": "text/x-python",
   "name": "python",
   "nbconvert_exporter": "python",
   "pygments_lexer": "ipython3",
   "version": "3.8.5"
  }
 },
 "nbformat": 4,
 "nbformat_minor": 4
}

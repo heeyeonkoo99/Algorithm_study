{
 "cells": [
  {
   "cell_type": "code",
   "execution_count": null,
   "metadata": {},
   "outputs": [],
   "source": [
    "#1284\n",
    "\n",
    "while True:\n",
    "    n=input()\n",
    "    if n==\"0\":\n",
    "        break\n",
    "    result=len(n)+1\n",
    "    for i in n:\n",
    "        \n",
    "        if i==\"0\":\n",
    "            result+=4\n",
    "        elif i==\"1\":\n",
    "            result+=2\n",
    "        else:\n",
    "            result+=3\n",
    "    print(result)\n",
    "#Review) import sys를 굳이 써주지 않고 바로 while로 들어가야지 백준에서 에러가 안뜬다. 코드를 간결하게 쓰는것이중요해보인다."
   ]
  },
  {
   "cell_type": "code",
   "execution_count": null,
   "metadata": {},
   "outputs": [],
   "source": [
    "#1333\n",
    "n,l,d=map(int,input().split())\n",
    "t,ans=0,d\n",
    "for _ in range(n):\n",
    "    if t<=ans<t+l: #노래울릴때 벨이 울리는 상황..\n",
    "        while ans<t+l:ans+=d #여기서 벨을 계속 울릴수 있도록 한다..?\n",
    "    if t+l<=ans<t+l+5: #범위넘어가면 break 걸어주기!\n",
    "        break\n",
    "    t+=l+5\n",
    "print(ans)\n",
    "#Review) 이문제는 c++로 벡터로 상태를 각각 1,0으로 담아서 그중 벨이 울리는 경우가 매치되면 프린트하는 방식으로 하는것이 훨씬 간단해보인다.."
   ]
  },
  {
   "cell_type": "code",
   "execution_count": null,
   "metadata": {},
   "outputs": [],
   "source": [
    "#2812\n",
    "import sys\n",
    "input = sys.stdin.readline()\n",
    "n, k = map(int, input().split())\n",
    "s = list(input().strip())\n",
    "t, tk = [], k\n",
    "for i in range(n):\n",
    "    while tk > 0 and t and t[-1] < s[i]:\n",
    "        del t[-1]\n",
    "        tk -= 1\n",
    "    t.append(s[i])\n",
    "print(''.join(t[:n - k]))\n",
    "#Review) 스택을 사용하지 않으면 시간 초과가 나온다. 제일 큰 수로 만들려면 앞에 있는 작은 수부터 없애야 한다는것이 핵심이다.\n",
    "#그리고 약간의 sorting 느낌이 있다. 그리고 while문을 if로 바꾸면 안된다.일단 다추가해준다음 while문을 생각해줘도 될듯싶다."
   ]
  },
  {
   "cell_type": "code",
   "execution_count": null,
   "metadata": {},
   "outputs": [],
   "source": []
  }
 ],
 "metadata": {
  "kernelspec": {
   "display_name": "Python 3",
   "language": "python",
   "name": "python3"
  },
  "language_info": {
   "codemirror_mode": {
    "name": "ipython",
    "version": 3
   },
   "file_extension": ".py",
   "mimetype": "text/x-python",
   "name": "python",
   "nbconvert_exporter": "python",
   "pygments_lexer": "ipython3",
   "version": "3.8.5"
  }
 },
 "nbformat": 4,
 "nbformat_minor": 4
}

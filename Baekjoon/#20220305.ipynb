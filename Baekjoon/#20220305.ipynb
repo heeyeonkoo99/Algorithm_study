{
 "cells": [
  {
   "cell_type": "code",
   "execution_count": null,
   "metadata": {},
   "outputs": [],
   "source": [
    "#11723\n",
    "import sys\n",
    "\n",
    "s=set()\n",
    "n=int(input())\n",
    "\n",
    "for i in range(n):\n",
    "    tmp=sys.stdin.readline().strip().split()\n",
    "    \n",
    "    if len(tmp)==1: #command만 있을 경우\n",
    "        if tmp[0]=='all':\n",
    "            s=set([i for i in range(1,21)])\n",
    "        else:\n",
    "            s=set()\n",
    "        continue\n",
    "        \n",
    "    #command와 target이 존재할 때\n",
    "    command,target=tmp[0],tmp[1]\n",
    "    target=int(target)\n",
    "    \n",
    "    if command=='add':\n",
    "        s.add(target)\n",
    "    elif command=='check':\n",
    "        print(1 if target in s else 0)\n",
    "    elif command=='remove':\n",
    "        s.discard(target)\n",
    "    elif command=='toggle':\n",
    "        if target in s:\n",
    "            s.discard(target)\n",
    "        else:\n",
    "            s.add(target)\n",
    "    "
   ]
  },
  {
   "cell_type": "code",
   "execution_count": null,
   "metadata": {},
   "outputs": [],
   "source": [
    "#1292\n",
    "\n",
    "a,b=map(int,input().split())\n",
    "\n",
    "arr=[0]\n",
    "for i in range(46):\n",
    "    for j in range(i):\n",
    "        arr.append(i)\n",
    "        \n",
    "print(sum(arr[a:b+1]))"
   ]
  },
  {
   "cell_type": "code",
   "execution_count": null,
   "metadata": {},
   "outputs": [],
   "source": [
    "#prefix sum\n",
    "n=5\n",
    "data=[10,20,30,40,50]\n",
    "\n",
    "sum_value=0\n",
    "prefix_sum=[0]\n",
    "for i in data:\n",
    "    sum_value+=i\n",
    "    prefix_sum.append(sum_value)\n",
    "    \n",
    "left=3\n",
    "right=4\n",
    "print(prefix_sum[right]-prefix_sum[left-1])"
   ]
  },
  {
   "cell_type": "code",
   "execution_count": null,
   "metadata": {},
   "outputs": [],
   "source": [
    "#1436\n",
    "n=int(input())\n",
    "cnt=0\n",
    "six_n=666\n",
    "while True:\n",
    "    if '666' in str(six_n):\n",
    "        cnt+=1\n",
    "    if cnt==n:\n",
    "        print(six_n)\n",
    "        break\n",
    "    six_n+=1\n",
    "    \n",
    "#brute force(완전 탐색)이고 하나씩 찾는 방법이다."
   ]
  }
 ],
 "metadata": {
  "kernelspec": {
   "display_name": "Python 3 (ipykernel)",
   "language": "python",
   "name": "python3"
  },
  "language_info": {
   "codemirror_mode": {
    "name": "ipython",
    "version": 3
   },
   "file_extension": ".py",
   "mimetype": "text/x-python",
   "name": "python",
   "nbconvert_exporter": "python",
   "pygments_lexer": "ipython3",
   "version": "3.8.5"
  }
 },
 "nbformat": 4,
 "nbformat_minor": 4
}

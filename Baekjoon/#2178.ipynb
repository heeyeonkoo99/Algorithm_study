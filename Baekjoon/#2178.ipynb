{
 "cells": [
  {
   "cell_type": "code",
   "execution_count": null,
   "metadata": {},
   "outputs": [],
   "source": [
    "n, m = map(int, input().split())\n",
    "s = []\n",
    "queue = []\n",
    "dx = [1, -1, 0, 0]\n",
    "dy = [0, 0, -1, 1]\n",
    "for i in range(n):\n",
    "    s.append(list(input()))\n",
    "queue = [[0, 0]]\n",
    "s[0][0] = 1\n",
    "while queue:\n",
    "    a, b = queue[0][0], queue[0][1]\n",
    "    del queue[0]\n",
    "    for i in range(4):\n",
    "        x = a + dx[i]\n",
    "        y = b + dy[i]\n",
    "        if 0 <= x < n and 0 <= y < m and s[x][y] == \"1\":\n",
    "            queue.append([x, y])\n",
    "            s[x][y] = s[a][b] + 1\n",
    "print(s[n - 1][m - 1])"
   ]
  }
 ],
 "metadata": {
  "kernelspec": {
   "display_name": "Python 3",
   "language": "python",
   "name": "python3"
  },
  "language_info": {
   "codemirror_mode": {
    "name": "ipython",
    "version": 3
   },
   "file_extension": ".py",
   "mimetype": "text/x-python",
   "name": "python",
   "nbconvert_exporter": "python",
   "pygments_lexer": "ipython3",
   "version": "3.8.5"
  }
 },
 "nbformat": 4,
 "nbformat_minor": 4
}

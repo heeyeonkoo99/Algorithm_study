{
 "cells": [
  {
   "cell_type": "code",
   "execution_count": 24,
   "metadata": {},
   "outputs": [
    {
     "ename": "ValueError",
     "evalue": "invalid literal for int() with base 10: ''",
     "output_type": "error",
     "traceback": [
      "\u001b[1;31m---------------------------------------------------------------------------\u001b[0m",
      "\u001b[1;31mValueError\u001b[0m                                Traceback (most recent call last)",
      "\u001b[1;32m<ipython-input-24-efa565d7faa1>\u001b[0m in \u001b[0;36m<module>\u001b[1;34m\u001b[0m\n\u001b[0;32m      1\u001b[0m \u001b[1;32mimport\u001b[0m \u001b[0msys\u001b[0m\u001b[1;33m\u001b[0m\u001b[1;33m\u001b[0m\u001b[0m\n\u001b[0;32m      2\u001b[0m \u001b[1;32mfrom\u001b[0m \u001b[0mcollections\u001b[0m \u001b[1;32mimport\u001b[0m \u001b[0mCounter\u001b[0m\u001b[1;33m\u001b[0m\u001b[1;33m\u001b[0m\u001b[0m\n\u001b[1;32m----> 3\u001b[1;33m \u001b[0mn\u001b[0m \u001b[1;33m=\u001b[0m \u001b[0mint\u001b[0m\u001b[1;33m(\u001b[0m\u001b[0msys\u001b[0m\u001b[1;33m.\u001b[0m\u001b[0mstdin\u001b[0m\u001b[1;33m.\u001b[0m\u001b[0mreadline\u001b[0m\u001b[1;33m(\u001b[0m\u001b[1;33m)\u001b[0m\u001b[1;33m)\u001b[0m\u001b[1;33m\u001b[0m\u001b[1;33m\u001b[0m\u001b[0m\n\u001b[0m\u001b[0;32m      4\u001b[0m \u001b[0mnums\u001b[0m \u001b[1;33m=\u001b[0m \u001b[1;33m[\u001b[0m\u001b[1;33m]\u001b[0m\u001b[1;33m\u001b[0m\u001b[1;33m\u001b[0m\u001b[0m\n\u001b[0;32m      5\u001b[0m \u001b[1;32mfor\u001b[0m \u001b[0mi\u001b[0m \u001b[1;32min\u001b[0m \u001b[0mrange\u001b[0m\u001b[1;33m(\u001b[0m\u001b[0mn\u001b[0m\u001b[1;33m)\u001b[0m\u001b[1;33m:\u001b[0m\u001b[1;33m\u001b[0m\u001b[1;33m\u001b[0m\u001b[0m\n",
      "\u001b[1;31mValueError\u001b[0m: invalid literal for int() with base 10: ''"
     ]
    }
   ],
   "source": [
    "#2108\n",
    "import sys\n",
    "from collections import Counter\n",
    "n = int(sys.stdin.readline())\n",
    "nums = []\n",
    "for i in range(n):\n",
    "    nums.append(int(sys.stdin.readline()))\n",
    "nums.sort()\n",
    "nums_s = Counter(nums).most_common()\n",
    "print(round(sum(nums) / n))\n",
    "print(nums[n // 2])\n",
    "if len(nums_s) > 1:\n",
    "    if nums_s[0][1] == nums_s[1][1]:\n",
    "        print(nums_s[1][0])\n",
    "    else:\n",
    "        print(nums_s[0][0])\n",
    "else:\n",
    "    print(nums_s[0][0])\n",
    "print(nums[-1] - nums[0])\n",
    "#Review)최빈값구하기가 어렵다.. collections모듈을 사용한다.그중 most_common()함수를 사용한다."
   ]
  },
  {
   "cell_type": "code",
   "execution_count": null,
   "metadata": {},
   "outputs": [],
   "source": [
    "#2960\n",
    "n,k=map(int,input().split())\n",
    "cnt=0\n",
    "nums=[True]*(n+1)\n",
    "for i in range(2,len(nums)+1):\n",
    "    for j in range(i,n+1,i):\n",
    "        if nums[j]==True:\n",
    "            nums[j]=False\n",
    "            cnt+=1\n",
    "            if cnt==k:\n",
    "                print(j)\n",
    "                break\n",
    "#Review) 에라토스테네스의 체문제로 이중 for문을 이용하는데 j+=i로 j를 i의 배수로 증가시키면서 찾는다."
   ]
  },
  {
   "cell_type": "code",
   "execution_count": null,
   "metadata": {},
   "outputs": [],
   "source": [
    "#3181\n",
    "sentence=str(input())\n",
    "word=sentence.split(\" \")\n",
    "new_word=[]\n",
    "result=[]\n",
    "for i in word:\n",
    "    if i==\"i\" or i==\"pa\" or i==\"ni\" or i==\"niti\" or i==\"a\" or i==\"ali\" or i==\"nego\" or i==\"no\" or i==\"ili\" or i==\"te\":\n",
    "        if word.index(i)==0:\n",
    "            new_word.append(i)\n",
    "        else:\n",
    "            continue\n",
    "    else:\n",
    "        new_word.append(i)\n",
    "for i in new_word:\n",
    "    i=i.upper()\n",
    "    result.append(i[0])\n",
    "print(\"\".join(result))\n",
    "#Review) 너무 쉬운것만 골라풀지말자..string함수와 list join,splice 공부하기"
   ]
  }
 ],
 "metadata": {
  "kernelspec": {
   "display_name": "Python 3",
   "language": "python",
   "name": "python3"
  },
  "language_info": {
   "codemirror_mode": {
    "name": "ipython",
    "version": 3
   },
   "file_extension": ".py",
   "mimetype": "text/x-python",
   "name": "python",
   "nbconvert_exporter": "python",
   "pygments_lexer": "ipython3",
   "version": "3.8.5"
  }
 },
 "nbformat": 4,
 "nbformat_minor": 4
}

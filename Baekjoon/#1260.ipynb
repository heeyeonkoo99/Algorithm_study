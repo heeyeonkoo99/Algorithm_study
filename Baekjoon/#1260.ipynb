{
 "cells": [
  {
   "cell_type": "code",
   "execution_count": null,
   "metadata": {},
   "outputs": [],
   "source": [
    "from collections import deque\n",
    "\n",
    "def dfs(v):\n",
    "    print(v,end='')\n",
    "    visit[v]=1\n",
    "    for i in range(1,n+1):\n",
    "        if visit[i]==0 and adj[v][i]==1:\n",
    "            dfs(i)\n",
    "def bfs(v):\n",
    "    queue=deque()\n",
    "    visit[v]=1\n",
    "    queue.append(v)\n",
    "    while(queue):\n",
    "        v=queue.popleft()\n",
    "        print(v,end='')\n",
    "        for i in range(1,n+1):\n",
    "            if visit[i]==0 and  adj[v][i]==1:\n",
    "                queue.append(i)\n",
    "                visit[i]=1\n",
    "                \n",
    "# 입력 n: 정점의 개수, m:간선의 개수,v:탐색을 시작할 정점의 번호\n",
    "n,m,v=map(int,input().split())\n",
    "adj=[[0]*(n+1) for i in range(n+1)]\n",
    "visit=[0 for _ in range(n+1)]\n",
    "for i in range(m):\n",
    "    x,y=map(int,input().split())\n",
    "    adj[x][y]=1\n",
    "    adj[y][x]=1\n",
    "    \n",
    "#출력\n",
    "dfs(v)\n",
    "print()\n",
    "\n",
    "visit=[0 for i in range(n+1)]\n",
    "bfs(v)"
   ]
  }
 ],
 "metadata": {
  "kernelspec": {
   "display_name": "Python 3",
   "language": "python",
   "name": "python3"
  },
  "language_info": {
   "codemirror_mode": {
    "name": "ipython",
    "version": 3
   },
   "file_extension": ".py",
   "mimetype": "text/x-python",
   "name": "python",
   "nbconvert_exporter": "python",
   "pygments_lexer": "ipython3",
   "version": "3.8.5"
  }
 },
 "nbformat": 4,
 "nbformat_minor": 4
}

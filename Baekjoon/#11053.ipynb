{
 "cells": [
  {
   "cell_type": "code",
   "execution_count": null,
   "metadata": {},
   "outputs": [],
   "source": [
    "#LSI ALGORITHM 사용!\n",
    "x=int(input())\n",
    "\n",
    "arr=list(map(int,input().split()))\n",
    "\n",
    "dp=[1 for i in range(x)]\n",
    "\n",
    "for i in range(x):\n",
    "    for j in range(i):\n",
    "        if arr[i]>arr[j]:\n",
    "            dp[i]=max(dp[i],dp[j]+1)\n",
    "            \n",
    "print(max(dp))"
   ]
  },
  {
   "cell_type": "code",
   "execution_count": null,
   "metadata": {},
   "outputs": [],
   "source": [
    "#이렇게도 풀수있다\n",
    "import sys\n",
    "\n",
    "n=int(sys.stdin.readline())\n",
    "\n",
    "num_list=list(map(int,sys.stdin.readline().split()))\n",
    "\n",
    "result=[0 for _ in range(n)]\n",
    "result[0]=1\n",
    "for i in range(n):\n",
    "    max_value=0\n",
    "    for j in range(i):\n",
    "        if num_list[i]>num_list[j]: #현재수보다 작은수중에서\n",
    "            if max_value<result[j]: #최댓값을 찾아서\n",
    "                max_value=result[j]\n",
    "    result[i]=max_value+1 #최댓값에 1을 더해준다 없다면 1\n",
    "\n",
    "print(max(result))"
   ]
  }
 ],
 "metadata": {
  "kernelspec": {
   "display_name": "Python 3",
   "language": "python",
   "name": "python3"
  },
  "language_info": {
   "codemirror_mode": {
    "name": "ipython",
    "version": 3
   },
   "file_extension": ".py",
   "mimetype": "text/x-python",
   "name": "python",
   "nbconvert_exporter": "python",
   "pygments_lexer": "ipython3",
   "version": "3.8.5"
  }
 },
 "nbformat": 4,
 "nbformat_minor": 4
}
